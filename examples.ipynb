{
 "cells": [
  {
   "cell_type": "code",
   "execution_count": 1,
   "metadata": {},
   "outputs": [],
   "source": [
    "import pywikiscraper as py\n"
   ]
  },
  {
   "cell_type": "code",
   "execution_count": 2,
   "metadata": {},
   "outputs": [
    {
     "name": "stdout",
     "output_type": "stream",
     "text": [
      "[['1', 'Properties'], ['2', 'Materials'], ['2.1', 'Preparation of semiconductor materials'], ['3', 'Physics of semiconductors'], ['3.1', 'Energy bands and electrical conduction'], ['3.2', 'Charge carriers (electrons and holes)'], ['3.2.1', 'Carrier generation and recombination'], ['3.3', 'Doping'], ['3.4', 'Amorphous semiconductors'], ['4', 'Early history of semiconductors'], ['5', 'See also'], ['6', 'References'], ['7', 'Further reading'], ['8', 'External links']]\n"
     ]
    },
    {
     "name": "stderr",
     "output_type": "stream",
     "text": [
      "E:\\anaconda\\lib\\site-packages\\urllib3\\connectionpool.py:857: InsecureRequestWarning: Unverified HTTPS request is being made. Adding certificate verification is strongly advised. See: https://urllib3.readthedocs.io/en/latest/advanced-usage.html#ssl-warnings\n",
      "  InsecureRequestWarning)\n"
     ]
    }
   ],
   "source": [
    "var = py.scrape('https://en.wikipedia.org/wiki/Semiconductor')"
   ]
  },
  {
   "cell_type": "code",
   "execution_count": 3,
   "metadata": {},
   "outputs": [
    {
     "data": {
      "text/plain": [
       "['Main article: List of semiconductor materials',\n",
       " '  Silicon crystals are the most common semiconducting materials used in microelectronics and photovoltaics.',\n",
       " 'A large number of elements and compounds have semiconducting properties, including:[7]\\n',\n",
       " 'Certain pure elements are found in Group 14 of the periodic table; the most commercially important of these elements are silicon and germanium. Silicon and germanium are used here effectively because they have 4 valence electrons in their outermost shell which gives them the ability to gain or lose electrons equally at the same time.\\nBinary compounds, particularly between elements in Groups 13 and 15, such as gallium arsenide, Groups 12 and 16, groups 14 and 16, and between different group 14 elements, e.g. silicon carbide.\\nCertain ternary compounds, oxides and alloys.\\nOrganic semiconductors, made of organic compounds.',\n",
       " 'Most common semiconducting materials are crystalline solids, but amorphous and liquid semiconductors are also known. These include hydrogenated amorphous silicon and mixtures of arsenic, selenium and tellurium in a variety of proportions. These compounds share with better known semiconductors the properties of intermediate conductivity and a rapid variation of conductivity with temperature, as well as occasional negative resistance. Such disordered materials lack the rigid crystalline structure of conventional semiconductors such as silicon. They are generally used in thin film structures, which do not require material of higher electronic quality, being relatively insensitive to impurities and radiation damage.\\n']"
      ]
     },
     "execution_count": 3,
     "metadata": {},
     "output_type": "execute_result"
    }
   ],
   "source": [
    "var.find_by_name('Materials')"
   ]
  },
  {
   "cell_type": "code",
   "execution_count": 4,
   "metadata": {},
   "outputs": [
    {
     "data": {
      "text/plain": [
       "[\"Almost all of today's electronic technology involves the use of semiconductors, with the most important aspect being the integrated circuit (IC), which are found in laptops, scanners, cell-phones, etc. Semiconductors for ICs are mass-produced. To create an ideal semiconducting material, chemical purity is paramount. Any small imperfection can have a drastic effect on how the semiconducting material behaves due to the scale at which the materials are used.[4]\\n\",\n",
       " 'A high degree of crystalline perfection is also required, since faults in crystal structure (such as dislocations, twins, and stacking faults) interfere with the semiconducting properties of the material. Crystalline faults are a major cause of defective semiconductor devices. The larger the crystal, the more difficult it is to achieve the necessary perfection. Current mass production processes use crystal ingots between 100 and 300\\xa0mm (3.9 and 11.8\\xa0in) in diameter which are grown as cylinders and sliced into wafers.\\n',\n",
       " 'There is a combination of processes that is used to prepare semiconducting materials for ICs. One process is called thermal oxidation, which forms silicon dioxide on the surface of the silicon. This is used as a gate insulator and field oxide. Other processes are called photomasks and photolithography. This process is what creates the patterns on the circuity in the integrated circuit. Ultraviolet light is used along with a photoresist layer to create a chemical change that generates the patterns for the circuit.[4]\\n',\n",
       " 'Etching is the next process that is required. The part of the silicon that was not covered by the photoresist layer from the previous step can now be etched. The main process typically used today is called plasma etching. Plasma etching usually involves an etch gas pumped in a low-pressure chamber to create plasma. A common etch gas is chlorofluorocarbon, or more commonly known Freon. A high radio-frequency voltage between the cathode and anode is what creates the plasma in the chamber. The silicon wafer is located on the cathode, which causes it to be hit by the positively charged ions that are released from the plasma. The end result is silicon that is etched anisotropically.[1][4]\\n',\n",
       " 'The last process is called diffusion. This is the process that gives the semiconducting material its desired semiconducting properties. It is also known as doping. The process introduces an impure atom to the system, which creates the p-n junction. In order to get the impure atoms embedded in the silicon wafer, the wafer is first put in a 1,100 degree Celsius chamber. The atoms are injected in and eventually diffuse with the silicon. After the process is completed and the silicon has reached room temperature, the doping process is done and the semiconducting material is ready to be used in an integrated circuit.[1][4]\\n']"
      ]
     },
     "execution_count": 4,
     "metadata": {},
     "output_type": "execute_result"
    }
   ],
   "source": [
    "var.find_by_key('2.1')"
   ]
  },
  {
   "cell_type": "code",
   "execution_count": 6,
   "metadata": {},
   "outputs": [
    {
     "data": {
      "text/plain": [
       "[['1', 'Properties'],\n",
       " ['2', 'Materials'],\n",
       " ['2.1', 'Preparation of semiconductor materials'],\n",
       " ['3', 'Physics of semiconductors'],\n",
       " ['3.1', 'Energy bands and electrical conduction'],\n",
       " ['3.2', 'Charge carriers (electrons and holes)'],\n",
       " ['3.2.1', 'Carrier generation and recombination'],\n",
       " ['3.3', 'Doping'],\n",
       " ['3.4', 'Amorphous semiconductors'],\n",
       " ['4', 'Early history of semiconductors'],\n",
       " ['5', 'See also'],\n",
       " ['6', 'References'],\n",
       " ['7', 'Further reading'],\n",
       " ['8', 'External links']]"
      ]
     },
     "execution_count": 6,
     "metadata": {},
     "output_type": "execute_result"
    }
   ],
   "source": [
    "var.head"
   ]
  },
  {
   "cell_type": "code",
   "execution_count": 8,
   "metadata": {},
   "outputs": [],
   "source": [
    "#var.text_dict"
   ]
  },
  {
   "cell_type": "code",
   "execution_count": 10,
   "metadata": {},
   "outputs": [
    {
     "data": {
      "text/plain": [
       "{'Properties': '1',\n",
       " 'Materials': '2',\n",
       " 'Preparation of semiconductor materials': '2.1',\n",
       " 'Physics of semiconductors': '3',\n",
       " 'Energy bands and electrical conduction': '3.1',\n",
       " 'Charge carriers (electrons and holes)': '3.2',\n",
       " 'Carrier generation and recombination': '3.2.1',\n",
       " 'Doping': '3.3',\n",
       " 'Amorphous semiconductors': '3.4',\n",
       " 'Early history of semiconductors': '4',\n",
       " 'See also': '5',\n",
       " 'References': '6',\n",
       " 'Further reading': '7',\n",
       " 'External links': '8'}"
      ]
     },
     "execution_count": 10,
     "metadata": {},
     "output_type": "execute_result"
    }
   ],
   "source": [
    "var.index_dict"
   ]
  },
  {
   "cell_type": "code",
   "execution_count": null,
   "metadata": {},
   "outputs": [],
   "source": []
  }
 ],
 "metadata": {
  "kernelspec": {
   "display_name": "Python 3",
   "language": "python",
   "name": "python3"
  },
  "language_info": {
   "codemirror_mode": {
    "name": "ipython",
    "version": 3
   },
   "file_extension": ".py",
   "mimetype": "text/x-python",
   "name": "python",
   "nbconvert_exporter": "python",
   "pygments_lexer": "ipython3",
   "version": "3.6.6"
  }
 },
 "nbformat": 4,
 "nbformat_minor": 2
}
