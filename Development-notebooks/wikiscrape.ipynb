{
 "cells": [
  {
   "cell_type": "code",
   "execution_count": 1,
   "metadata": {},
   "outputs": [
    {
     "name": "stderr",
     "output_type": "stream",
     "text": [
      "E:\\anaconda\\lib\\site-packages\\ipykernel\\parentpoller.py:116: UserWarning: Parent poll failed.  If the frontend dies,\n",
      "                the kernel may be left running.  Please let us know\n",
      "                about your system (bitness, Python, etc.) at\n",
      "                ipython-dev@scipy.org\n",
      "  ipython-dev@scipy.org\"\"\")\n"
     ]
    }
   ],
   "source": [
    "import requests\n",
    "from bs4 import BeautifulSoup as bs\n",
    "from lxml import html\n",
    "import re"
   ]
  },
  {
   "cell_type": "code",
   "execution_count": 2,
   "metadata": {},
   "outputs": [],
   "source": [
    "def wikiurl(url):\n",
    "    http = urllib3.PoolManager()\n",
    "    r = http.request('GET', url)\n",
    "    print(r.status)\n",
    "    return r"
   ]
  },
  {
   "cell_type": "code",
   "execution_count": 3,
   "metadata": {
    "scrolled": true
   },
   "outputs": [
    {
     "name": "stderr",
     "output_type": "stream",
     "text": [
      "E:\\anaconda\\lib\\site-packages\\urllib3\\connectionpool.py:857: InsecureRequestWarning: Unverified HTTPS request is being made. Adding certificate verification is strongly advised. See: https://urllib3.readthedocs.io/en/latest/advanced-usage.html#ssl-warnings\n",
      "  InsecureRequestWarning)\n"
     ]
    }
   ],
   "source": [
    "r = requests.get('https://en.wikipedia.org/wiki/Semantic_similarity',verify=False)"
   ]
  },
  {
   "cell_type": "code",
   "execution_count": 4,
   "metadata": {},
   "outputs": [],
   "source": [
    "tree = html.fromstring(r.content)"
   ]
  },
  {
   "cell_type": "code",
   "execution_count": 5,
   "metadata": {},
   "outputs": [],
   "source": [
    "t = tree.xpath('//*[@id=\"toc\"]/text()')\n"
   ]
  },
  {
   "cell_type": "code",
   "execution_count": 6,
   "metadata": {},
   "outputs": [],
   "source": [
    "def headings(data):\n",
    "    _data = []\n",
    "    heading = data.xpath('//li[contains(@class, \"toclevel-\")]')\n",
    "    \n",
    "    for li in heading:\n",
    "        text = str(li.xpath('./a/span[2]/text()')).strip(\"[]\")[1:-1]\n",
    "        no = str(li.xpath('./a/span[1]/text()')).strip(\"[]\")[1:-1]    \n",
    "        link = str(li.xpath('./a/@href')).strip(\"[]\")[1:-1]\n",
    "        _data.append([no,text,link])\n",
    "    return _data"
   ]
  },
  {
   "cell_type": "code",
   "execution_count": 7,
   "metadata": {},
   "outputs": [],
   "source": [
    "def linkextract(heading,i):\n",
    "    l = []\n",
    "    for li in heading:\n",
    "        h = str(li.xpath('./a/span[2]/text()')).strip(\"[]\")[1:-1]\n",
    "        h_links = str(li.xpath('./a/@href')).strip(\"[]\")[1:-1]\n",
    "        h1ind = li.xpath('./ul')\n",
    "\n",
    "        l.append([i,h,h_links])\n",
    "        i+=1\n",
    "    return"
   ]
  },
  {
   "cell_type": "code",
   "execution_count": 8,
   "metadata": {},
   "outputs": [],
   "source": [
    "index = headings(tree)"
   ]
  },
  {
   "cell_type": "code",
   "execution_count": 9,
   "metadata": {},
   "outputs": [
    {
     "data": {
      "text/plain": [
       "[['1', 'Terminology', '#Terminology'],\n",
       " ['2', 'Visualization', '#Visualization'],\n",
       " ['3', 'Applications', '#Applications'],\n",
       " ['3.1', 'Biomedical informatics', '#Biomedical_informatics'],\n",
       " ['3.2', 'GeoInformatics', '#GeoInformatics'],\n",
       " ['3.3', 'Computational linguistics', '#Computational_linguistics'],\n",
       " ['3.4', 'Natural language processing', '#Natural_language_processing'],\n",
       " ['4', 'Measures', '#Measures'],\n",
       " ['4.1', 'Topological similarity', '#Topological_similarity'],\n",
       " ['4.1.1', 'Edge-based', '#Edge-based'],\n",
       " ['4.1.2', 'Node-based', '#Node-based'],\n",
       " ['4.1.3',\n",
       "  'Node-and-Relation-Content-based',\n",
       "  '#Node-and-Relation-Content-based'],\n",
       " ['4.1.4', 'Pairwise', '#Pairwise'],\n",
       " ['4.1.5', 'Groupwise', '#Groupwise'],\n",
       " ['4.2', 'Statistical similarity', '#Statistical_similarity'],\n",
       " ['4.3', 'Semantics-based similarity', '#Semantics-based_similarity'],\n",
       " ['4.4', 'Gold standards', '#Gold_standards'],\n",
       " ['5', 'See also', '#See_also'],\n",
       " ['6', 'References', '#References'],\n",
       " ['7', 'Sources', '#Sources'],\n",
       " ['8', 'External links', '#External_links'],\n",
       " ['8.1', 'Survey articles', '#Survey_articles'],\n",
       " ['8.2', 'Software', '#Software'],\n",
       " ['8.3', 'Web services', '#Web_services']]"
      ]
     },
     "execution_count": 9,
     "metadata": {},
     "output_type": "execute_result"
    }
   ],
   "source": [
    " index"
   ]
  },
  {
   "cell_type": "code",
   "execution_count": 13,
   "metadata": {
    "scrolled": true
   },
   "outputs": [],
   "source": [
    " x = tree.xpath('//*[@id=\"Terminology\"]/../following-sibling::*')"
   ]
  },
  {
   "cell_type": "code",
   "execution_count": 37,
   "metadata": {},
   "outputs": [],
   "source": [
    "def get_tex_byeleid(eid):\n",
    "    lis = []\n",
    "    x = tree.xpath('//*[@id=\"{0}\"]/../following-sibling::*'.format(eid))\n",
    "    \n",
    "    for i in x:\n",
    "        if i.tag == 'h2' or i.tag =='h3':\n",
    "            return lis\n",
    "        lis.append(i.text_content())\n",
    "    return lis\n"
   ]
  },
  {
   "cell_type": "code",
   "execution_count": 46,
   "metadata": {},
   "outputs": [],
   "source": [
    "text_dict ={}\n",
    "for i in index:\n",
    "    text_dict[i[0]]=get_tex_byeleid(i[2][1:])\n",
    "# text_dict"
   ]
  },
  {
   "cell_type": "code",
   "execution_count": 48,
   "metadata": {},
   "outputs": [
    {
     "data": {
      "text/plain": [
       "{'Terminology': '1',\n",
       " 'Visualization': '2',\n",
       " 'Applications': '3',\n",
       " 'Biomedical informatics': '3.1',\n",
       " 'GeoInformatics': '3.2',\n",
       " 'Computational linguistics': '3.3',\n",
       " 'Natural language processing': '3.4',\n",
       " 'Measures': '4',\n",
       " 'Topological similarity': '4.1',\n",
       " 'Edge-based': '4.1.1',\n",
       " 'Node-based': '4.1.2',\n",
       " 'Node-and-Relation-Content-based': '4.1.3',\n",
       " 'Pairwise': '4.1.4',\n",
       " 'Groupwise': '4.1.5',\n",
       " 'Statistical similarity': '4.2',\n",
       " 'Semantics-based similarity': '4.3',\n",
       " 'Gold standards': '4.4',\n",
       " 'See also': '5',\n",
       " 'References': '6',\n",
       " 'Sources': '7',\n",
       " 'External links': '8',\n",
       " 'Survey articles': '8.1',\n",
       " 'Software': '8.2',\n",
       " 'Web services': '8.3'}"
      ]
     },
     "execution_count": 48,
     "metadata": {},
     "output_type": "execute_result"
    }
   ],
   "source": [
    "index_dict={}\n",
    "for i in index:\n",
    "    index_dict[i[1]]=i[0]\n",
    "index_dict"
   ]
  },
  {
   "cell_type": "code",
   "execution_count": 42,
   "metadata": {},
   "outputs": [
    {
     "data": {
      "text/plain": [
       "['Semantic similarity measures have been applied and developed in biomedical ontologies,[7][8][9] namely, the Gene Ontology (GO).[10][11][12][13]\\nThey are mainly used to compare genes and proteins based on the similarity of their functions rather than on their sequence similarity,\\nbut they are also being extended to other bioentities, such as chemical compounds,[14] anatomical entities[15] and diseases.[16]\\n',\n",
       " 'These comparisons can be done using tools freely available on the web:\\n',\n",
       " 'ProteInOn can be used to find interacting proteins, find assigned GO terms and calculate the functional semantic similarity of UniProt proteins and to get the information content and calculate the functional semantic similarity of GO terms.[17]\\nCMPSim provides a functional similarity measure between chemical compounds and metabolic pathways using ChEBI based semantic similarity measures.[18]\\nCESSM provides a tool for the automated evaluation of GO-based semantic similarity measures.[19]']"
      ]
     },
     "execution_count": 42,
     "metadata": {},
     "output_type": "execute_result"
    }
   ],
   "source": [
    "get_tex_byeleid('Biomedical_informatics')"
   ]
  },
  {
   "cell_type": "code",
   "execution_count": 19,
   "metadata": {},
   "outputs": [
    {
     "name": "stdout",
     "output_type": "stream",
     "text": [
      "The concept of semantic similarity is more specific than semantic relatedness, as the latter includes concepts as antonymy and meronymy, while similarity does not.[6] However, much of the literature uses these terms interchangeably, along with terms like semantic distance. In essence, semantic similarity, semantic distance, and semantic relatedness all mean, \"How much does term A have to do with term B?\" The answer to this question is usually a number between -1 and 1, or between 0 and 1, where 1 signifies extremely high similarity.\n",
      "\n",
      "Visualization[edit]\n",
      "An intuitive way of visualizing the semantic similarity of terms is by grouping together terms which are closely related and spacing wider apart the ones which are distantly related. This is also common in practice for mind maps and concept maps and is sometimes subconscious[citation needed].\n",
      "\n",
      "A more direct way of visualizing the semantic similarity of two linguistic items can be seen with the Semantic Folding approach. In this approach a linguistic item such as a term or a text can be represented by generating a pixel for each of its active semantic features in e.g. a 128 x 128 grid. This allows for a direct visual comparison of the semantics of two items by comparing image representations of their respective feature sets.\n",
      "\n",
      "Applications[edit]\n",
      "Biomedical informatics[edit]\n",
      "Semantic similarity measures have been applied and developed in biomedical ontologies,[7][8][9] namely, the Gene Ontology (GO).[10][11][12][13]\n",
      "They are mainly used to compare genes and proteins based on the similarity of their functions rather than on their sequence similarity,\n",
      "but they are also being extended to other bioentities, such as chemical compounds,[14] anatomical entities[15] and diseases.[16]\n",
      "\n",
      "These comparisons can be done using tools freely available on the web:\n",
      "\n",
      "ProteInOn can be used to find interacting proteins, find assigned GO terms and calculate the functional semantic similarity of UniProt proteins and to get the information content and calculate the functional semantic similarity of GO terms.[17]\n",
      "CMPSim provides a functional similarity measure between chemical compounds and metabolic pathways using ChEBI based semantic similarity measures.[18]\n",
      "CESSM provides a tool for the automated evaluation of GO-based semantic similarity measures.[19]\n",
      "GeoInformatics[edit]\n",
      "Similarity is also applied to find similar geographic features or feature types:[20]\n",
      "\n",
      "SIM-DL similarity server[21] can be used to compute similarities between concepts stored in geographic feature type ontologies.\n",
      "Similarity Calculator can be used to compute how well related two geographic concepts are in the Geo-Net-PT ontology.[22][23]\n",
      "The OSM Semantic Network can be used to compute the semantic similarity of tags in OpenStreetMap.[24]\n",
      "Computational linguistics[edit]\n",
      "Several metrics use WordNet, a manually constructed lexical database of English words. Despite the advantages of having human supervision in constructing the database, since the words are not automatically learned the database cannot measure relatedness between multi-word term, non-incremental vocabulary.[6][25]\n",
      "\n",
      "Natural language processing[edit]\n",
      "Natural language processing (NLP) is a field of computer science and linguistics. Sentiment analysis, Natural language understanding and Machine translation (Automatically translate text from one human language to another) are a few of the major areas where it is being used. For example, knowing one information resource in the internet, it is often of immediate interest to find similar resources. The Semantic Web provides semantic extensions to find similar data by content and not just by arbitrary descriptors.[26][27][28][29][30][31][32][33][34]\n",
      "\n",
      "Measures[edit]\n",
      "Topological similarity[edit]\n",
      "There are essentially two types of approaches that calculate topological similarity between ontological concepts:\n",
      "\n",
      "Edge-based: which use the edges and their types as the data source;\n",
      "Node-based: in which the main data sources are the nodes and their properties.\n",
      "Other measures calculate the similarity between ontological instances:\n",
      "\n",
      "Pairwise: measure functional similarity between two instances by combining the semantic similarities of the concepts they represent\n",
      "Groupwise: calculate the similarity directly not combining the semantic similarities of the concepts they represent\n",
      "Some examples:\n",
      "\n",
      "Edge-based[edit]\n",
      "Pekar et al.[35]\n",
      "Cheng and Cline[36]\n",
      "Wu et al.[37]\n",
      "Del Pozo et al.[38]\n",
      "IntelliGO: Benabderrahmane et al.[9]\n",
      "Node-based[edit]\n",
      "Resnik[39]\n",
      "based on the notion of information content. The information content of a concept (term or word) is the logarithm of the probability of finding the concept in a given corpus.\n",
      "only considers the information content of lowest common subsumer (lcs). A lowest common subsumer is a concept in a lexical taxonomy ( e.g. WordNet), which has the shortest distance from the two concepts compared. For example, animal and mammal both are the subsumers of cat and dog, but mammal is lower subsumer than animal for them.\n",
      "Lin[40]\n",
      "based on Resnik's similarity.\n",
      "considers the information content of lowest common subsumer (lcs) and the two compared concepts.\n",
      "Maguitman, Menczer, Roinestad and Vespignani[41]\n",
      "Generalizes Lin's similarity to arbitrary ontologies (graphs).\n",
      "Jiang and Conrath[42]\n",
      "based on Resnik's similarity.\n",
      "considers the information content of lowest common subsumer (lcs) and the two compared concepts to calculate the distance between the two concepts. The distance is later used in computing the similarity measure.\n",
      "DiShIn Disjunctive Shared Information between Ontology Concepts[43]\n",
      "other alternative: GraSM (Graph-based Similarity Measure)[44]\n",
      "Align, Disambiguate, and Walk: Random walks on Semantic Networks[45]\n",
      "Node-and-Relation-Content-based[edit]\n",
      "applicable to ontology\n",
      "consider properties (content) of nodes\n",
      "consider types (content) of relations\n",
      "based on eTVSM[46]\n",
      "based on Resnik's similarity[47]\n",
      "Pairwise[edit]\n",
      "maximum of the pairwise similarities\n",
      "composite average in which only the best-matching pairs are considered (best-match average)\n",
      "Groupwise[edit]\n",
      "Jaccard index\n",
      "simGIC[48]\n",
      "simLP\n",
      "simUI\n",
      "Statistical similarity[edit]\n",
      "Statistical similarity approaches can be learned from data, or predefined.\n",
      "Similarity learning can often outperform predefined similarity measures.\n",
      "Broadly speaking, these approaches build a statistical model of documents, and use it to estimate similarity.\n",
      "\n",
      "LSA (Latent semantic analysis)[49][50](+) vector-based, adds vectors to measure multi-word terms; (−) non-incremental vocabulary, long pre-processing times\n",
      "PMI (Pointwise mutual information) (+) large vocab, because it uses any search engine (like Google); (−) cannot measure relatedness between whole sentences or documents\n",
      "SOC-PMI (Second-order co-occurrence pointwise mutual information) (+) sort lists of important neighbor words from a large corpus; (−) cannot measure relatedness between whole sentences or documents\n",
      "GLSA (Generalized Latent Semantic Analysis) (+) vector-based, adds vectors to measure multi-word terms; (−) non-incremental vocabulary, long pre-processing times\n",
      "ICAN (Incremental Construction of an Associative Network) (+) incremental, network-based measure, good for spreading activation, accounts for second-order relatedness; (−) cannot measure relatedness between multi-word terms, long pre-processing times\n",
      "NGD (Normalized Google distance) (+) large vocab, because it uses any search engine (like Google); (−) can measure relatedness between whole sentences or documents but the larger the sentence or document the more ingenuity is required, Cilibrasi & Vitanyi (2007), reference below.[51]\n",
      "TSS - Twitter Semantic Similarity -pdf large vocab, because it use online tweets from Twitter to compute the similarity. It has high temporary resolution that allows to capture high frequency events. Open Source\n",
      "NCD (Normalized Compression Distance)\n",
      "ESA (Explicit Semantic Analysis) based on Wikipedia and the ODP\n",
      "SSA (Salient Semantic Analysis) which indexes terms using salient concepts found in their immediate context.\n",
      "n° of Wikipedia (noW), inspired by the game Six Degrees of Wikipedia, is a distance metric based on the hierarchical structure of Wikipedia. A directed-acyclic graph is first constructed and later, Dijkstra's shortest path algorithm is employed to determine the noW value between two terms as the geodesic distance between the corresponding topics (i.e. nodes) in the graph.\n",
      "VGEM (Vector Generation of an Explicitly-defined Multidimensional Semantic Space) (+) incremental vocab, can compare multi-word terms (−) performance depends on choosing specific dimensions\n",
      "SimRank\n",
      "NASARI:[52] Sparse vector representations constructed by applying the hypergeometric distribution over the Wikipedia corpus in combination with BabelNet taxonomy. Cross-lingual similarity is currently also possible thanks to the multilingual and unified extension.[53]\n",
      "Semantics-based similarity[edit]\n",
      "Marker Passing: Combining Lexical Decomposition for automated Ontology Creation and Marker Passing the approach of Fähndrich et al. introduces a new type of semantic similarity measure.[54] Here markers are passed from the two target concepts carrying an amount of activation. This activation might increase or decrease depending on the relations weight with which the concepts are connected. This combines edge and node based approaches and includes connectionist reasoning with symbolic information.\n",
      "Good Common Subsumer-(GCS)-based Semantic Similarity Measure[55]\n",
      "Comment on application of semantics-based similarity to biomedical ontologies[56]\n",
      "Gold standards[edit]\n",
      "Researchers have collected datasets with similarity judgements on pairs of words, which are used to evaluate the cognitive plausibility of computational measures. The golden standard up to today is an old 65 word list where humans have judged the word similarity.[57] For a list of datasets, and an overview of the state of the art see https://www.aclweb.org/.\n",
      "\n",
      "See also[edit]\n",
      "\n",
      "\n",
      "Linguistics portal\n",
      "Analogy\n",
      "Coherence (linguistics)\n",
      "Levenshtein distance\n",
      "Semantic differential\n",
      "Semantic folding\n",
      "Semantic similarity network\n",
      "Terminology extraction\n",
      "Word2Vec\n",
      "References[edit]\n",
      "\n",
      "\n",
      "^ Harispe S.; Ranwez S. Janaqi S.; Montmain J. (2015). \"Semantic Similarity from Natural Language and Ontology Analysis\". Synthesis Lectures on Human Language Technologies. 8:1: 1–254. arXiv:1704.05295 [cs.AI]. doi:10.2200/S00639ED1V01Y201504HLT027. Cite uses deprecated parameter |class= (help).mw-parser-output cite.citation{font-style:inherit}.mw-parser-output q{quotes:\"\\\"\"\"\\\"\"\"'\"\"'\"}.mw-parser-output code.cs1-code{color:inherit;background:inherit;border:inherit;padding:inherit}.mw-parser-output .cs1-lock-free a{background:url(\"//upload.wikimedia.org/wikipedia/commons/thumb/6/65/Lock-green.svg/9px-Lock-green.svg.png\")no-repeat;background-position:right .1em center}.mw-parser-output .cs1-lock-limited a,.mw-parser-output .cs1-lock-registration a{background:url(\"//upload.wikimedia.org/wikipedia/commons/thumb/d/d6/Lock-gray-alt-2.svg/9px-Lock-gray-alt-2.svg.png\")no-repeat;background-position:right .1em center}.mw-parser-output .cs1-lock-subscription a{background:url(\"//upload.wikimedia.org/wikipedia/commons/thumb/a/aa/Lock-red-alt-2.svg/9px-Lock-red-alt-2.svg.png\")no-repeat;background-position:right .1em center}.mw-parser-output .cs1-subscription,.mw-parser-output .cs1-registration{color:#555}.mw-parser-output .cs1-subscription span,.mw-parser-output .cs1-registration span{border-bottom:1px dotted;cursor:help}.mw-parser-output .cs1-hidden-error{display:none;font-size:100%}.mw-parser-output .cs1-visible-error{font-size:100%}.mw-parser-output .cs1-subscription,.mw-parser-output .cs1-registration,.mw-parser-output .cs1-format{font-size:95%}.mw-parser-output .cs1-kern-left,.mw-parser-output .cs1-kern-wl-left{padding-left:0.2em}.mw-parser-output .cs1-kern-right,.mw-parser-output .cs1-kern-wl-right{padding-right:0.2em}\n",
      "\n",
      "^ Feng Y.; Bagheri E.; Ensan F.; Jovanovic J. (2017). \"The state of the art in semantic relatedness: a framework for comparison\". Knowledge Engineering Review: 1–30. doi:10.1017/S0269888917000029.\n",
      "\n",
      "^ Couto F.; Lamurias A. (2018). \"Semantic Similarity Definition\". Reference Module in Life Sciences (Encyclopedia of Bioinformatics and Computational Biology). doi:10.1016/B978-0-12-809633-8.20401-9. ISBN 9780128096338.\n",
      "\n",
      "^ A. Ballatore; M. Bertolotto; D.C. Wilson (2014). \"An evaluative baseline for geo-semantic relatedness and similarity\". GeoInformatica. 18:4: 747–767.\n",
      "\n",
      "^ Aouicha, Mohamed Ben; Taieb, Mohamed Ali Hadj; Hamadou, Abdelmajid Ben (2016-11-21). \"SISR: System for integrating semantic relatedness and similarity measures\". Soft Computing. 22 (6): 1–25. doi:10.1007/s00500-016-2438-x. ISSN 1432-7643.\n",
      "\n",
      "^ a b Budanitsky, Alexander; Hirst, Graeme (2001). \"Semantic distance in WordNet: An experimental, application-oriented evaluation of five measures\" (PDF). Workshop on WordNet and Other Lexical Resources, Second meeting of the North American Chapter of the Association for Computational Linguistics. Pittsburgh.\n",
      "\n",
      "^ Pesquita, Catia; Faria, Daniel; Falcão, André O.; Lord, Phillip; Couto, Francisco M. (2009).  Bourne, Philip E., ed. \"Semantic Similarity in Biomedical Ontologies\". PLoS Computational Biology. 5 (7): e1000443. Bibcode:2009PLSCB...5E0443P. doi:10.1371/journal.pcbi.1000443. PMC 2712090. PMID 19649320.\n",
      "\n",
      "^ Guzzi, Pietro Hiram; Mina, Marco; Cannataro, Mario; Guerra, Concettina (2012). \"Semantic similarity analysis of protein data: assessment with biological features and issues\". Briefings in Bioinformatics. 13 (5): 569–585. doi:10.1093/bib/bbr066. PMID 22138322.\n",
      "\n",
      "^ a b Benabderrahmane, Sidahmed; Smail Tabbone, Malika; Poch, Olivier; Napoli, Amedeo; Devignes, Marie-Domonique. (2010). \"IntelliGO: a new vector-based semantic similarity measure including annotation origin\". BMC Bioinformatics. 11: 588. doi:10.1186/1471-2105-11-588. PMC 3098105. PMID 21122125.\n",
      "\n",
      "^ Couto, F., Silva, M., & Coutinho, P. (2003). Implementation of a functional semantic similarity measure between gene-products. DI/FCUL TR 03–29, University of Lisbon\n",
      "\n",
      "^ Pesquita, C.; Faria, D.; Falcão, A.; Lord, P.; Couto, F. (2009). \"Semantic similarity in biomedical ontologies\". PLoS Computational Biology. 5 (7): e1000443. Bibcode:2009PLSCB...5E0443P. doi:10.1371/journal.pcbi.1000443. PMC 2712090. PMID 19649320.\n",
      "\n",
      "^ Couto, F., Silva, M., & Coutinho, P. (2005). \"Semantic similarity over the gene ontology: Family correlation and selecting disjunctive ancestors\". Proc. of the ACM Conference in Information and Knowledge Management (CIKM): 343. doi:10.1145/1099554.1099658. ISBN 978-1-59593-140-5.CS1 maint: Multiple names: authors list (link) \n",
      "\n",
      "^ Couto, F., Silva, M., & Coutinho, P. (2007). \"Measuring semantic similarity between Gene Ontology terms\". Data and Knowledge Engineering. 61: 137–152. doi:10.1016/j.datak.2006.05.003.CS1 maint: Multiple names: authors list (link) \n",
      "\n",
      "^ Ferreira, João D.; Couto, Francisco M. (2010).  Mitchell, John B. O., ed. \"Semantic Similarity for Automatic Classification of Chemical Compounds\". PLoS Computational Biology. 6 (9): e1000937. Bibcode:2010PLSCB...6E0937F. doi:10.1371/journal.pcbi.1000937. PMC 2944781. PMID 20885779.\n",
      "\n",
      "^ Ferreira, João D.; Couto, Francisco M. (2011). \"Generic semantic relatedness measure for biomedical ontologies\" (PDF). ICBO 2011 Proceedings.\n",
      "\n",
      "^ Köhler, S; Schulz, MH; Krawitz, P; Bauer, S; Dolken, S; Ott, CE; Mundlos, C; Horn, D;  et al. (2009). \"Clinical diagnostics in human genetics with semantic similarity searches in ontologies\". American Journal of Human Genetics. 85 (4): 457–64. doi:10.1016/j.ajhg.2009.09.003. PMC 2756558. PMID 19800049.\n",
      "\n",
      "^ \"ProteInOn\".\n",
      "\n",
      "^ \"CMPSim\".\n",
      "\n",
      "^ \"CESSM\".\n",
      "\n",
      "^ Janowicz, K., Raubal, M. and Kuhn, W. (2011). \"The semantics of similarity in geographic information retrieval\". Journal of Spatial Information Science. 2 (2): 29–57. doi:10.5311/josis.2011.2.3.CS1 maint: Multiple names: authors list (link) \n",
      "\n",
      "^ \"SIM-DL similarity server\". CiteSeerX 10.1.1.172.5544.\n",
      "\n",
      "^ \"Geo-Net-PT Similarity Calculator\".\n",
      "\n",
      "^ \"Geo-Net-PT\".\n",
      "\n",
      "^ A. Ballatore; D.C. Wilson; M. Bertolotto. \"Geographic Knowledge Extraction and Semantic Similarity in OpenStreetMap\" (PDF). Knowledge and Information Systems: 61–81.\n",
      "\n",
      "^ Kaur, I. & Hornof, A.J. (2005). \"A Comparison of LSA, WordNet and PMI for Predicting User Click Behavior\". Proceedings of the Conference on Human Factors in Computing, CHI 2005: 51–60. doi:10.1145/1054972.1054980. ISBN 978-1-58113-998-3.\n",
      "\n",
      "^ Similarity-based Learning Methods for the Semantic Web (C. d'Amato, PhD Thesis)\n",
      "\n",
      "^ Gracia, J. & Mena, E. (2008). \"Web-Based Measure of Semantic Relatedness\" (PDF). Proceedings of the 9th international conference on Web Information Systems Engineering (WISE '08): 136–150.\n",
      "\n",
      "^ Raveendranathan, P. (2005). Identifying Sets of Related Words from the World Wide Web. Master of Science Thesis, University of Minnesota Duluth.\n",
      "\n",
      "^ Wubben, S. (2008). Using free link structure to calculate semantic relatedness. In ILK Research Group Technical Report Series, nr. 08-01, 2008.\n",
      "\n",
      "^ Juvina, I., van Oostendorp, H., Karbor, P., & Pauw, B. (2005). Towards modeling contextual information in web navigation. In B. G. Bara & L. Barsalou & M. Bucciarelli (Eds.), 27th Annual Meeting of the Cognitive Science Society, CogSci2005 (pp. 1078–1083). Austin, Tx: The Cognitive Science Society, Inc.\n",
      "\n",
      "^ Navigli, R., Lapata, M. (2007). Graph Connectivity Measures for Unsupervised Word Sense Disambiguation, Proc. of the 20th International Joint Conference on Artificial Intelligence (IJCAI 2007), Hyderabad, India, January 6-12th, 2007, pp. 1683–1688.\n",
      "\n",
      "^ Pirolli, P. (2005). \"Rational analyses of information foraging on the Web\". Cognitive Science. 29 (3): 343–373. doi:10.1207/s15516709cog0000_20. PMID 21702778.\n",
      "\n",
      "^ Pirolli, P., & Fu, W.-T. (2003). \"SNIF-ACT: A model of information foraging on the World Wide Web\". Lecture Notes in Computer Science. Lecture Notes in Computer Science. 2702. pp. 45–54. doi:10.1007/3-540-44963-9_8. ISBN 978-3-540-40381-4.CS1 maint: Multiple names: authors list (link) \n",
      "\n",
      "^ Turney, P. (2001). Mining the Web for Synonyms: PMI versus LSA on TOEFL. In L. De Raedt & P. Flach (Eds.), Proceedings of the Twelfth European Conference on Machine Learning (ECML-2001) (pp. 491–502). Freiburg, Germany.\n",
      "\n",
      "^ Pekar, Viktor; Staab, Steffen (2002). Taxonomy learning. Proceedings of the 19th international conference on Computational linguistics -. 1. pp. 1–7. doi:10.3115/1072228.1072318.\n",
      "\n",
      "^ Cheng, J; Cline, M; Martin, J; Finkelstein, D; Awad, T; Kulp, D; Siani-Rose, MA (2004). \"A knowledge-based clustering algorithm driven by Gene Ontology\". Journal of biopharmaceutical statistics. 14 (3): 687–700. doi:10.1081/BIP-200025659. PMID 15468759.\n",
      "\n",
      "^ Wu, H; Su, Z; Mao, F; Olman, V; Xu, Y (2005). \"Prediction of functional modules based on comparative genome analysis and Gene Ontology application\". Nucleic Acids Research. 33 (9): 2822–37. doi:10.1093/nar/gki573. PMC 1130488. PMID 15901854.\n",
      "\n",
      "^ Del Pozo, Angela; Pazos, Florencio; Valencia, Alfonso (2008). \"Defining functional distances over Gene Ontology\". BMC Bioinformatics. 9: 50. doi:10.1186/1471-2105-9-50. PMC 2375122. PMID 18221506.\n",
      "\n",
      "^ Philip Resnik (1995).  Chris S. Mellish, ed. \"Using information content to evaluate semantic similarity in a taxonomy\". Proceedings of the 14th international joint conference on Artificial intelligence (IJCAI'95). 1: 448–453. CiteSeerX 10.1.1.41.6956.\n",
      "\n",
      "^ Dekang Lin. 1998. An Information-Theoretic Definition of Similarity. In Proceedings of the Fifteenth International Conference on Machine Learning (ICML '98), Jude W. Shavlik (Ed.). Morgan Kaufmann Publishers Inc., San Francisco, CA, USA, 296-304\n",
      "\n",
      "^ Ana Gabriela Maguitman, Filippo Menczer, Heather Roinestad, Alessandro Vespignani: Algorithmic detection of semantic similarity. WWW 2005: 107-116\n",
      "\n",
      "^ J. J. Jiang and D. W. Conrath. Semantic Similarity Based on Corpus Statistics and Lexical Taxonomy. In International Conference on Research\n",
      " on Computational Linguistics (ROCLING X), pages 9008+, September 1997\n",
      "\n",
      "^ Couto, F.; Silva, M. (2011). \"Disjunctive Shared Information between Ontology Concepts: application to Gene Ontology\". Journal of Biomedical Semantics. 2: 5. doi:10.1186/2041-1480-2-5.\n",
      "\n",
      "^ Couto, F.; Silva, M.; Coutinho, P. (2007). \"Measuring semantic similarity between Gene Ontology terms\". Data and Knowledge Engineering. 61: 137–152. doi:10.1016/j.datak.2006.05.003.\n",
      "\n",
      "^ M. T. Pilehvar, D. Jurgens and R. Navigli. Align, Disambiguate and Walk: A Unified Approach for Measuring Semantic Similarity.. Proc. of the 51st Annual Meeting of the Association for Computational Linguistics (ACL 2013), Sofia, Bulgaria, August 4–9, 2013, pp. 1341–1351.\n",
      "\n",
      "^ Dong, Hai (2009). \"A Hybrid Concept Similarity Measure Model for Ontology Environment\". Lecture Notes in Computer Science. 5872: 848–857. Bibcode:2009LNCS.5872..848D. doi:10.1007/978-3-642-05290-3_103. ISBN 978-3-642-05289-7.\n",
      "\n",
      "^ Dong, Hai (2011). \"A context-aware semantic similarity model for ontology environments\". Concurrency and Computation: Practice and Experience. 23 (2): 505–524.\n",
      "\n",
      "^ Catia Pesquita, Daniel Faria, Hugo Bastos, António Ferreira, Andre O Falcao, Francisco Couto 2008: Metrics for GO based protein semantic similarity: a systematic evaluation. BMC Bioinformatics Suppl 5(9), S4\n",
      "\n",
      "^ Landauer, T. K.; Dumais, S. T. (1997). \"A solution to Plato's problem: The latent semantic analysis theory of acquisition, induction, and representation of knowledge\" (PDF). Psychological Review. 104 (2): 211–240. doi:10.1037/0033-295x.104.2.211.\n",
      "\n",
      "^ Landauer, T. K., Foltz, P. W., & Laham, D. (1998). \"Introduction to Latent Semantic Analysis\" (PDF). Discourse Processes. 25 (2–3): 259–284. doi:10.1080/01638539809545028.CS1 maint: Multiple names: authors list (link) \n",
      "\n",
      "^ \"Google Similarity Distance\".\n",
      "\n",
      "^ J. Camacho-Collados, M. T. Pilehvar, and R. Navigli. NASARI: a Novel Approach to a Semantically-Aware Representation of Items. In Proceedings of the North American Chapter of the Association of Computational Linguistics (NAACL 2015), Denver, USA, pp. 567-577, 2015\n",
      "\n",
      "^ J. Camacho-Collados, M. T. Pilehvar, and R. Navigli. A Unified Multilingual Semantic Representation of Concepts.\n",
      "In Proceedings of the 53rd Annual Meeting of the Association for Computational Linguistics (ACL 2015), Beijing, China, July 27–29, pp. 741-751, 2015\n",
      "\n",
      "^ Fähndrich J., Weber S., Ahrndt S. (2016) Design and Use of a Semantic Similarity Measure for Interoperability Among Agents. In: Klusch M., Unland R., Shehory O., Pokahr A., Ahrndt S. (eds) Multiagent System Technologies. MATES 2016. Lecture Notes in Computer Science, vol 9872. Springer, available at author version\n",
      "\n",
      "^ C. d'Amato, S. Staab, and N. Fanizzi. On the influence of description logics ontologies on conceptual similarity. Knowledge Engineering: Practice and Patterns, pages 48-63, 2008 doi:10.1007/978-3-540-87696-0_7\n",
      "\n",
      "^ F. Couto and H. Pinto, The next generation of similarity measures that fully explore the semantics in biomedical ontologies, Journal of Bioinformatics and Computational Biology, vol. in press, 2013. preprint\n",
      "\n",
      "^ Rubenstein, Herbert, and John B. Goodenough. Contextual correlates of synonymy. Communications of the ACM, 8(10):627–633, 1965.\n",
      "\n",
      "\n",
      "Sources[edit]\n",
      "Cilibrasi, R.L. & Vitanyi, P.M.B. (2007). \"The Google Similarity Distance\". IEEE Trans. Knowledge and Data Engineering. 19 (3): 370–383. arXiv:cs/0412098. doi:10.1109/TKDE.2007.48.\n",
      "Dumais, S (2003). \"Data-driven approaches to information access\". Cognitive Science. 27 (3): 491–524. doi:10.1207/s15516709cog2703_7.\n",
      "Ferreira, J. & Couto, F. (2010). Semantic similarity for automatic classification of chemical compounds. PLoS Computational Biology 6(9): e1000937, 2010.\n",
      "Gabrilovich, E. and Markovitch, S. (2007). Computing Semantic Relatedness using Wikipedia-based Explicit Semantic Analysis, Proceedings of the 20th International Joint Conference on Artificial Intelligence (IJCAI), Hyderabad, India, January 2007.\n",
      "Lee, M. D., Pincombe, B., & Welsh, M. (2005). An empirical evaluation of models of text document similarity. In B. G. Bara & L. Barsalou & M. Bucciarelli (Eds.), 27th Annual Meeting of the Cognitive Science Society, CogSci2005 (pp. 1254–1259). Austin, Tx: The Cognitive Science Society, Inc.\n",
      "Lemaire, B., & Denhiére, G. (2004). Incremental construction of an associative network from a corpus. In K. D. Forbus & D. Gentner & T. Regier (Eds.), 26th Annual Meeting of the Cognitive Science Society, CogSci2004. Hillsdale, NJ: Lawrence Erlbaum Publisher.\n",
      "Lindsey, R., Veksler, V.D., Grintsvayg, A., Gray, W.D. (2007). \"The Effects of Corpus Selection on Measuring Semantic Relatedness\" (PDF). Proceedings of the 8th International Conference on Cognitive Modeling, Ann Arbor, MI.CS1 maint: Multiple names: authors list (link) \n",
      "Navigli, R., Lapata, M. (2010). \"An Experimental Study of Graph Connectivity for Unsupervised Word Sense Disambiguation\". IEEE Transactions on Pattern Analysis and Machine Intelligence (TPAMI), 32(4), IEEE Press, 2010, pp. 678–692.\n",
      "Veksler, V.D. & Gray, W.D. (2006). \"Test Case Selection for Evaluating Measures of Semantic Distance\" (PDF). Proceedings of the 28th Annual Meeting of the Cognitive Science Society, CogSci2006.\n",
      "Wong, W., Liu, W. & Bennamoun, M. (2008) Featureless Data Clustering. In: M. Song and Y. Wu; Handbook of Research on Text and Web Mining Technologies; IGI Global. ISBN 978-1-59904-990-8 (the use of NGD and noW for term and URI clustering)\n",
      "External links[edit]\n",
      "List of related literature\n",
      "Survey articles[edit]\n",
      "Conference article: C. d'Amato, S. Staab, N. Fanizzi. 2008. On the Influence of Description Logics Ontologies on Conceptual Similarity. In Proceedings of the 16th international conference on Knowledge Engineering: Practice and Patterns Pages 48 – 63. Acitrezza, Italy, Springer-Verlag\n",
      "Journal article on the more general topic of relatedness, also including similarity: Z. Zhang, A. Gentile, F. Ciravegna. 2013. Recent advances in methods of lexical semantic relatedness - a survey. Natural Language Engineering 19 (4), 411-479, Cambridge University Press\n",
      "Book: S. Harispe, S. Ranwez, S. Janaqi, J. Montmain. 2015. Semantic Similarity from Natural Language and Ontology Analysis, Morgan & Claypool Publishers.\n",
      "Software[edit]\n",
      "Algorithm, Implementation and Application of the SIM-DL Similarity Server (Introduction to the SIM-DL Similarity Server)\n",
      "Semantic Measures Library (SML), a highly tunable and open source JAVA library dedicated to the computation and analysis of semantic measures. The library is generic as it can be used on multiple ontologies/terminologies e.g. Gene Ontology, Medical Subject Headings, SNOMED CT, WordNet, or semantic graphs expressed in RDF Schema, Web Ontology Language, Open Biomedical Ontologies languages. The core developers also maintain the SML-Toolkit, a set of command line tools giving non-developers access to SML functionalities e.g. to perform large scale computation of semantic measures. Tutorials, downloads and documentation for both the SML and the SML-Toolkit are available at http://www.semantic-measures-library.org/.\n",
      "WordNet-Similarity, an open source package for computing the similarity and relatedness of concepts found in WordNet\n",
      "UMLS-Similarity, an open source package for computing the similarity and relatedness of concepts found in the Unified Medical Language System (UMLS)\n",
      "SEMILAR – A Semantic Similarity Toolkit, java based library, tool, and data related to measuring similarity and relatedness of text in different granularity (all free for research purposes).[1]\n",
      "DISCO Builder and DISCO API, a Java toolkit to compute the similarity between words and phrases. Allows to import word spaces generated with Word2vec. Freely available for research, API is Apache licensed.\n",
      "TakeLab STS system – One of the top performing short text semantic similarity systems from Semeval 2012\n",
      "DiShIn Python Package - minimal python package providing the basic functions to start using semantic similarity measures directly from RDF Schema, or Web Ontology Language, using Disjunctive Shared Information.\n",
      "Web services[edit]\n",
      "Serelex Semantic Relatedness, a web service that finds semantically related words based on the Serelex semantic similarity measure, which relies on a text corpus and a set of lexico-syntactic patterns. Description of this service is available at Panchenko et al. (2013)\n",
      "UMLS-Similarity, a web interface to UMLS-Similarity\n",
      "Semantic Link, finds related words using Wikipedia-based mutual information (MI)\n",
      "UMBC SimService, a web interface to top N similar words and phrase similarity\n",
      "DiShIn Web Tool, compares entry from Gene ontology, Human Phenotype Ontology, and ChEBI\n",
      "^ Rus, V., Lintean, M. C., Banjade, R., Niraula, N. B., & Stefanescu, D. (2013, August). SEMILAR: The Semantic Similarity Toolkit. In ACL (Conference System Demonstrations) (pp. 163-168).\n",
      "\n"
     ]
    }
   ],
   "source": [
    "l = []\n",
    "for i in x:\n",
    "    l.append(i.tag)\n",
    "for i in x:\n",
    "    if \n",
    "    print(i.text_content())"
   ]
  },
  {
   "cell_type": "code",
   "execution_count": 17,
   "metadata": {},
   "outputs": [
    {
     "ename": "NameError",
     "evalue": "name 'etree' is not defined",
     "output_type": "error",
     "traceback": [
      "\u001b[1;31m---------------------------------------------------------------------------\u001b[0m",
      "\u001b[1;31mNameError\u001b[0m                                 Traceback (most recent call last)",
      "\u001b[1;32m<ipython-input-17-19bf2cab81a0>\u001b[0m in \u001b[0;36m<module>\u001b[1;34m()\u001b[0m\n\u001b[1;32m----> 1\u001b[1;33m \u001b[0mt\u001b[0m \u001b[1;33m=\u001b[0m \u001b[0metree\u001b[0m\u001b[1;33m.\u001b[0m\u001b[0mElementTree\u001b[0m\u001b[1;33m(\u001b[0m\u001b[0mx\u001b[0m\u001b[1;33m)\u001b[0m\u001b[1;33m\u001b[0m\u001b[0m\n\u001b[0m",
      "\u001b[1;31mNameError\u001b[0m: name 'etree' is not defined"
     ]
    }
   ],
   "source": [
    "t = etree.ElementTree(x)"
   ]
  },
  {
   "cell_type": "code",
   "execution_count": 23,
   "metadata": {},
   "outputs": [
    {
     "ename": "AttributeError",
     "evalue": "'HtmlElement' object has no attribute 'tostring'",
     "output_type": "error",
     "traceback": [
      "\u001b[1;31m---------------------------------------------------------------------------\u001b[0m",
      "\u001b[1;31mAttributeError\u001b[0m                            Traceback (most recent call last)",
      "\u001b[1;32m<ipython-input-23-358fbfe863bc>\u001b[0m in \u001b[0;36m<module>\u001b[1;34m()\u001b[0m\n\u001b[1;32m----> 1\u001b[1;33m \u001b[0mtree\u001b[0m\u001b[1;33m.\u001b[0m\u001b[0mget_element_by_id\u001b[0m\u001b[1;33m(\u001b[0m\u001b[1;34m'Terminology'\u001b[0m\u001b[1;33m)\u001b[0m\u001b[1;33m.\u001b[0m\u001b[0mtostring\u001b[0m\u001b[1;33m(\u001b[0m\u001b[1;33m)\u001b[0m\u001b[1;33m\u001b[0m\u001b[0m\n\u001b[0m",
      "\u001b[1;31mAttributeError\u001b[0m: 'HtmlElement' object has no attribute 'tostring'"
     ]
    }
   ],
   "source": [
    "tree.get_element_by_id('Terminology').tostring()"
   ]
  },
  {
   "cell_type": "code",
   "execution_count": 10,
   "metadata": {
    "collapsed": true
   },
   "outputs": [
    {
     "ename": "TypeError",
     "evalue": "expected string or bytes-like object",
     "output_type": "error",
     "traceback": [
      "\u001b[1;31m---------------------------------------------------------------------------\u001b[0m",
      "\u001b[1;31mTypeError\u001b[0m                                 Traceback (most recent call last)",
      "\u001b[1;32m<ipython-input-10-bdaab30fb2b3>\u001b[0m in \u001b[0;36m<module>\u001b[1;34m()\u001b[0m\n\u001b[0;32m      1\u001b[0m \u001b[0mpath\u001b[0m \u001b[1;33m=\u001b[0m \u001b[0mtree\u001b[0m\u001b[1;33m.\u001b[0m\u001b[0mxpath\u001b[0m\u001b[1;33m(\u001b[0m\u001b[1;34m'//*[@id=\"Quadro_FX_(without_CUDA,_OpenCL,_or_Vulkan)\"]/../following-sibling::table[1]'\u001b[0m\u001b[1;33m)\u001b[0m\u001b[1;33m\u001b[0m\u001b[0m\n\u001b[0;32m      2\u001b[0m \u001b[1;31m# tree.get_element_by_id('Terminology').text_content()\u001b[0m\u001b[1;33m\u001b[0m\u001b[1;33m\u001b[0m\u001b[0m\n\u001b[1;32m----> 3\u001b[1;33m \u001b[0mttt\u001b[0m  \u001b[1;33m=\u001b[0m \u001b[0mhtml\u001b[0m\u001b[1;33m.\u001b[0m\u001b[0mfromstring\u001b[0m\u001b[1;33m(\u001b[0m\u001b[0mpath\u001b[0m\u001b[1;33m)\u001b[0m\u001b[1;33m\u001b[0m\u001b[0m\n\u001b[0m",
      "\u001b[1;32mE:\\anaconda\\lib\\site-packages\\lxml\\html\\__init__.py\u001b[0m in \u001b[0;36mfromstring\u001b[1;34m(html, base_url, parser, **kw)\u001b[0m\n\u001b[0;32m    873\u001b[0m         \u001b[0mis_full_html\u001b[0m \u001b[1;33m=\u001b[0m \u001b[0m_looks_like_full_html_bytes\u001b[0m\u001b[1;33m(\u001b[0m\u001b[0mhtml\u001b[0m\u001b[1;33m)\u001b[0m\u001b[1;33m\u001b[0m\u001b[0m\n\u001b[0;32m    874\u001b[0m     \u001b[1;32melse\u001b[0m\u001b[1;33m:\u001b[0m\u001b[1;33m\u001b[0m\u001b[0m\n\u001b[1;32m--> 875\u001b[1;33m         \u001b[0mis_full_html\u001b[0m \u001b[1;33m=\u001b[0m \u001b[0m_looks_like_full_html_unicode\u001b[0m\u001b[1;33m(\u001b[0m\u001b[0mhtml\u001b[0m\u001b[1;33m)\u001b[0m\u001b[1;33m\u001b[0m\u001b[0m\n\u001b[0m\u001b[0;32m    876\u001b[0m     \u001b[0mdoc\u001b[0m \u001b[1;33m=\u001b[0m \u001b[0mdocument_fromstring\u001b[0m\u001b[1;33m(\u001b[0m\u001b[0mhtml\u001b[0m\u001b[1;33m,\u001b[0m \u001b[0mparser\u001b[0m\u001b[1;33m=\u001b[0m\u001b[0mparser\u001b[0m\u001b[1;33m,\u001b[0m \u001b[0mbase_url\u001b[0m\u001b[1;33m=\u001b[0m\u001b[0mbase_url\u001b[0m\u001b[1;33m,\u001b[0m \u001b[1;33m**\u001b[0m\u001b[0mkw\u001b[0m\u001b[1;33m)\u001b[0m\u001b[1;33m\u001b[0m\u001b[0m\n\u001b[0;32m    877\u001b[0m     \u001b[1;32mif\u001b[0m \u001b[0mis_full_html\u001b[0m\u001b[1;33m:\u001b[0m\u001b[1;33m\u001b[0m\u001b[0m\n",
      "\u001b[1;31mTypeError\u001b[0m: expected string or bytes-like object"
     ]
    }
   ],
   "source": [
    "path = tree.xpath('//*[@id=\"Quadro_FX_(without_CUDA,_OpenCL,_or_Vulkan)\"]/../following-sibling::table[1]')\n",
    "# tree.get_element_by_id('Terminology').text_content()\n",
    "ttt  = html.fromstring(path)"
   ]
  },
  {
   "cell_type": "code",
   "execution_count": null,
   "metadata": {},
   "outputs": [],
   "source": [
    "import pandas as pd\n",
    "def text(elt):\n",
    "    return elt.text_content().replace(u'\\xa0', u' ')\n",
    "\n",
    "# url = 'http://www.fdmbenzinpriser.dk/searchprices/5/'\n",
    "# r = requests.get(url)\n",
    "# root = LH.fromstring(r.content)\n",
    "\n",
    "for table in root.xpath('//table[@id=\"sortabletable\"]'):\n",
    "    header = [text(th) for th in table.xpath('//th')]        # 1\n",
    "    data = [[text(td) for td in tr.xpath('td')]  \n",
    "            for tr in table.xpath('//tr')]                   # 2\n",
    "    data = [row for row in data if len(row)==len(header)]    # 3 \n",
    "    data = pd.DataFrame(data, columns=header)                # 4\n",
    "    print(data)"
   ]
  },
  {
   "cell_type": "code",
   "execution_count": 55,
   "metadata": {},
   "outputs": [],
   "source": [
    "tab = html.fromstring(table)"
   ]
  },
  {
   "cell_type": "code",
   "execution_count": 62,
   "metadata": {
    "collapsed": true
   },
   "outputs": [
    {
     "ename": "TypeError",
     "evalue": "'str' object is not callable",
     "output_type": "error",
     "traceback": [
      "\u001b[1;31m---------------------------------------------------------------------------\u001b[0m",
      "\u001b[1;31mTypeError\u001b[0m                                 Traceback (most recent call last)",
      "\u001b[1;32m<ipython-input-62-17c6cb4803fa>\u001b[0m in \u001b[0;36m<module>\u001b[1;34m()\u001b[0m\n\u001b[0;32m      1\u001b[0m \u001b[0mthead\u001b[0m \u001b[1;33m=\u001b[0m \u001b[0mtab\u001b[0m\u001b[1;33m.\u001b[0m\u001b[0mxpath\u001b[0m\u001b[1;33m(\u001b[0m\u001b[1;34m'//thead/descendant::*'\u001b[0m\u001b[1;33m)\u001b[0m\u001b[1;33m\u001b[0m\u001b[0m\n\u001b[1;32m----> 2\u001b[1;33m \u001b[0mthead\u001b[0m\u001b[1;33m[\u001b[0m\u001b[1;36m1\u001b[0m\u001b[1;33m]\u001b[0m\u001b[1;33m.\u001b[0m\u001b[0mtext\u001b[0m\u001b[1;33m(\u001b[0m\u001b[1;33m)\u001b[0m\u001b[1;33m\u001b[0m\u001b[0m\n\u001b[0m\u001b[0;32m      3\u001b[0m \u001b[1;31m# for thead in thead:\u001b[0m\u001b[1;33m\u001b[0m\u001b[1;33m\u001b[0m\u001b[0m\n\u001b[0;32m      4\u001b[0m \u001b[1;31m#     print(str(thead.text()))\u001b[0m\u001b[1;33m\u001b[0m\u001b[1;33m\u001b[0m\u001b[0m\n",
      "\u001b[1;31mTypeError\u001b[0m: 'str' object is not callable"
     ]
    }
   ],
   "source": [
    "thead = tab.xpath('//thead/descendant::*')\n",
    "thead[1].text()\n",
    "# for thead in thead:\n",
    "#     print(str(thead.text()))"
   ]
  },
  {
   "cell_type": "code",
   "execution_count": 69,
   "metadata": {
    "collapsed": true
   },
   "outputs": [
    {
     "data": {
      "text/plain": [
       "'\\n\\nQuadro_FXPCIe Model\\n\\nLaunch\\n\\nCore\\n\\nCoreclock\\n\\nMemory clock (eff.)\\n\\nMemory size(MiB)\\n\\nMemory type\\n\\nMemorybandwidth\\n\\n3-pinstereoconnector\\n\\nPixelRate\\n\\nTextureRate\\n\\nOpen GL\\n\\nCUDA  OpenCL\\n\\nVulkan\\n\\nPowermax.\\n\\nMonitor Output\\n\\nNear GeForce Model\\n\\nNotes\\n\\nUnits\\n\\n\\nMHz\\nMHz\\nMiB\\n\\nGiB/s\\n\\nGP/s\\nGT/s\\n\\n\\n\\nWatt\\n\\n\\n\\n\\n\\n\\nQuadro FX 330[35]\\n\\n2004-06-28\\nNV35GL (Rankine)\\n250\\n200 (400)\\n64\\n64-bit DDR\\n3.2\\nNo\\n0.5\\n1.0\\n2.1\\nNo\\n21\\n1x DVI\\nGeForce PCX 5300\\nShader Model 2.0\\n\\n\\nQuadro FX 350[36]\\n\\n2006-04-20\\nG72GL (Curie)\\n550\\n405 (810)\\n128\\n64-bit DDR2\\n6.48\\nNo\\n1.1\\n2.2\\n21\\nDVI, VGA\\nGeForce 7300LE\\n\\n\\n\\nQuadro FX 540[37]\\n\\n2004-08-09\\nNV43GL\\n300\\n250 (500)\\n128\\n128-bit GDDR\\n8.8\\nNo\\n2.4\\n2.4\\n35\\nDVI, VGA, S-Video\\nGeForce 6600LE\\n\\n\\n\\nQuadro FX 550[38]\\n\\n2006-04-20\\nNV43GL\\n360\\n400 (800)\\n128\\n128-bit GDDR3\\n12.8\\nNo\\n2.88\\n2.88\\n25\\n2× dual-link DVI (max. only 2048×1536), S-Video\\n\\n\\n\\n\\nQuadro FX 560[39]\\n\\n2006-04-20\\nG73GL\\n350\\n600 (1200)\\n128\\n128-bit GDDR3\\n19.2\\nNo\\n2.80\\n4.2\\n30\\n2x DL-DVI, S-Video\\nGeForce 7600\\n\\n\\n\\nQuadro FX 1300[40]\\n\\n2004-08-09\\nNV38GL\\n350\\n275 (550)\\n128\\n256-bit DDR\\n17.6\\nYes\\n2.80\\n2.80\\n55\\n2x Single-Link DVI, S-Video\\nGeForce PCX 5950\\n\\n\\n\\nQuadro FX 1400[41]\\n\\n2004-08-09\\nNV41GL\\n350\\n300 (600)\\n128\\n256-bit DDR\\n19.2\\nYes\\n2.80\\n4.20\\n70\\n2xSL-DVI, VESA Stereo\\nGeForce 6800\\n\\n\\n\\nQuadro FX 1500[42]\\n\\n2006-04-20\\nG71GL\\n325\\n625 (1250)\\n256\\n256-bit GDDR3\\n40.0\\nNo\\n5.20\\n6.50\\n65\\n2xDL-DVI, S-Video\\nGeForce 79xx (16 pixel, 6 vertex)\\n\\n\\n\\nQuadro FX 3400[43]\\n\\n2004-06-28\\nNV40 A1 (NV45GL)\\n350\\n450 (900)\\n256\\n256-bit GDDR3\\n28.8\\nYes\\n4.60\\n4.60\\n101\\n2x DL-DVI, S-Video\\nGeForce 6800\\n\\n\\n\\nQuadro FX 3450[44]\\n\\n2005-06-28\\nNV42GL (Curie)\\n425\\n500 (1000)\\n256\\n256-bit GDDR3\\n32.0\\nYes\\n5.10\\n5.10\\n83\\n2x DL-DVI, S-Video\\nGeForce 6800\\n\\n\\n\\nQuadro FX 3500[45]\\n\\n2006-05-22\\nG71GL\\n450\\n660 (1320)\\n256\\n256-bit GDDR3\\n42.2\\nYes\\n7.20\\n9.00\\n80\\n2x DVI, S-Video\\nGeForce 7900GS\\nreduced Quadro FX 5500\\n\\n\\nQuadro FX 4000[46]\\n\\n2004-04-01\\nNV42GL\\n425\\n500 (1000)\\n256\\n256-bit GDDR3\\n32.0\\nYes\\n5.10\\n5.10\\n142\\n2x DVI, S-Video\\n\\n\\n\\n\\nQuadro FX 4000 SDI[47]\\n\\n2004-04-19\\nNV42GL\\n425\\n500 (1000)\\n256\\n256-bit GDDR3\\n32.0\\nYes\\n5.10\\n5.10\\n150\\nDVI, 2x SDI HDTV\\n\\n2× SDI HDTV outputs + digital and analog genlock (using external controllers)\\n\\n\\nQuadro FX 4400[48]\\n\\n2005-06-28\\nNV40 A1 (NV45GL)\\n375\\n525 (1050)\\n512\\n256-bit GDDR3\\n33.6\\nYes\\n5.50\\n5.50\\n83\\n2x DL-DVI, S-Video\\nGeForce 6800 PCI-E\\nVariant FX 4400G with Genlock[49]\\n\\n\\nQuadro FX 4500[50]\\n\\n2005-06-28\\nG70GL\\n470\\n525 (1050)\\n512\\n256-bit GDDR3\\n33.6\\nYes\\n6.88\\n10.3\\n109\\n2x DL-DVI, S-Video\\nGeForce 7800GTX\\n\\n\\n\\nQuadro FX 4500 SDI[51]\\n\\n2006-02-11\\nG70GL\\n470\\n525 (1050)\\n512\\n256-bit GDDR3\\n33.6\\nYes\\n6.88\\n10.3\\n116\\nDL-DVI, 2x HDTV\\nGeForce 7800GTX\\nanalog and digital genlock\\n\\n\\nQuadro FX 4500 X2[52]\\n\\n2006-04-24\\nG70GL (2x)\\n500\\n600 (1200)\\n2×512\\n2×256-bit GDDR3\\n2×33.6\\nYes\\n2x 8.0\\n2x 12.0\\n145\\n4x DL-DVI\\nQuadro FX 4500\\nTwo GPU units on the same card\\n\\n\\nQuadro FX 5500[53]\\n\\n2006-04-20\\nG71GL\\n650\\n500 (1000)\\n1024\\n256-bit GDDR3\\n32.3\\nYes\\n10.4\\n15.6\\n96\\n2xDL-DVI, S-Video\\nGeForce 7900GTX\\n\\n\\n\\nQuadro FX 5500 SDI[54]\\n\\n2006-04-20\\nG71GL\\n650\\n500 (1000)\\n1024\\n256-bit GDDR3\\n32.3\\nYes\\n10.4\\n15.6\\n104\\n\\nQuadro FX 5500\\nwith SDI, genlock/frame lock support (via external hardware)\\n\\n'"
      ]
     },
     "execution_count": 69,
     "metadata": {},
     "output_type": "execute_result"
    }
   ],
   "source": [
    "tab.text_content()"
   ]
  },
  {
   "cell_type": "code",
   "execution_count": null,
   "metadata": {},
   "outputs": [],
   "source": []
  },
  {
   "cell_type": "code",
   "execution_count": 54,
   "metadata": {},
   "outputs": [],
   "source": [
    "table = \"\"\"<table class=\"wikitable sortable jquery-tablesorter\" style=\"font-size:85%; text-align: center;\">\n",
    "<thead><tr>\n",
    "<th>Quadro_FX<br>PCIe Model\n",
    "</th>\n",
    "<th>Launch\n",
    "</th>\n",
    "<th>Core\n",
    "</th>\n",
    "<th>Core<br>clock<br>\n",
    "</th>\n",
    "<th>Memory clock<br> (eff.)\n",
    "</th>\n",
    "<th>Memory size<br>(<a href=\"/wiki/Mebibyte\" title=\"Mebibyte\">MiB</a>)\n",
    "</th>\n",
    "<th>Memory type\n",
    "</th>\n",
    "<th>Memory<br>bandwidth<br>\n",
    "</th>\n",
    "<th><a href=\"/wiki/VESA_Stereo\" title=\"VESA Stereo\">3-pin<br>stereo<br>connector</a>\n",
    "</th>\n",
    "<th>Pixel<br>Rate\n",
    "</th>\n",
    "<th>Texture<br>Rate\n",
    "</th>\n",
    "<th><a href=\"/wiki/OpenGL\" title=\"OpenGL\">Open GL</a>\n",
    "</th>\n",
    "<th><a href=\"/wiki/CUDA\" title=\"CUDA\">CUDA</a> <br> <a href=\"/wiki/OpenCL\" title=\"OpenCL\">OpenCL</a>\n",
    "</th>\n",
    "<th><a href=\"/wiki/Vulkan_(API)\" title=\"Vulkan (API)\">Vulkan</a>\n",
    "</th>\n",
    "<th>Power<br>max.<br>\n",
    "</th>\n",
    "<th>Monitor Output\n",
    "</th>\n",
    "<th>Near GeForce Model\n",
    "</th>\n",
    "<th>Notes\n",
    "</th></tr><tr>\n",
    "<th class=\"headerSort\" tabindex=\"0\" role=\"columnheader button\" title=\"Sort ascending\">Units</th>\n",
    "<th class=\"headerSort\" tabindex=\"0\" role=\"columnheader button\" title=\"Sort ascending\"></th>\n",
    "<th class=\"headerSort\" tabindex=\"0\" role=\"columnheader button\" title=\"Sort ascending\"></th>\n",
    "<th class=\"headerSort\" tabindex=\"0\" role=\"columnheader button\" title=\"Sort ascending\">MHz</th>\n",
    "<th class=\"headerSort\" tabindex=\"0\" role=\"columnheader button\" title=\"Sort ascending\">MHz</th>\n",
    "<th class=\"headerSort\" tabindex=\"0\" role=\"columnheader button\" title=\"Sort ascending\">MiB</th>\n",
    "<th class=\"headerSort\" tabindex=\"0\" role=\"columnheader button\" title=\"Sort ascending\"></th>\n",
    "<th class=\"headerSort\" tabindex=\"0\" role=\"columnheader button\" title=\"Sort ascending\">GiB/s</th>\n",
    "<th class=\"headerSort\" tabindex=\"0\" role=\"columnheader button\" title=\"Sort ascending\"></th>\n",
    "<th class=\"headerSort\" tabindex=\"0\" role=\"columnheader button\" title=\"Sort ascending\">GP/s</th>\n",
    "<th class=\"headerSort\" tabindex=\"0\" role=\"columnheader button\" title=\"Sort ascending\">GT/s</th>\n",
    "<th class=\"headerSort\" tabindex=\"0\" role=\"columnheader button\" title=\"Sort ascending\"></th>\n",
    "<th class=\"headerSort\" tabindex=\"0\" role=\"columnheader button\" title=\"Sort ascending\"></th>\n",
    "<th class=\"headerSort\" tabindex=\"0\" role=\"columnheader button\" title=\"Sort ascending\"></th>\n",
    "<th class=\"headerSort\" tabindex=\"0\" role=\"columnheader button\" title=\"Sort ascending\">Watt</th>\n",
    "<th class=\"headerSort\" tabindex=\"0\" role=\"columnheader button\" title=\"Sort ascending\"></th>\n",
    "<th class=\"headerSort\" tabindex=\"0\" role=\"columnheader button\" title=\"Sort ascending\"></th>\n",
    "<th class=\"headerSort\" tabindex=\"0\" role=\"columnheader button\" title=\"Sort ascending\">\n",
    "</th></tr></thead><tbody>\n",
    "\n",
    "<tr>\n",
    "<th>Quadro FX 330<sup id=\"cite_ref-35\" class=\"reference\"><a href=\"#cite_note-35\">[35]</a></sup>\n",
    "</th>\n",
    "<td>2004-06-28</td>\n",
    "<td>NV35GL (Rankine)</td>\n",
    "<td>250</td>\n",
    "<td>200 (400)</td>\n",
    "<td>64</td>\n",
    "<td>64-bit DDR</td>\n",
    "<td>3.2</td>\n",
    "<td style=\"background:#F99;vertical-align:middle;text-align:center;\" class=\"table-no\">No</td>\n",
    "<td>0.5</td>\n",
    "<td>1.0</td>\n",
    "<td rowspan=\"19\">2.1</td>\n",
    "<td rowspan=\"19\" colspan=\"2\" style=\"background:#F99;vertical-align:middle;text-align:center;\" class=\"table-no\">No</td>\n",
    "<td>21</td>\n",
    "<td>1x DVI</td>\n",
    "<td>GeForce PCX 5300</td>\n",
    "<td>Shader Model 2.0\n",
    "</td></tr>\n",
    "<tr>\n",
    "<th>Quadro FX 350<sup id=\"cite_ref-36\" class=\"reference\"><a href=\"#cite_note-36\">[36]</a></sup>\n",
    "</th>\n",
    "<td>2006-04-20</td>\n",
    "<td>G72GL (Curie)</td>\n",
    "<td>550</td>\n",
    "<td>405 (810)</td>\n",
    "<td>128</td>\n",
    "<td>64-bit DDR2</td>\n",
    "<td>6.48</td>\n",
    "<td style=\"background:#F99;vertical-align:middle;text-align:center;\" class=\"table-no\">No</td>\n",
    "<td>1.1</td>\n",
    "<td>2.2</td>\n",
    "<td>21</td>\n",
    "<td>DVI, VGA</td>\n",
    "<td>GeForce 7300LE</td>\n",
    "<td>\n",
    "</td></tr>\n",
    "<tr>\n",
    "<th>Quadro FX 540<sup id=\"cite_ref-37\" class=\"reference\"><a href=\"#cite_note-37\">[37]</a></sup>\n",
    "</th>\n",
    "<td>2004-08-09</td>\n",
    "<td>NV43GL</td>\n",
    "<td>300</td>\n",
    "<td>250 (500)</td>\n",
    "<td>128</td>\n",
    "<td>128-bit GDDR</td>\n",
    "<td>8.8</td>\n",
    "<td style=\"background:#F99;vertical-align:middle;text-align:center;\" class=\"table-no\">No</td>\n",
    "<td>2.4</td>\n",
    "<td>2.4</td>\n",
    "<td>35</td>\n",
    "<td>DVI, VGA, S-Video</td>\n",
    "<td>GeForce 6600LE</td>\n",
    "<td>\n",
    "</td></tr>\n",
    "<tr>\n",
    "<th>Quadro FX 550<sup id=\"cite_ref-38\" class=\"reference\"><a href=\"#cite_note-38\">[38]</a></sup>\n",
    "</th>\n",
    "<td>2006-04-20</td>\n",
    "<td>NV43GL</td>\n",
    "<td>360</td>\n",
    "<td>400 (800)</td>\n",
    "<td>128</td>\n",
    "<td>128-bit GDDR3</td>\n",
    "<td>12.8</td>\n",
    "<td style=\"background:#F99;vertical-align:middle;text-align:center;\" class=\"table-no\">No</td>\n",
    "<td>2.88</td>\n",
    "<td>2.88</td>\n",
    "<td>25</td>\n",
    "<td>2× dual-link DVI (max. only 2048×1536), S-Video</td>\n",
    "<td></td>\n",
    "<td>\n",
    "</td></tr>\n",
    "<tr>\n",
    "<th>Quadro FX 560<sup id=\"cite_ref-39\" class=\"reference\"><a href=\"#cite_note-39\">[39]</a></sup>\n",
    "</th>\n",
    "<td>2006-04-20</td>\n",
    "<td>G73GL</td>\n",
    "<td>350</td>\n",
    "<td>600 (1200)</td>\n",
    "<td>128</td>\n",
    "<td>128-bit GDDR3</td>\n",
    "<td>19.2</td>\n",
    "<td style=\"background:#F99;vertical-align:middle;text-align:center;\" class=\"table-no\">No</td>\n",
    "<td>2.80</td>\n",
    "<td>4.2</td>\n",
    "<td>30</td>\n",
    "<td>2x DL-DVI, S-Video</td>\n",
    "<td><a href=\"/wiki/GeForce_7600\" class=\"mw-redirect\" title=\"GeForce 7600\">GeForce 7600</a></td>\n",
    "<td>\n",
    "</td></tr>\n",
    "<tr>\n",
    "<th>Quadro FX 1300<sup id=\"cite_ref-40\" class=\"reference\"><a href=\"#cite_note-40\">[40]</a></sup>\n",
    "</th>\n",
    "<td>2004-08-09</td>\n",
    "<td>NV38GL</td>\n",
    "<td>350</td>\n",
    "<td>275 (550)</td>\n",
    "<td>128</td>\n",
    "<td>256-bit DDR</td>\n",
    "<td>17.6</td>\n",
    "<td style=\"background:#9F9;vertical-align:middle;text-align:center;\" class=\"table-yes\">Yes</td>\n",
    "<td>2.80</td>\n",
    "<td>2.80</td>\n",
    "<td>55</td>\n",
    "<td>2x Single-Link DVI, S-Video</td>\n",
    "<td>GeForce PCX 5950</td>\n",
    "<td>\n",
    "</td></tr>\n",
    "<tr>\n",
    "<th>Quadro FX 1400<sup id=\"cite_ref-41\" class=\"reference\"><a href=\"#cite_note-41\">[41]</a></sup>\n",
    "</th>\n",
    "<td>2004-08-09</td>\n",
    "<td>NV41GL</td>\n",
    "<td>350</td>\n",
    "<td>300 (600)</td>\n",
    "<td>128</td>\n",
    "<td>256-bit DDR</td>\n",
    "<td>19.2</td>\n",
    "<td style=\"background:#9F9;vertical-align:middle;text-align:center;\" class=\"table-yes\">Yes</td>\n",
    "<td>2.80</td>\n",
    "<td>4.20</td>\n",
    "<td>70</td>\n",
    "<td>2xSL-DVI, VESA Stereo</td>\n",
    "<td>GeForce 6800</td>\n",
    "<td>\n",
    "</td></tr>\n",
    "<tr>\n",
    "<th>Quadro FX 1500<sup id=\"cite_ref-42\" class=\"reference\"><a href=\"#cite_note-42\">[42]</a></sup>\n",
    "</th>\n",
    "<td>2006-04-20</td>\n",
    "<td>G71GL</td>\n",
    "<td>325</td>\n",
    "<td>625 (1250)</td>\n",
    "<td>256</td>\n",
    "<td>256-bit GDDR3</td>\n",
    "<td>40.0</td>\n",
    "<td style=\"background:#F99;vertical-align:middle;text-align:center;\" class=\"table-no\">No</td>\n",
    "<td>5.20</td>\n",
    "<td>6.50</td>\n",
    "<td>65</td>\n",
    "<td>2xDL-DVI, S-Video</td>\n",
    "<td>GeForce 79xx (16 pixel, 6 vertex)</td>\n",
    "<td>\n",
    "</td></tr>\n",
    "<tr>\n",
    "<th>Quadro FX 3400<sup id=\"cite_ref-43\" class=\"reference\"><a href=\"#cite_note-43\">[43]</a></sup>\n",
    "</th>\n",
    "<td>2004-06-28</td>\n",
    "<td>NV40 A1 (NV45GL)</td>\n",
    "<td>350</td>\n",
    "<td>450 (900)</td>\n",
    "<td>256</td>\n",
    "<td>256-bit GDDR3</td>\n",
    "<td>28.8</td>\n",
    "<td style=\"background:#9F9;vertical-align:middle;text-align:center;\" class=\"table-yes\">Yes</td>\n",
    "<td>4.60</td>\n",
    "<td>4.60</td>\n",
    "<td>101</td>\n",
    "<td>2x DL-DVI, S-Video</td>\n",
    "<td>GeForce 6800</td>\n",
    "<td>\n",
    "</td></tr>\n",
    "<tr>\n",
    "<th>Quadro FX 3450<sup id=\"cite_ref-44\" class=\"reference\"><a href=\"#cite_note-44\">[44]</a></sup>\n",
    "</th>\n",
    "<td>2005-06-28</td>\n",
    "<td>NV42GL (Curie)</td>\n",
    "<td>425</td>\n",
    "<td>500 (1000)</td>\n",
    "<td>256</td>\n",
    "<td>256-bit GDDR3</td>\n",
    "<td>32.0</td>\n",
    "<td style=\"background:#9F9;vertical-align:middle;text-align:center;\" class=\"table-yes\">Yes</td>\n",
    "<td>5.10</td>\n",
    "<td>5.10</td>\n",
    "<td>83</td>\n",
    "<td>2x DL-DVI, S-Video</td>\n",
    "<td>GeForce 6800</td>\n",
    "<td>\n",
    "</td></tr>\n",
    "<tr>\n",
    "<th>Quadro FX 3500<sup id=\"cite_ref-45\" class=\"reference\"><a href=\"#cite_note-45\">[45]</a></sup>\n",
    "</th>\n",
    "<td>2006-05-22</td>\n",
    "<td>G71GL</td>\n",
    "<td>450</td>\n",
    "<td>660 (1320)</td>\n",
    "<td>256</td>\n",
    "<td>256-bit GDDR3</td>\n",
    "<td>42.2</td>\n",
    "<td style=\"background:#9F9;vertical-align:middle;text-align:center;\" class=\"table-yes\">Yes</td>\n",
    "<td>7.20</td>\n",
    "<td>9.00</td>\n",
    "<td>80</td>\n",
    "<td>2x DVI, S-Video</td>\n",
    "<td>GeForce 7900GS</td>\n",
    "<td>reduced Quadro FX 5500\n",
    "</td></tr>\n",
    "<tr>\n",
    "<th>Quadro FX 4000<sup id=\"cite_ref-techpowerup.com_46-0\" class=\"reference\"><a href=\"#cite_note-techpowerup.com-46\">[46]</a></sup>\n",
    "</th>\n",
    "<td>2004-04-01</td>\n",
    "<td>NV42GL</td>\n",
    "<td>425</td>\n",
    "<td>500 (1000)</td>\n",
    "<td>256</td>\n",
    "<td>256-bit GDDR3</td>\n",
    "<td>32.0</td>\n",
    "<td style=\"background:#9F9;vertical-align:middle;text-align:center;\" class=\"table-yes\">Yes</td>\n",
    "<td>5.10</td>\n",
    "<td>5.10</td>\n",
    "<td>142</td>\n",
    "<td>2x DVI, S-Video</td>\n",
    "<td></td>\n",
    "<td>\n",
    "</td></tr>\n",
    "<tr>\n",
    "<th>Quadro FX 4000 SDI<sup id=\"cite_ref-ReferenceB_47-0\" class=\"reference\"><a href=\"#cite_note-ReferenceB-47\">[47]</a></sup>\n",
    "</th>\n",
    "<td>2004-04-19</td>\n",
    "<td>NV42GL</td>\n",
    "<td>425</td>\n",
    "<td>500 (1000)</td>\n",
    "<td>256</td>\n",
    "<td>256-bit GDDR3</td>\n",
    "<td>32.0</td>\n",
    "<td style=\"background:#9F9;vertical-align:middle;text-align:center;\" class=\"table-yes\">Yes</td>\n",
    "<td>5.10</td>\n",
    "<td>5.10</td>\n",
    "<td>150</td>\n",
    "<td>DVI, 2x SDI HDTV</td>\n",
    "<td></td>\n",
    "<td>2× SDI HDTV outputs + digital and analog <a href=\"/wiki/Genlock\" title=\"Genlock\">genlock</a> (using external controllers)\n",
    "</td></tr>\n",
    "<tr>\n",
    "<th>Quadro FX 4400<sup id=\"cite_ref-48\" class=\"reference\"><a href=\"#cite_note-48\">[48]</a></sup>\n",
    "</th>\n",
    "<td>2005-06-28</td>\n",
    "<td>NV40 A1 (NV45GL)</td>\n",
    "<td>375</td>\n",
    "<td>525 (1050)</td>\n",
    "<td>512</td>\n",
    "<td>256-bit GDDR3</td>\n",
    "<td>33.6</td>\n",
    "<td style=\"background:#9F9;vertical-align:middle;text-align:center;\" class=\"table-yes\">Yes</td>\n",
    "<td>5.50</td>\n",
    "<td>5.50</td>\n",
    "<td>83</td>\n",
    "<td>2x DL-DVI, S-Video</td>\n",
    "<td>GeForce 6800 PCI-E</td>\n",
    "<td>Variant FX 4400G with Genlock<sup id=\"cite_ref-49\" class=\"reference\"><a href=\"#cite_note-49\">[49]</a></sup>\n",
    "</td></tr>\n",
    "<tr>\n",
    "<th>Quadro FX 4500<sup id=\"cite_ref-50\" class=\"reference\"><a href=\"#cite_note-50\">[50]</a></sup>\n",
    "</th>\n",
    "<td>2005-06-28</td>\n",
    "<td>G70GL</td>\n",
    "<td>470</td>\n",
    "<td>525 (1050)</td>\n",
    "<td>512</td>\n",
    "<td>256-bit GDDR3</td>\n",
    "<td>33.6</td>\n",
    "<td style=\"background:#9F9;vertical-align:middle;text-align:center;\" class=\"table-yes\">Yes</td>\n",
    "<td>6.88</td>\n",
    "<td>10.3</td>\n",
    "<td>109</td>\n",
    "<td>2x DL-DVI, S-Video</td>\n",
    "<td>GeForce 7800GTX</td>\n",
    "<td>\n",
    "</td></tr>\n",
    "<tr>\n",
    "<th>Quadro FX 4500 SDI<sup id=\"cite_ref-51\" class=\"reference\"><a href=\"#cite_note-51\">[51]</a></sup>\n",
    "</th>\n",
    "<td>2006-02-11</td>\n",
    "<td>G70GL</td>\n",
    "<td>470</td>\n",
    "<td>525 (1050)</td>\n",
    "<td>512</td>\n",
    "<td>256-bit GDDR3</td>\n",
    "<td>33.6</td>\n",
    "<td style=\"background:#9F9;vertical-align:middle;text-align:center;\" class=\"table-yes\">Yes</td>\n",
    "<td>6.88</td>\n",
    "<td>10.3</td>\n",
    "<td>116</td>\n",
    "<td>DL-DVI, 2x HDTV</td>\n",
    "<td>GeForce 7800GTX</td>\n",
    "<td>analog and digital <a href=\"/wiki/Genlock\" title=\"Genlock\">genlock</a>\n",
    "</td></tr>\n",
    "<tr>\n",
    "<th>Quadro FX 4500 X2<sup id=\"cite_ref-52\" class=\"reference\"><a href=\"#cite_note-52\">[52]</a></sup>\n",
    "</th>\n",
    "<td>2006-04-24</td>\n",
    "<td>G70GL (2x)</td>\n",
    "<td>500</td>\n",
    "<td>600 (1200)</td>\n",
    "<td>2×512</td>\n",
    "<td>2×256-bit GDDR3</td>\n",
    "<td>2×33.6</td>\n",
    "<td style=\"background:#9F9;vertical-align:middle;text-align:center;\" class=\"table-yes\">Yes</td>\n",
    "<td>2x 8.0</td>\n",
    "<td>2x 12.0</td>\n",
    "<td>145</td>\n",
    "<td>4x DL-DVI</td>\n",
    "<td>Quadro FX 4500</td>\n",
    "<td>Two GPU units on the same card\n",
    "</td></tr>\n",
    "<tr>\n",
    "<th>Quadro FX 5500<sup id=\"cite_ref-53\" class=\"reference\"><a href=\"#cite_note-53\">[53]</a></sup>\n",
    "</th>\n",
    "<td>2006-04-20</td>\n",
    "<td>G71GL</td>\n",
    "<td>650</td>\n",
    "<td>500 (1000)</td>\n",
    "<td>1024</td>\n",
    "<td>256-bit GDDR3</td>\n",
    "<td>32.3</td>\n",
    "<td style=\"background:#9F9;vertical-align:middle;text-align:center;\" class=\"table-yes\">Yes</td>\n",
    "<td>10.4</td>\n",
    "<td>15.6</td>\n",
    "<td>96</td>\n",
    "<td>2xDL-DVI, S-Video</td>\n",
    "<td>GeForce 7900GTX</td>\n",
    "<td>\n",
    "</td></tr>\n",
    "<tr>\n",
    "<th>Quadro FX 5500 SDI<sup id=\"cite_ref-54\" class=\"reference\"><a href=\"#cite_note-54\">[54]</a></sup>\n",
    "</th>\n",
    "<td>2006-04-20</td>\n",
    "<td>G71GL</td>\n",
    "<td>650</td>\n",
    "<td>500 (1000)</td>\n",
    "<td>1024</td>\n",
    "<td>256-bit GDDR3</td>\n",
    "<td>32.3</td>\n",
    "<td style=\"background:#9F9;vertical-align:middle;text-align:center;\" class=\"table-yes\">Yes</td>\n",
    "<td>10.4</td>\n",
    "<td>15.6</td>\n",
    "<td>104</td>\n",
    "<td></td>\n",
    "<td>Quadro FX 5500</td>\n",
    "<td>with SDI, genlock/frame lock support (via external hardware)\n",
    "</td></tr>\n",
    "</tbody><tfoot></tfoot></table>\"\"\""
   ]
  },
  {
   "cell_type": "code",
   "execution_count": null,
   "metadata": {},
   "outputs": [],
   "source": []
  },
  {
   "cell_type": "code",
   "execution_count": null,
   "metadata": {},
   "outputs": [],
   "source": []
  },
  {
   "cell_type": "code",
   "execution_count": null,
   "metadata": {},
   "outputs": [],
   "source": []
  },
  {
   "cell_type": "code",
   "execution_count": null,
   "metadata": {},
   "outputs": [],
   "source": []
  },
  {
   "cell_type": "code",
   "execution_count": 27,
   "metadata": {},
   "outputs": [
    {
     "name": "stdout",
     "output_type": "stream",
     "text": [
      "[('__add__', <method-wrapper '__add__' of list object at 0x000001AB0D2080C8>),\n",
      " ('__class__', <class 'list'>),\n",
      " ('__contains__',\n",
      "  <method-wrapper '__contains__' of list object at 0x000001AB0D2080C8>),\n",
      " ('__delattr__',\n",
      "  <method-wrapper '__delattr__' of list object at 0x000001AB0D2080C8>),\n",
      " ('__delitem__',\n",
      "  <method-wrapper '__delitem__' of list object at 0x000001AB0D2080C8>),\n",
      " ('__dir__', <built-in method __dir__ of list object at 0x000001AB0D2080C8>),\n",
      " ('__doc__',\n",
      "  'list() -> new empty list\\n'\n",
      "  \"list(iterable) -> new list initialized from iterable's items\"),\n",
      " ('__eq__', <method-wrapper '__eq__' of list object at 0x000001AB0D2080C8>),\n",
      " ('__format__',\n",
      "  <built-in method __format__ of list object at 0x000001AB0D2080C8>),\n",
      " ('__ge__', <method-wrapper '__ge__' of list object at 0x000001AB0D2080C8>),\n",
      " ('__getattribute__',\n",
      "  <method-wrapper '__getattribute__' of list object at 0x000001AB0D2080C8>),\n",
      " ('__getitem__',\n",
      "  <built-in method __getitem__ of list object at 0x000001AB0D2080C8>),\n",
      " ('__gt__', <method-wrapper '__gt__' of list object at 0x000001AB0D2080C8>),\n",
      " ('__hash__', None),\n",
      " ('__iadd__', <method-wrapper '__iadd__' of list object at 0x000001AB0D2080C8>),\n",
      " ('__imul__', <method-wrapper '__imul__' of list object at 0x000001AB0D2080C8>),\n",
      " ('__init__', <method-wrapper '__init__' of list object at 0x000001AB0D2080C8>),\n",
      " ('__init_subclass__',\n",
      "  <built-in method __init_subclass__ of type object at 0x0000000052F994F0>),\n",
      " ('__iter__', <method-wrapper '__iter__' of list object at 0x000001AB0D2080C8>),\n",
      " ('__le__', <method-wrapper '__le__' of list object at 0x000001AB0D2080C8>),\n",
      " ('__len__', <method-wrapper '__len__' of list object at 0x000001AB0D2080C8>),\n",
      " ('__lt__', <method-wrapper '__lt__' of list object at 0x000001AB0D2080C8>),\n",
      " ('__mul__', <method-wrapper '__mul__' of list object at 0x000001AB0D2080C8>),\n",
      " ('__ne__', <method-wrapper '__ne__' of list object at 0x000001AB0D2080C8>),\n",
      " ('__new__', <built-in method __new__ of type object at 0x0000000052F994F0>),\n",
      " ('__reduce__',\n",
      "  <built-in method __reduce__ of list object at 0x000001AB0D2080C8>),\n",
      " ('__reduce_ex__',\n",
      "  <built-in method __reduce_ex__ of list object at 0x000001AB0D2080C8>),\n",
      " ('__repr__', <method-wrapper '__repr__' of list object at 0x000001AB0D2080C8>),\n",
      " ('__reversed__',\n",
      "  <built-in method __reversed__ of list object at 0x000001AB0D2080C8>),\n",
      " ('__rmul__', <method-wrapper '__rmul__' of list object at 0x000001AB0D2080C8>),\n",
      " ('__setattr__',\n",
      "  <method-wrapper '__setattr__' of list object at 0x000001AB0D2080C8>),\n",
      " ('__setitem__',\n",
      "  <method-wrapper '__setitem__' of list object at 0x000001AB0D2080C8>),\n",
      " ('__sizeof__',\n",
      "  <built-in method __sizeof__ of list object at 0x000001AB0D2080C8>),\n",
      " ('__str__', <method-wrapper '__str__' of list object at 0x000001AB0D2080C8>),\n",
      " ('__subclasshook__',\n",
      "  <built-in method __subclasshook__ of type object at 0x0000000052F994F0>),\n",
      " ('append', <built-in method append of list object at 0x000001AB0D2080C8>),\n",
      " ('clear', <built-in method clear of list object at 0x000001AB0D2080C8>),\n",
      " ('copy', <built-in method copy of list object at 0x000001AB0D2080C8>),\n",
      " ('count', <built-in method count of list object at 0x000001AB0D2080C8>),\n",
      " ('extend', <built-in method extend of list object at 0x000001AB0D2080C8>),\n",
      " ('index', <built-in method index of list object at 0x000001AB0D2080C8>),\n",
      " ('insert', <built-in method insert of list object at 0x000001AB0D2080C8>),\n",
      " ('pop', <built-in method pop of list object at 0x000001AB0D2080C8>),\n",
      " ('remove', <built-in method remove of list object at 0x000001AB0D2080C8>),\n",
      " ('reverse', <built-in method reverse of list object at 0x000001AB0D2080C8>),\n",
      " ('sort', <built-in method sort of list object at 0x000001AB0D2080C8>)]\n"
     ]
    }
   ],
   "source": [
    "from inspect import getmembers\n",
    "from pprint import pprint\n",
    "# pprint(t.__dict__)\n",
    "pprint(getmembers(t))"
   ]
  },
  {
   "cell_type": "code",
   "execution_count": null,
   "metadata": {},
   "outputs": [],
   "source": []
  },
  {
   "cell_type": "code",
   "execution_count": null,
   "metadata": {},
   "outputs": [],
   "source": []
  },
  {
   "cell_type": "code",
   "execution_count": null,
   "metadata": {},
   "outputs": [],
   "source": []
  },
  {
   "cell_type": "code",
   "execution_count": null,
   "metadata": {},
   "outputs": [],
   "source": []
  },
  {
   "cell_type": "code",
   "execution_count": null,
   "metadata": {},
   "outputs": [],
   "source": []
  },
  {
   "cell_type": "code",
   "execution_count": 4,
   "metadata": {},
   "outputs": [],
   "source": [
    "def linkextract(heading,i):\n",
    "    l = []\n",
    "    for li in heading:\n",
    "        h = str(li.xpath('./a/span[2]/text()')).strip(\"[]\")[1:-1]\n",
    "        h_links = str(li.xpath('./a/@href')).strip(\"[]\")[1:-1]\n",
    "        h1ind = li.xpath('./ul')\n",
    "\n",
    "        l.append([i,h,h_links])\n",
    "        i+=1\n",
    "    return"
   ]
  },
  {
   "cell_type": "code",
   "execution_count": 7,
   "metadata": {
    "collapsed": true
   },
   "outputs": [
    {
     "ename": "error",
     "evalue": "unterminated character set at position 21",
     "output_type": "error",
     "traceback": [
      "\u001b[1;31m---------------------------------------------------------------------------\u001b[0m",
      "\u001b[1;31merror\u001b[0m                                     Traceback (most recent call last)",
      "\u001b[1;32m<ipython-input-7-a540d45730b7>\u001b[0m in \u001b[0;36m<module>\u001b[1;34m()\u001b[0m\n\u001b[1;32m----> 1\u001b[1;33m \u001b[0mtag_rem\u001b[0m \u001b[1;33m=\u001b[0m \u001b[0mre\u001b[0m\u001b[1;33m.\u001b[0m\u001b[0msub\u001b[0m\u001b[1;33m(\u001b[0m\u001b[1;34mr\"<.?sup[^>]*>|<.?i>|]|[\"\u001b[0m\u001b[1;33m,\u001b[0m \u001b[1;34m\"\"\u001b[0m\u001b[1;33m,\u001b[0m \u001b[0mr\u001b[0m\u001b[1;33m.\u001b[0m\u001b[0mtext\u001b[0m\u001b[1;33m)\u001b[0m\u001b[1;33m\u001b[0m\u001b[0m\n\u001b[0m\u001b[0;32m      2\u001b[0m \u001b[0mtag_rem\u001b[0m\u001b[1;33m\u001b[0m\u001b[0m\n",
      "\u001b[1;32mC:\\ProgramData\\Anaconda3\\lib\\re.py\u001b[0m in \u001b[0;36msub\u001b[1;34m(pattern, repl, string, count, flags)\u001b[0m\n\u001b[0;32m    189\u001b[0m     \u001b[0ma\u001b[0m \u001b[0mcallable\u001b[0m\u001b[1;33m,\u001b[0m \u001b[0mit\u001b[0m\u001b[0;31m'\u001b[0m\u001b[0ms\u001b[0m \u001b[0mpassed\u001b[0m \u001b[0mthe\u001b[0m \u001b[0mmatch\u001b[0m \u001b[0mobject\u001b[0m \u001b[1;32mand\u001b[0m \u001b[0mmust\u001b[0m \u001b[1;32mreturn\u001b[0m\u001b[1;33m\u001b[0m\u001b[0m\n\u001b[0;32m    190\u001b[0m     a replacement string to be used.\"\"\"\n\u001b[1;32m--> 191\u001b[1;33m     \u001b[1;32mreturn\u001b[0m \u001b[0m_compile\u001b[0m\u001b[1;33m(\u001b[0m\u001b[0mpattern\u001b[0m\u001b[1;33m,\u001b[0m \u001b[0mflags\u001b[0m\u001b[1;33m)\u001b[0m\u001b[1;33m.\u001b[0m\u001b[0msub\u001b[0m\u001b[1;33m(\u001b[0m\u001b[0mrepl\u001b[0m\u001b[1;33m,\u001b[0m \u001b[0mstring\u001b[0m\u001b[1;33m,\u001b[0m \u001b[0mcount\u001b[0m\u001b[1;33m)\u001b[0m\u001b[1;33m\u001b[0m\u001b[0m\n\u001b[0m\u001b[0;32m    192\u001b[0m \u001b[1;33m\u001b[0m\u001b[0m\n\u001b[0;32m    193\u001b[0m \u001b[1;32mdef\u001b[0m \u001b[0msubn\u001b[0m\u001b[1;33m(\u001b[0m\u001b[0mpattern\u001b[0m\u001b[1;33m,\u001b[0m \u001b[0mrepl\u001b[0m\u001b[1;33m,\u001b[0m \u001b[0mstring\u001b[0m\u001b[1;33m,\u001b[0m \u001b[0mcount\u001b[0m\u001b[1;33m=\u001b[0m\u001b[1;36m0\u001b[0m\u001b[1;33m,\u001b[0m \u001b[0mflags\u001b[0m\u001b[1;33m=\u001b[0m\u001b[1;36m0\u001b[0m\u001b[1;33m)\u001b[0m\u001b[1;33m:\u001b[0m\u001b[1;33m\u001b[0m\u001b[0m\n",
      "\u001b[1;32mC:\\ProgramData\\Anaconda3\\lib\\re.py\u001b[0m in \u001b[0;36m_compile\u001b[1;34m(pattern, flags)\u001b[0m\n\u001b[0;32m    299\u001b[0m     \u001b[1;32mif\u001b[0m \u001b[1;32mnot\u001b[0m \u001b[0msre_compile\u001b[0m\u001b[1;33m.\u001b[0m\u001b[0misstring\u001b[0m\u001b[1;33m(\u001b[0m\u001b[0mpattern\u001b[0m\u001b[1;33m)\u001b[0m\u001b[1;33m:\u001b[0m\u001b[1;33m\u001b[0m\u001b[0m\n\u001b[0;32m    300\u001b[0m         \u001b[1;32mraise\u001b[0m \u001b[0mTypeError\u001b[0m\u001b[1;33m(\u001b[0m\u001b[1;34m\"first argument must be string or compiled pattern\"\u001b[0m\u001b[1;33m)\u001b[0m\u001b[1;33m\u001b[0m\u001b[0m\n\u001b[1;32m--> 301\u001b[1;33m     \u001b[0mp\u001b[0m \u001b[1;33m=\u001b[0m \u001b[0msre_compile\u001b[0m\u001b[1;33m.\u001b[0m\u001b[0mcompile\u001b[0m\u001b[1;33m(\u001b[0m\u001b[0mpattern\u001b[0m\u001b[1;33m,\u001b[0m \u001b[0mflags\u001b[0m\u001b[1;33m)\u001b[0m\u001b[1;33m\u001b[0m\u001b[0m\n\u001b[0m\u001b[0;32m    302\u001b[0m     \u001b[1;32mif\u001b[0m \u001b[1;32mnot\u001b[0m \u001b[1;33m(\u001b[0m\u001b[0mflags\u001b[0m \u001b[1;33m&\u001b[0m \u001b[0mDEBUG\u001b[0m\u001b[1;33m)\u001b[0m\u001b[1;33m:\u001b[0m\u001b[1;33m\u001b[0m\u001b[0m\n\u001b[0;32m    303\u001b[0m         \u001b[1;32mif\u001b[0m \u001b[0mlen\u001b[0m\u001b[1;33m(\u001b[0m\u001b[0m_cache\u001b[0m\u001b[1;33m)\u001b[0m \u001b[1;33m>=\u001b[0m \u001b[0m_MAXCACHE\u001b[0m\u001b[1;33m:\u001b[0m\u001b[1;33m\u001b[0m\u001b[0m\n",
      "\u001b[1;32mC:\\ProgramData\\Anaconda3\\lib\\sre_compile.py\u001b[0m in \u001b[0;36mcompile\u001b[1;34m(p, flags)\u001b[0m\n\u001b[0;32m    560\u001b[0m     \u001b[1;32mif\u001b[0m \u001b[0misstring\u001b[0m\u001b[1;33m(\u001b[0m\u001b[0mp\u001b[0m\u001b[1;33m)\u001b[0m\u001b[1;33m:\u001b[0m\u001b[1;33m\u001b[0m\u001b[0m\n\u001b[0;32m    561\u001b[0m         \u001b[0mpattern\u001b[0m \u001b[1;33m=\u001b[0m \u001b[0mp\u001b[0m\u001b[1;33m\u001b[0m\u001b[0m\n\u001b[1;32m--> 562\u001b[1;33m         \u001b[0mp\u001b[0m \u001b[1;33m=\u001b[0m \u001b[0msre_parse\u001b[0m\u001b[1;33m.\u001b[0m\u001b[0mparse\u001b[0m\u001b[1;33m(\u001b[0m\u001b[0mp\u001b[0m\u001b[1;33m,\u001b[0m \u001b[0mflags\u001b[0m\u001b[1;33m)\u001b[0m\u001b[1;33m\u001b[0m\u001b[0m\n\u001b[0m\u001b[0;32m    563\u001b[0m     \u001b[1;32melse\u001b[0m\u001b[1;33m:\u001b[0m\u001b[1;33m\u001b[0m\u001b[0m\n\u001b[0;32m    564\u001b[0m         \u001b[0mpattern\u001b[0m \u001b[1;33m=\u001b[0m \u001b[1;32mNone\u001b[0m\u001b[1;33m\u001b[0m\u001b[0m\n",
      "\u001b[1;32mC:\\ProgramData\\Anaconda3\\lib\\sre_parse.py\u001b[0m in \u001b[0;36mparse\u001b[1;34m(str, flags, pattern)\u001b[0m\n\u001b[0;32m    853\u001b[0m \u001b[1;33m\u001b[0m\u001b[0m\n\u001b[0;32m    854\u001b[0m     \u001b[1;32mtry\u001b[0m\u001b[1;33m:\u001b[0m\u001b[1;33m\u001b[0m\u001b[0m\n\u001b[1;32m--> 855\u001b[1;33m         \u001b[0mp\u001b[0m \u001b[1;33m=\u001b[0m \u001b[0m_parse_sub\u001b[0m\u001b[1;33m(\u001b[0m\u001b[0msource\u001b[0m\u001b[1;33m,\u001b[0m \u001b[0mpattern\u001b[0m\u001b[1;33m,\u001b[0m \u001b[0mflags\u001b[0m \u001b[1;33m&\u001b[0m \u001b[0mSRE_FLAG_VERBOSE\u001b[0m\u001b[1;33m,\u001b[0m \u001b[1;36m0\u001b[0m\u001b[1;33m)\u001b[0m\u001b[1;33m\u001b[0m\u001b[0m\n\u001b[0m\u001b[0;32m    856\u001b[0m     \u001b[1;32mexcept\u001b[0m \u001b[0mVerbose\u001b[0m\u001b[1;33m:\u001b[0m\u001b[1;33m\u001b[0m\u001b[0m\n\u001b[0;32m    857\u001b[0m         \u001b[1;31m# the VERBOSE flag was switched on inside the pattern.  to be\u001b[0m\u001b[1;33m\u001b[0m\u001b[1;33m\u001b[0m\u001b[0m\n",
      "\u001b[1;32mC:\\ProgramData\\Anaconda3\\lib\\sre_parse.py\u001b[0m in \u001b[0;36m_parse_sub\u001b[1;34m(source, state, verbose, nested)\u001b[0m\n\u001b[0;32m    414\u001b[0m     \u001b[1;32mwhile\u001b[0m \u001b[1;32mTrue\u001b[0m\u001b[1;33m:\u001b[0m\u001b[1;33m\u001b[0m\u001b[0m\n\u001b[0;32m    415\u001b[0m         itemsappend(_parse(source, state, verbose, nested + 1,\n\u001b[1;32m--> 416\u001b[1;33m                            not nested and not items))\n\u001b[0m\u001b[0;32m    417\u001b[0m         \u001b[1;32mif\u001b[0m \u001b[1;32mnot\u001b[0m \u001b[0msourcematch\u001b[0m\u001b[1;33m(\u001b[0m\u001b[1;34m\"|\"\u001b[0m\u001b[1;33m)\u001b[0m\u001b[1;33m:\u001b[0m\u001b[1;33m\u001b[0m\u001b[0m\n\u001b[0;32m    418\u001b[0m             \u001b[1;32mbreak\u001b[0m\u001b[1;33m\u001b[0m\u001b[0m\n",
      "\u001b[1;32mC:\\ProgramData\\Anaconda3\\lib\\sre_parse.py\u001b[0m in \u001b[0;36m_parse\u001b[1;34m(source, state, verbose, nested, first)\u001b[0m\n\u001b[0;32m    521\u001b[0m                 \u001b[1;32mif\u001b[0m \u001b[0mthis\u001b[0m \u001b[1;32mis\u001b[0m \u001b[1;32mNone\u001b[0m\u001b[1;33m:\u001b[0m\u001b[1;33m\u001b[0m\u001b[0m\n\u001b[0;32m    522\u001b[0m                     raise source.error(\"unterminated character set\",\n\u001b[1;32m--> 523\u001b[1;33m                                        source.tell() - here)\n\u001b[0m\u001b[0;32m    524\u001b[0m                 \u001b[1;32mif\u001b[0m \u001b[0mthis\u001b[0m \u001b[1;33m==\u001b[0m \u001b[1;34m\"]\"\u001b[0m \u001b[1;32mand\u001b[0m \u001b[0mset\u001b[0m \u001b[1;33m!=\u001b[0m \u001b[0mstart\u001b[0m\u001b[1;33m:\u001b[0m\u001b[1;33m\u001b[0m\u001b[0m\n\u001b[0;32m    525\u001b[0m                     \u001b[1;32mbreak\u001b[0m\u001b[1;33m\u001b[0m\u001b[0m\n",
      "\u001b[1;31merror\u001b[0m: unterminated character set at position 21"
     ]
    }
   ],
   "source": [
    "tag_rem = re.sub(r\"<.?sup[^>]*>|<.?i>|]|[\", \"\", r.text)\n",
    "tag_rem"
   ]
  },
  {
   "cell_type": "code",
   "execution_count": 144,
   "metadata": {
    "collapsed": true
   },
   "outputs": [
    {
     "ename": "error",
     "evalue": "unterminated character set at position 21",
     "output_type": "error",
     "traceback": [
      "\u001b[1;31m---------------------------------------------------------------------------\u001b[0m",
      "\u001b[1;31merror\u001b[0m                                     Traceback (most recent call last)",
      "\u001b[1;32m<ipython-input-144-d308302b6f8b>\u001b[0m in \u001b[0;36m<module>\u001b[1;34m()\u001b[0m\n\u001b[0;32m      3\u001b[0m \u001b[1;31m# soup.sup.decompose()\u001b[0m\u001b[1;33m\u001b[0m\u001b[1;33m\u001b[0m\u001b[0m\n\u001b[0;32m      4\u001b[0m \u001b[1;32mimport\u001b[0m \u001b[0mre\u001b[0m\u001b[1;33m\u001b[0m\u001b[0m\n\u001b[1;32m----> 5\u001b[1;33m \u001b[0mtag_rem\u001b[0m \u001b[1;33m=\u001b[0m \u001b[0mre\u001b[0m\u001b[1;33m.\u001b[0m\u001b[0msub\u001b[0m\u001b[1;33m(\u001b[0m\u001b[1;34mr\"<.?sup[^>]*>|<.?i>|]|[\"\u001b[0m\u001b[1;33m,\u001b[0m \u001b[1;34m\"\"\u001b[0m\u001b[1;33m,\u001b[0m \u001b[0mr\u001b[0m\u001b[1;33m.\u001b[0m\u001b[0mtext\u001b[0m\u001b[1;33m)\u001b[0m\u001b[1;33m\u001b[0m\u001b[0m\n\u001b[0m\u001b[0;32m      6\u001b[0m \u001b[0mtree\u001b[0m \u001b[1;33m=\u001b[0m \u001b[0mhtml\u001b[0m\u001b[1;33m.\u001b[0m\u001b[0mfromstring\u001b[0m\u001b[1;33m(\u001b[0m\u001b[0mtag_rem\u001b[0m\u001b[1;33m)\u001b[0m\u001b[1;33m\u001b[0m\u001b[0m\n\u001b[0;32m      7\u001b[0m \u001b[1;32mdef\u001b[0m \u001b[0mheadings\u001b[0m\u001b[1;33m(\u001b[0m\u001b[0mdata\u001b[0m\u001b[1;33m)\u001b[0m\u001b[1;33m:\u001b[0m\u001b[1;33m\u001b[0m\u001b[0m\n",
      "\u001b[1;32mC:\\ProgramData\\Anaconda3\\lib\\re.py\u001b[0m in \u001b[0;36msub\u001b[1;34m(pattern, repl, string, count, flags)\u001b[0m\n\u001b[0;32m    189\u001b[0m     \u001b[0ma\u001b[0m \u001b[0mcallable\u001b[0m\u001b[1;33m,\u001b[0m \u001b[0mit\u001b[0m\u001b[0;31m'\u001b[0m\u001b[0ms\u001b[0m \u001b[0mpassed\u001b[0m \u001b[0mthe\u001b[0m \u001b[0mmatch\u001b[0m \u001b[0mobject\u001b[0m \u001b[1;32mand\u001b[0m \u001b[0mmust\u001b[0m \u001b[1;32mreturn\u001b[0m\u001b[1;33m\u001b[0m\u001b[0m\n\u001b[0;32m    190\u001b[0m     a replacement string to be used.\"\"\"\n\u001b[1;32m--> 191\u001b[1;33m     \u001b[1;32mreturn\u001b[0m \u001b[0m_compile\u001b[0m\u001b[1;33m(\u001b[0m\u001b[0mpattern\u001b[0m\u001b[1;33m,\u001b[0m \u001b[0mflags\u001b[0m\u001b[1;33m)\u001b[0m\u001b[1;33m.\u001b[0m\u001b[0msub\u001b[0m\u001b[1;33m(\u001b[0m\u001b[0mrepl\u001b[0m\u001b[1;33m,\u001b[0m \u001b[0mstring\u001b[0m\u001b[1;33m,\u001b[0m \u001b[0mcount\u001b[0m\u001b[1;33m)\u001b[0m\u001b[1;33m\u001b[0m\u001b[0m\n\u001b[0m\u001b[0;32m    192\u001b[0m \u001b[1;33m\u001b[0m\u001b[0m\n\u001b[0;32m    193\u001b[0m \u001b[1;32mdef\u001b[0m \u001b[0msubn\u001b[0m\u001b[1;33m(\u001b[0m\u001b[0mpattern\u001b[0m\u001b[1;33m,\u001b[0m \u001b[0mrepl\u001b[0m\u001b[1;33m,\u001b[0m \u001b[0mstring\u001b[0m\u001b[1;33m,\u001b[0m \u001b[0mcount\u001b[0m\u001b[1;33m=\u001b[0m\u001b[1;36m0\u001b[0m\u001b[1;33m,\u001b[0m \u001b[0mflags\u001b[0m\u001b[1;33m=\u001b[0m\u001b[1;36m0\u001b[0m\u001b[1;33m)\u001b[0m\u001b[1;33m:\u001b[0m\u001b[1;33m\u001b[0m\u001b[0m\n",
      "\u001b[1;32mC:\\ProgramData\\Anaconda3\\lib\\re.py\u001b[0m in \u001b[0;36m_compile\u001b[1;34m(pattern, flags)\u001b[0m\n\u001b[0;32m    299\u001b[0m     \u001b[1;32mif\u001b[0m \u001b[1;32mnot\u001b[0m \u001b[0msre_compile\u001b[0m\u001b[1;33m.\u001b[0m\u001b[0misstring\u001b[0m\u001b[1;33m(\u001b[0m\u001b[0mpattern\u001b[0m\u001b[1;33m)\u001b[0m\u001b[1;33m:\u001b[0m\u001b[1;33m\u001b[0m\u001b[0m\n\u001b[0;32m    300\u001b[0m         \u001b[1;32mraise\u001b[0m \u001b[0mTypeError\u001b[0m\u001b[1;33m(\u001b[0m\u001b[1;34m\"first argument must be string or compiled pattern\"\u001b[0m\u001b[1;33m)\u001b[0m\u001b[1;33m\u001b[0m\u001b[0m\n\u001b[1;32m--> 301\u001b[1;33m     \u001b[0mp\u001b[0m \u001b[1;33m=\u001b[0m \u001b[0msre_compile\u001b[0m\u001b[1;33m.\u001b[0m\u001b[0mcompile\u001b[0m\u001b[1;33m(\u001b[0m\u001b[0mpattern\u001b[0m\u001b[1;33m,\u001b[0m \u001b[0mflags\u001b[0m\u001b[1;33m)\u001b[0m\u001b[1;33m\u001b[0m\u001b[0m\n\u001b[0m\u001b[0;32m    302\u001b[0m     \u001b[1;32mif\u001b[0m \u001b[1;32mnot\u001b[0m \u001b[1;33m(\u001b[0m\u001b[0mflags\u001b[0m \u001b[1;33m&\u001b[0m \u001b[0mDEBUG\u001b[0m\u001b[1;33m)\u001b[0m\u001b[1;33m:\u001b[0m\u001b[1;33m\u001b[0m\u001b[0m\n\u001b[0;32m    303\u001b[0m         \u001b[1;32mif\u001b[0m \u001b[0mlen\u001b[0m\u001b[1;33m(\u001b[0m\u001b[0m_cache\u001b[0m\u001b[1;33m)\u001b[0m \u001b[1;33m>=\u001b[0m \u001b[0m_MAXCACHE\u001b[0m\u001b[1;33m:\u001b[0m\u001b[1;33m\u001b[0m\u001b[0m\n",
      "\u001b[1;32mC:\\ProgramData\\Anaconda3\\lib\\sre_compile.py\u001b[0m in \u001b[0;36mcompile\u001b[1;34m(p, flags)\u001b[0m\n\u001b[0;32m    560\u001b[0m     \u001b[1;32mif\u001b[0m \u001b[0misstring\u001b[0m\u001b[1;33m(\u001b[0m\u001b[0mp\u001b[0m\u001b[1;33m)\u001b[0m\u001b[1;33m:\u001b[0m\u001b[1;33m\u001b[0m\u001b[0m\n\u001b[0;32m    561\u001b[0m         \u001b[0mpattern\u001b[0m \u001b[1;33m=\u001b[0m \u001b[0mp\u001b[0m\u001b[1;33m\u001b[0m\u001b[0m\n\u001b[1;32m--> 562\u001b[1;33m         \u001b[0mp\u001b[0m \u001b[1;33m=\u001b[0m \u001b[0msre_parse\u001b[0m\u001b[1;33m.\u001b[0m\u001b[0mparse\u001b[0m\u001b[1;33m(\u001b[0m\u001b[0mp\u001b[0m\u001b[1;33m,\u001b[0m \u001b[0mflags\u001b[0m\u001b[1;33m)\u001b[0m\u001b[1;33m\u001b[0m\u001b[0m\n\u001b[0m\u001b[0;32m    563\u001b[0m     \u001b[1;32melse\u001b[0m\u001b[1;33m:\u001b[0m\u001b[1;33m\u001b[0m\u001b[0m\n\u001b[0;32m    564\u001b[0m         \u001b[0mpattern\u001b[0m \u001b[1;33m=\u001b[0m \u001b[1;32mNone\u001b[0m\u001b[1;33m\u001b[0m\u001b[0m\n",
      "\u001b[1;32mC:\\ProgramData\\Anaconda3\\lib\\sre_parse.py\u001b[0m in \u001b[0;36mparse\u001b[1;34m(str, flags, pattern)\u001b[0m\n\u001b[0;32m    853\u001b[0m \u001b[1;33m\u001b[0m\u001b[0m\n\u001b[0;32m    854\u001b[0m     \u001b[1;32mtry\u001b[0m\u001b[1;33m:\u001b[0m\u001b[1;33m\u001b[0m\u001b[0m\n\u001b[1;32m--> 855\u001b[1;33m         \u001b[0mp\u001b[0m \u001b[1;33m=\u001b[0m \u001b[0m_parse_sub\u001b[0m\u001b[1;33m(\u001b[0m\u001b[0msource\u001b[0m\u001b[1;33m,\u001b[0m \u001b[0mpattern\u001b[0m\u001b[1;33m,\u001b[0m \u001b[0mflags\u001b[0m \u001b[1;33m&\u001b[0m \u001b[0mSRE_FLAG_VERBOSE\u001b[0m\u001b[1;33m,\u001b[0m \u001b[1;36m0\u001b[0m\u001b[1;33m)\u001b[0m\u001b[1;33m\u001b[0m\u001b[0m\n\u001b[0m\u001b[0;32m    856\u001b[0m     \u001b[1;32mexcept\u001b[0m \u001b[0mVerbose\u001b[0m\u001b[1;33m:\u001b[0m\u001b[1;33m\u001b[0m\u001b[0m\n\u001b[0;32m    857\u001b[0m         \u001b[1;31m# the VERBOSE flag was switched on inside the pattern.  to be\u001b[0m\u001b[1;33m\u001b[0m\u001b[1;33m\u001b[0m\u001b[0m\n",
      "\u001b[1;32mC:\\ProgramData\\Anaconda3\\lib\\sre_parse.py\u001b[0m in \u001b[0;36m_parse_sub\u001b[1;34m(source, state, verbose, nested)\u001b[0m\n\u001b[0;32m    414\u001b[0m     \u001b[1;32mwhile\u001b[0m \u001b[1;32mTrue\u001b[0m\u001b[1;33m:\u001b[0m\u001b[1;33m\u001b[0m\u001b[0m\n\u001b[0;32m    415\u001b[0m         itemsappend(_parse(source, state, verbose, nested + 1,\n\u001b[1;32m--> 416\u001b[1;33m                            not nested and not items))\n\u001b[0m\u001b[0;32m    417\u001b[0m         \u001b[1;32mif\u001b[0m \u001b[1;32mnot\u001b[0m \u001b[0msourcematch\u001b[0m\u001b[1;33m(\u001b[0m\u001b[1;34m\"|\"\u001b[0m\u001b[1;33m)\u001b[0m\u001b[1;33m:\u001b[0m\u001b[1;33m\u001b[0m\u001b[0m\n\u001b[0;32m    418\u001b[0m             \u001b[1;32mbreak\u001b[0m\u001b[1;33m\u001b[0m\u001b[0m\n",
      "\u001b[1;32mC:\\ProgramData\\Anaconda3\\lib\\sre_parse.py\u001b[0m in \u001b[0;36m_parse\u001b[1;34m(source, state, verbose, nested, first)\u001b[0m\n\u001b[0;32m    521\u001b[0m                 \u001b[1;32mif\u001b[0m \u001b[0mthis\u001b[0m \u001b[1;32mis\u001b[0m \u001b[1;32mNone\u001b[0m\u001b[1;33m:\u001b[0m\u001b[1;33m\u001b[0m\u001b[0m\n\u001b[0;32m    522\u001b[0m                     raise source.error(\"unterminated character set\",\n\u001b[1;32m--> 523\u001b[1;33m                                        source.tell() - here)\n\u001b[0m\u001b[0;32m    524\u001b[0m                 \u001b[1;32mif\u001b[0m \u001b[0mthis\u001b[0m \u001b[1;33m==\u001b[0m \u001b[1;34m\"]\"\u001b[0m \u001b[1;32mand\u001b[0m \u001b[0mset\u001b[0m \u001b[1;33m!=\u001b[0m \u001b[0mstart\u001b[0m\u001b[1;33m:\u001b[0m\u001b[1;33m\u001b[0m\u001b[0m\n\u001b[0;32m    525\u001b[0m                     \u001b[1;32mbreak\u001b[0m\u001b[1;33m\u001b[0m\u001b[0m\n",
      "\u001b[1;31merror\u001b[0m: unterminated character set at position 21"
     ]
    }
   ],
   "source": [
    "\n",
    "# soup = bs(r.text)\n",
    "# soup.sup.decompose()\n",
    "import re\n",
    "tag_rem = re.sub(r\"<.?sup[^>]*>|<.?i>|]|[\", \"\", r.text)\n",
    "tree = html.fromstring(tag_rem)\n",
    "def headings(data):\n",
    "    _data = []\n",
    "    heading = data.xpath('//li[contains(@class, \"toclevel-\")]')\n",
    "    \n",
    "    for li in heading:\n",
    "        text = str(li.xpath('./a/span[2]/text()')).strip(\"[]\")[1:-1]\n",
    "        no = str(li.xpath('./a/span[1]/text()')).strip(\"[]\")[1:-1]    \n",
    "        link = str(li.xpath('./a/@href')).strip(\"[]\")[1:-1]\n",
    "        _data.append([no,text,link])\n",
    "    return _data\n",
    "\n",
    "index = headings(tree)\n",
    "\n",
    "\n",
    "# level1"
   ]
  },
  {
   "cell_type": "code",
   "execution_count": 140,
   "metadata": {},
   "outputs": [],
   "source": [
    "import re\n",
    "# s = '<table style=\"width: 100%%\" bgcolor=\"%s\"><tr><td><font color=\"%s\"><b>1.23</b></td></tr></table>'\n",
    "# result = float(re.sub(r\"<.?sup[^>]*>*</sup>\", \"\", s))\n",
    "\n",
    "data = {}\n",
    "def getcontent(hname):\n",
    "    cpath ='//*[@id= ' + '\"' + hname + '\"' + ']/parent::h2/following-sibling::p[1]/text()'\n",
    "    fpath ='//*[@id= ' + '\"' + hname + '\"' + ']/parent::h2/following-sibling::p[1]/*/text()'\n",
    "    text = tree.xpath(cid)\n",
    "    fillers = tree.xpath(fpath)\n",
    "    i = 0\n",
    "    string = ''\n",
    "    for line in text[:-1]:\n",
    "        string = string + line + fillers[i]\n",
    "        i+=1\n",
    "    string = string + text[-1]\n",
    "    return string\n",
    "\n",
    "    \n",
    "#getcontent(\"Terminology\")\n",
    "# tet"
   ]
  },
  {
   "cell_type": "code",
   "execution_count": 141,
   "metadata": {
    "collapsed": true
   },
   "outputs": [
    {
     "ename": "IndexError",
     "evalue": "list index out of range",
     "output_type": "error",
     "traceback": [
      "\u001b[1;31m---------------------------------------------------------------------------\u001b[0m",
      "\u001b[1;31mIndexError\u001b[0m                                Traceback (most recent call last)",
      "\u001b[1;32m<ipython-input-141-2bd5fb851105>\u001b[0m in \u001b[0;36m<module>\u001b[1;34m()\u001b[0m\n\u001b[1;32m----> 1\u001b[1;33m \u001b[0mgetcontent\u001b[0m\u001b[1;33m(\u001b[0m\u001b[1;34m'Visualization'\u001b[0m\u001b[1;33m)\u001b[0m\u001b[1;33m\u001b[0m\u001b[0m\n\u001b[0m",
      "\u001b[1;32m<ipython-input-140-21b53e8d6838>\u001b[0m in \u001b[0;36mgetcontent\u001b[1;34m(hname)\u001b[0m\n\u001b[0;32m     12\u001b[0m     \u001b[0mstring\u001b[0m \u001b[1;33m=\u001b[0m \u001b[1;34m''\u001b[0m\u001b[1;33m\u001b[0m\u001b[0m\n\u001b[0;32m     13\u001b[0m     \u001b[1;32mfor\u001b[0m \u001b[0mline\u001b[0m \u001b[1;32min\u001b[0m \u001b[0mtext\u001b[0m\u001b[1;33m[\u001b[0m\u001b[1;33m:\u001b[0m\u001b[1;33m-\u001b[0m\u001b[1;36m1\u001b[0m\u001b[1;33m]\u001b[0m\u001b[1;33m:\u001b[0m\u001b[1;33m\u001b[0m\u001b[0m\n\u001b[1;32m---> 14\u001b[1;33m         \u001b[0mstring\u001b[0m \u001b[1;33m=\u001b[0m \u001b[0mstring\u001b[0m \u001b[1;33m+\u001b[0m \u001b[0mline\u001b[0m \u001b[1;33m+\u001b[0m \u001b[0mfillers\u001b[0m\u001b[1;33m[\u001b[0m\u001b[0mi\u001b[0m\u001b[1;33m]\u001b[0m\u001b[1;33m\u001b[0m\u001b[0m\n\u001b[0m\u001b[0;32m     15\u001b[0m         \u001b[0mi\u001b[0m\u001b[1;33m+=\u001b[0m\u001b[1;36m1\u001b[0m\u001b[1;33m\u001b[0m\u001b[0m\n\u001b[0;32m     16\u001b[0m     \u001b[0mstring\u001b[0m \u001b[1;33m=\u001b[0m \u001b[0mstring\u001b[0m \u001b[1;33m+\u001b[0m \u001b[0mtext\u001b[0m\u001b[1;33m[\u001b[0m\u001b[1;33m-\u001b[0m\u001b[1;36m1\u001b[0m\u001b[1;33m]\u001b[0m\u001b[1;33m\u001b[0m\u001b[0m\n",
      "\u001b[1;31mIndexError\u001b[0m: list index out of range"
     ]
    }
   ],
   "source": [
    "getcontent('Visualization')"
   ]
  },
  {
   "cell_type": "code",
   "execution_count": null,
   "metadata": {},
   "outputs": [],
   "source": []
  },
  {
   "cell_type": "code",
   "execution_count": 127,
   "metadata": {
    "collapsed": true
   },
   "outputs": [
    {
     "ename": "IndexError",
     "evalue": "list index out of range",
     "output_type": "error",
     "traceback": [
      "\u001b[1;31m---------------------------------------------------------------------------\u001b[0m",
      "\u001b[1;31mIndexError\u001b[0m                                Traceback (most recent call last)",
      "\u001b[1;32m<ipython-input-127-c15c2f767bad>\u001b[0m in \u001b[0;36m<module>\u001b[1;34m()\u001b[0m\n\u001b[0;32m      1\u001b[0m \u001b[1;32mfor\u001b[0m \u001b[0mline\u001b[0m \u001b[1;32min\u001b[0m \u001b[0mindex\u001b[0m\u001b[1;33m:\u001b[0m\u001b[1;33m\u001b[0m\u001b[0m\n\u001b[0;32m      2\u001b[0m \u001b[1;31m#     print(line[2][1:])\u001b[0m\u001b[1;33m\u001b[0m\u001b[1;33m\u001b[0m\u001b[0m\n\u001b[1;32m----> 3\u001b[1;33m     \u001b[0mdata\u001b[0m\u001b[1;33m[\u001b[0m\u001b[0mline\u001b[0m\u001b[1;33m[\u001b[0m\u001b[1;36m1\u001b[0m\u001b[1;33m]\u001b[0m\u001b[1;33m]\u001b[0m \u001b[1;33m=\u001b[0m \u001b[0mgetcontent\u001b[0m\u001b[1;33m(\u001b[0m\u001b[0mline\u001b[0m\u001b[1;33m[\u001b[0m\u001b[1;36m2\u001b[0m\u001b[1;33m]\u001b[0m\u001b[1;33m[\u001b[0m\u001b[1;36m1\u001b[0m\u001b[1;33m:\u001b[0m\u001b[1;33m]\u001b[0m\u001b[1;33m)\u001b[0m\u001b[1;33m\u001b[0m\u001b[0m\n\u001b[0m",
      "\u001b[1;32m<ipython-input-124-21b53e8d6838>\u001b[0m in \u001b[0;36mgetcontent\u001b[1;34m(hname)\u001b[0m\n\u001b[0;32m     12\u001b[0m     \u001b[0mstring\u001b[0m \u001b[1;33m=\u001b[0m \u001b[1;34m''\u001b[0m\u001b[1;33m\u001b[0m\u001b[0m\n\u001b[0;32m     13\u001b[0m     \u001b[1;32mfor\u001b[0m \u001b[0mline\u001b[0m \u001b[1;32min\u001b[0m \u001b[0mtext\u001b[0m\u001b[1;33m[\u001b[0m\u001b[1;33m:\u001b[0m\u001b[1;33m-\u001b[0m\u001b[1;36m1\u001b[0m\u001b[1;33m]\u001b[0m\u001b[1;33m:\u001b[0m\u001b[1;33m\u001b[0m\u001b[0m\n\u001b[1;32m---> 14\u001b[1;33m         \u001b[0mstring\u001b[0m \u001b[1;33m=\u001b[0m \u001b[0mstring\u001b[0m \u001b[1;33m+\u001b[0m \u001b[0mline\u001b[0m \u001b[1;33m+\u001b[0m \u001b[0mfillers\u001b[0m\u001b[1;33m[\u001b[0m\u001b[0mi\u001b[0m\u001b[1;33m]\u001b[0m\u001b[1;33m\u001b[0m\u001b[0m\n\u001b[0m\u001b[0;32m     15\u001b[0m         \u001b[0mi\u001b[0m\u001b[1;33m+=\u001b[0m\u001b[1;36m1\u001b[0m\u001b[1;33m\u001b[0m\u001b[0m\n\u001b[0;32m     16\u001b[0m     \u001b[0mstring\u001b[0m \u001b[1;33m=\u001b[0m \u001b[0mstring\u001b[0m \u001b[1;33m+\u001b[0m \u001b[0mtext\u001b[0m\u001b[1;33m[\u001b[0m\u001b[1;33m-\u001b[0m\u001b[1;36m1\u001b[0m\u001b[1;33m]\u001b[0m\u001b[1;33m\u001b[0m\u001b[0m\n",
      "\u001b[1;31mIndexError\u001b[0m: list index out of range"
     ]
    }
   ],
   "source": [
    "for line in index:\n",
    "#     print(line[2][1:])\n",
    "    data[line[1]] = getcontent(line[2][1:])"
   ]
  },
  {
   "cell_type": "code",
   "execution_count": 142,
   "metadata": {},
   "outputs": [
    {
     "data": {
      "text/plain": [
       "['An intuitive way of visualizing the semantic similarity of terms is by grouping together terms which are closely related and spacing wider apart the ones which are distantly related. This is also common in practice for ',\n",
       " ' and ',\n",
       " ' and is sometimes subconscious[',\n",
       " '].\\n']"
      ]
     },
     "execution_count": 142,
     "metadata": {},
     "output_type": "execute_result"
    }
   ],
   "source": [
    "hname = \"Visualization\"\n",
    "cpath ='//*[@id= ' + '\"' + hname + '\"' + ']/parent::h2/following-sibling::p[1]/text()'\n",
    "fpath ='//*[@id= ' + '\"' + hname + '\"' + ']/parent::h2/following-sibling::p[1]/*/text()'\n",
    "text = tree.xpath(cpath)\n",
    "fillers = tree.xpath(fpath)\n",
    "text\n",
    "# i = 0\n",
    "# _string = ''\n",
    "# for line in text[:-1]:\n",
    "#     _string = _string + line + fillers[i]\n",
    "#     i+=1\n",
    "# _string = _string + text[-1]"
   ]
  },
  {
   "cell_type": "code",
   "execution_count": 143,
   "metadata": {},
   "outputs": [
    {
     "data": {
      "text/plain": [
       "['mind maps', 'concept maps']"
      ]
     },
     "execution_count": 143,
     "metadata": {},
     "output_type": "execute_result"
    }
   ],
   "source": [
    "fillers"
   ]
  },
  {
   "cell_type": "code",
   "execution_count": null,
   "metadata": {},
   "outputs": [],
   "source": []
  },
  {
   "cell_type": "code",
   "execution_count": null,
   "metadata": {},
   "outputs": [],
   "source": []
  },
  {
   "cell_type": "code",
   "execution_count": null,
   "metadata": {},
   "outputs": [],
   "source": []
  },
  {
   "cell_type": "code",
   "execution_count": null,
   "metadata": {},
   "outputs": [],
   "source": []
  },
  {
   "cell_type": "code",
   "execution_count": null,
   "metadata": {},
   "outputs": [],
   "source": []
  },
  {
   "cell_type": "code",
   "execution_count": 134,
   "metadata": {},
   "outputs": [
    {
     "ename": "NameError",
     "evalue": "name 'ind2' is not defined",
     "output_type": "error",
     "traceback": [
      "\u001b[1;31m---------------------------------------------------------------------------\u001b[0m",
      "\u001b[1;31mNameError\u001b[0m                                 Traceback (most recent call last)",
      "\u001b[1;32m<ipython-input-134-585e2039e8fe>\u001b[0m in \u001b[0;36m<module>\u001b[1;34m()\u001b[0m\n\u001b[0;32m      9\u001b[0m     \u001b[0mi\u001b[0m\u001b[1;33m+=\u001b[0m\u001b[1;36m1\u001b[0m\u001b[1;33m\u001b[0m\u001b[0m\n\u001b[0;32m     10\u001b[0m \u001b[1;33m\u001b[0m\u001b[0m\n\u001b[1;32m---> 11\u001b[1;33m \u001b[0mind2\u001b[0m\u001b[1;33m\u001b[0m\u001b[0m\n\u001b[0m",
      "\u001b[1;31mNameError\u001b[0m: name 'ind2' is not defined"
     ]
    }
   ],
   "source": [
    "for li in heading:\n",
    "    h = str(li.xpath('./a/span[2]/text()')).strip(\"[]\")[1:-1]\n",
    "    h_links = str(li.xpath('./a/@href')).strip(\"[]\")[1:-1]\n",
    "    h1ind = li.xpath('./ul')\n",
    "    name = 'ind' + str(i)\n",
    "    print(name)\n",
    "    name = linkextract(h1ind,i)\n",
    "    l.append([h,h_links])\n",
    "    i+=1\n",
    "\n",
    "ind2"
   ]
  },
  {
   "cell_type": "code",
   "execution_count": 109,
   "metadata": {},
   "outputs": [
    {
     "data": {
      "text/plain": [
       "[[['Terminology', '#Terminology']],\n",
       " [['Visualization', '#Visualization']],\n",
       " [['Applications', '#Applications']],\n",
       " [['Measures', '#Measures'], ['test', 'test']],\n",
       " [['See also', '#See_also']],\n",
       " [['References', '#References']],\n",
       " [['Sources', '#Sources']],\n",
       " [['External links', '#External_links']]]"
      ]
     },
     "execution_count": 109,
     "metadata": {},
     "output_type": "execute_result"
    }
   ],
   "source": []
  },
  {
   "cell_type": "code",
   "execution_count": 9,
   "metadata": {},
   "outputs": [
    {
     "name": "stderr",
     "output_type": "stream",
     "text": [
      "C:\\ProgramData\\Anaconda3\\lib\\site-packages\\urllib3\\connectionpool.py:858: InsecureRequestWarning: Unverified HTTPS request is being made. Adding certificate verification is strongly advised. See: https://urllib3.readthedocs.io/en/latest/advanced-usage.html#ssl-warnings\n",
      "  InsecureRequestWarning)\n"
     ]
    },
    {
     "data": {
      "text/plain": [
       "200"
      ]
     },
     "execution_count": 9,
     "metadata": {},
     "output_type": "execute_result"
    }
   ],
   "source": [
    "http = urllib3.PoolManager()\n",
    "r = http.request('GET', 'https://en.wikipedia.org/wiki/Semantic_similarity')\n",
    "r.status\n",
    "# return r\n",
    "\n",
    "\n",
    "\n",
    "\n",
    "\n"
   ]
  },
  {
   "cell_type": "code",
   "execution_count": 25,
   "metadata": {},
   "outputs": [
    {
     "name": "stderr",
     "output_type": "stream",
     "text": [
      "C:\\ProgramData\\Anaconda3\\lib\\site-packages\\bs4\\__init__.py:181: UserWarning: No parser was explicitly specified, so I'm using the best available HTML parser for this system (\"lxml\"). This usually isn't a problem, but if you run this code on another system, or in a different virtual environment, it may use a different parser and behave differently.\n",
      "\n",
      "The code that caused this warning is on line 193 of the file C:\\ProgramData\\Anaconda3\\lib\\runpy.py. To get rid of this warning, change code that looks like this:\n",
      "\n",
      " BeautifulSoup(YOUR_MARKUP})\n",
      "\n",
      "to this:\n",
      "\n",
      " BeautifulSoup(YOUR_MARKUP, \"lxml\")\n",
      "\n",
      "  markup_type=markup_type))\n"
     ]
    }
   ],
   "source": [
    "soup = bs(r.data)"
   ]
  },
  {
   "cell_type": "code",
   "execution_count": 28,
   "metadata": {},
   "outputs": [],
   "source": [
    "contents =  soup.findAll(\"div\", {\"class\": \"toc\"})"
   ]
  },
  {
   "cell_type": "code",
   "execution_count": null,
   "metadata": {},
   "outputs": [],
   "source": [
    "contdict"
   ]
  },
  {
   "cell_type": "code",
   "execution_count": 34,
   "metadata": {},
   "outputs": [
    {
     "data": {
      "text/plain": [
       "[<div class=\"toc\" id=\"toc\"><input class=\"toctogglecheckbox\" id=\"toctogglecheckbox\" role=\"button\" style=\"display:none\" type=\"checkbox\"/><div class=\"toctitle\" dir=\"ltr\" lang=\"en\"><h2>Contents</h2><span class=\"toctogglespan\"><label class=\"toctogglelabel\" for=\"toctogglecheckbox\"></label></span></div>\n",
       " <ul>\n",
       " <li class=\"toclevel-1 tocsection-1\"><a href=\"#Terminology\"><span class=\"tocnumber\">1</span> <span class=\"toctext\">Terminology</span></a></li>\n",
       " <li class=\"toclevel-1 tocsection-2\"><a href=\"#Visualization\"><span class=\"tocnumber\">2</span> <span class=\"toctext\">Visualization</span></a></li>\n",
       " <li class=\"toclevel-1 tocsection-3\"><a href=\"#Applications\"><span class=\"tocnumber\">3</span> <span class=\"toctext\">Applications</span></a>\n",
       " <ul>\n",
       " <li class=\"toclevel-2 tocsection-4\"><a href=\"#Biomedical_informatics\"><span class=\"tocnumber\">3.1</span> <span class=\"toctext\">Biomedical informatics</span></a></li>\n",
       " <li class=\"toclevel-2 tocsection-5\"><a href=\"#GeoInformatics\"><span class=\"tocnumber\">3.2</span> <span class=\"toctext\">GeoInformatics</span></a></li>\n",
       " <li class=\"toclevel-2 tocsection-6\"><a href=\"#Computational_linguistics\"><span class=\"tocnumber\">3.3</span> <span class=\"toctext\">Computational linguistics</span></a></li>\n",
       " <li class=\"toclevel-2 tocsection-7\"><a href=\"#Natural_language_processing\"><span class=\"tocnumber\">3.4</span> <span class=\"toctext\">Natural language processing</span></a></li>\n",
       " </ul>\n",
       " </li>\n",
       " <li class=\"toclevel-1 tocsection-8\"><a href=\"#Measures\"><span class=\"tocnumber\">4</span> <span class=\"toctext\">Measures</span></a>\n",
       " <ul>\n",
       " <li class=\"toclevel-2 tocsection-9\"><a href=\"#Topological_similarity\"><span class=\"tocnumber\">4.1</span> <span class=\"toctext\">Topological similarity</span></a>\n",
       " <ul>\n",
       " <li class=\"toclevel-3 tocsection-10\"><a href=\"#Edge-based\"><span class=\"tocnumber\">4.1.1</span> <span class=\"toctext\">Edge-based</span></a></li>\n",
       " <li class=\"toclevel-3 tocsection-11\"><a href=\"#Node-based\"><span class=\"tocnumber\">4.1.2</span> <span class=\"toctext\">Node-based</span></a></li>\n",
       " <li class=\"toclevel-3 tocsection-12\"><a href=\"#Node-and-Relation-Content-based\"><span class=\"tocnumber\">4.1.3</span> <span class=\"toctext\">Node-and-Relation-Content-based</span></a></li>\n",
       " <li class=\"toclevel-3 tocsection-13\"><a href=\"#Pairwise\"><span class=\"tocnumber\">4.1.4</span> <span class=\"toctext\">Pairwise</span></a></li>\n",
       " <li class=\"toclevel-3 tocsection-14\"><a href=\"#Groupwise\"><span class=\"tocnumber\">4.1.5</span> <span class=\"toctext\">Groupwise</span></a></li>\n",
       " </ul>\n",
       " </li>\n",
       " <li class=\"toclevel-2 tocsection-15\"><a href=\"#Statistical_similarity\"><span class=\"tocnumber\">4.2</span> <span class=\"toctext\">Statistical similarity</span></a></li>\n",
       " <li class=\"toclevel-2 tocsection-16\"><a href=\"#Semantics-based_similarity\"><span class=\"tocnumber\">4.3</span> <span class=\"toctext\">Semantics-based similarity</span></a></li>\n",
       " <li class=\"toclevel-2 tocsection-17\"><a href=\"#Gold_standards\"><span class=\"tocnumber\">4.4</span> <span class=\"toctext\">Gold standards</span></a></li>\n",
       " </ul>\n",
       " </li>\n",
       " <li class=\"toclevel-1 tocsection-18\"><a href=\"#See_also\"><span class=\"tocnumber\">5</span> <span class=\"toctext\">See also</span></a></li>\n",
       " <li class=\"toclevel-1 tocsection-19\"><a href=\"#References\"><span class=\"tocnumber\">6</span> <span class=\"toctext\">References</span></a></li>\n",
       " <li class=\"toclevel-1 tocsection-20\"><a href=\"#Sources\"><span class=\"tocnumber\">7</span> <span class=\"toctext\">Sources</span></a></li>\n",
       " <li class=\"toclevel-1 tocsection-21\"><a href=\"#External_links\"><span class=\"tocnumber\">8</span> <span class=\"toctext\">External links</span></a>\n",
       " <ul>\n",
       " <li class=\"toclevel-2 tocsection-22\"><a href=\"#Survey_articles\"><span class=\"tocnumber\">8.1</span> <span class=\"toctext\">Survey articles</span></a></li>\n",
       " <li class=\"toclevel-2 tocsection-23\"><a href=\"#Software\"><span class=\"tocnumber\">8.2</span> <span class=\"toctext\">Software</span></a></li>\n",
       " <li class=\"toclevel-2 tocsection-24\"><a href=\"#Web_services\"><span class=\"tocnumber\">8.3</span> <span class=\"toctext\">Web services</span></a></li>\n",
       " </ul>\n",
       " </li>\n",
       " </ul>\n",
       " </div>]"
      ]
     },
     "execution_count": 34,
     "metadata": {},
     "output_type": "execute_result"
    }
   ],
   "source": [
    "contents"
   ]
  },
  {
   "cell_type": "code",
   "execution_count": 24,
   "metadata": {},
   "outputs": [
    {
     "data": {
      "text/plain": [
       "b'<!DOCTYPE html>\\n<html class=\"client-nojs\" lang=\"en\" dir=\"ltr\">\\n<head>\\n<meta charset=\"UTF-8\"/>\\n<title>Semantic similarity - Wikipedia</title>\\n<script>document.documentElement.className = document.documentElement.className.replace( /(^|\\\\s)client-nojs(\\\\s|$)/, \"$1client-js$2\" );</script>\\n<script>(window.RLQ=window.RLQ||[]).push(function(){mw.config.set({\"wgCanonicalNamespace\":\"\",\"wgCanonicalSpecialPageName\":false,\"wgNamespaceNumber\":0,\"wgPageName\":\"Semantic_similarity\",\"wgTitle\":\"Semantic similarity\",\"wgCurRevisionId\":855428163,\"wgRevisionId\":855428163,\"wgArticleId\":1473135,\"wgIsArticle\":true,\"wgIsRedirect\":false,\"wgAction\":\"view\",\"wgUserName\":null,\"wgUserGroups\":[\"*\"],\"wgCategories\":[\"CS1 maint: Multiple names: authors list\",\"Articles needing additional references from December 2010\",\"All articles needing additional references\",\"Wikipedia references cleanup from December 2010\",\"All articles needing references cleanup\",\"Articles covered by WikiProject Wikify from December 2010\",\"All articles covered by WikiProject Wikify\",\"Articles with multiple maintenance issues\",\"All articles with unsourced statements\",\"Articles with unsourced statements from February 2016\",\"Computational linguistics\",\"Statistical distance\",\"Semantics\"],\"wgBreakFrames\":false,\"wgPageContentLanguage\":\"en\",\"wgPageContentModel\":\"wikitext\",\"wgSeparatorTransformTable\":[\"\",\"\"],\"wgDigitTransformTable\":[\"\",\"\"],\"wgDefaultDateFormat\":\"dmy\",\"wgMonthNames\":[\"\",\"January\",\"February\",\"March\",\"April\",\"May\",\"June\",\"July\",\"August\",\"September\",\"October\",\"November\",\"December\"],\"wgMonthNamesShort\":[\"\",\"Jan\",\"Feb\",\"Mar\",\"Apr\",\"May\",\"Jun\",\"Jul\",\"Aug\",\"Sep\",\"Oct\",\"Nov\",\"Dec\"],\"wgRelevantPageName\":\"Semantic_similarity\",\"wgRelevantArticleId\":1473135,\"wgRequestId\":\"W3hb7QpAIEIAAIXdnwMAAAAU\",\"wgCSPNonce\":false,\"wgIsProbablyEditable\":true,\"wgRelevantPageIsProbablyEditable\":true,\"wgRestrictionEdit\":[],\"wgRestrictionMove\":[],\"wgFlaggedRevsParams\":{\"tags\":{}},\"wgStableRevisionId\":null,\"wgCategoryTreePageCategoryOptions\":\"{\\\\\"mode\\\\\":0,\\\\\"hideprefix\\\\\":20,\\\\\"showcount\\\\\":true,\\\\\"namespaces\\\\\":false}\",\"wgWikiEditorEnabledModules\":[],\"wgBetaFeaturesFeatures\":[],\"wgMediaViewerOnClick\":true,\"wgMediaViewerEnabledByDefault\":true,\"wgPopupsShouldSendModuleToUser\":true,\"wgPopupsConflictsWithNavPopupGadget\":false,\"wgVisualEditor\":{\"pageLanguageCode\":\"en\",\"pageLanguageDir\":\"ltr\",\"pageVariantFallbacks\":\"en\",\"usePageImages\":true,\"usePageDescriptions\":true},\"wgMFExpandAllSectionsUserOption\":true,\"wgMFEnableFontChanger\":true,\"wgMFDisplayWikibaseDescriptions\":{\"search\":true,\"nearby\":true,\"watchlist\":true,\"tagline\":false},\"wgRelatedArticles\":null,\"wgRelatedArticlesUseCirrusSearch\":true,\"wgRelatedArticlesOnlyUseCirrusSearch\":false,\"wgULSCurrentAutonym\":\"English\",\"wgNoticeProject\":\"wikipedia\",\"wgCentralNoticeCookiesToDelete\":[],\"wgCentralNoticeCategoriesUsingLegacy\":[\"Fundraising\",\"fundraising\"],\"wgWikibaseItemId\":\"Q2268914\",\"wgScoreNoteLanguages\":{\"arabic\":\"\\xd8\\xa7\\xd9\\x84\\xd8\\xb9\\xd8\\xb1\\xd8\\xa8\\xd9\\x8a\\xd8\\xa9\",\"catalan\":\"catal\\xc3\\xa0\",\"deutsch\":\"Deutsch\",\"english\":\"English\",\"espanol\":\"espa\\xc3\\xb1ol\",\"italiano\":\"italiano\",\"nederlands\":\"Nederlands\",\"norsk\":\"norsk\",\"portugues\":\"portugu\\xc3\\xaas\",\"suomi\":\"suomi\",\"svenska\":\"svenska\",\"vlaams\":\"West-Vlams\"},\"wgScoreDefaultNoteLanguage\":\"nederlands\",\"wgCentralAuthMobileDomain\":false,\"wgCodeMirrorEnabled\":true,\"wgVisualEditorToolbarScrollOffset\":0,\"wgVisualEditorUnsupportedEditParams\":[\"undo\",\"undoafter\",\"veswitched\"],\"wgEditSubmitButtonLabelPublish\":true});mw.loader.state({\"ext.gadget.charinsert-styles\":\"ready\",\"ext.globalCssJs.user.styles\":\"ready\",\"ext.globalCssJs.site.styles\":\"ready\",\"site.styles\":\"ready\",\"noscript\":\"ready\",\"user.styles\":\"ready\",\"ext.globalCssJs.user\":\"ready\",\"ext.globalCssJs.site\":\"ready\",\"user\":\"ready\",\"user.options\":\"ready\",\"user.tokens\":\"loading\",\"ext.cite.styles\":\"ready\",\"mediawiki.legacy.shared\":\"ready\",\"mediawiki.legacy.commonPrint\":\"ready\",\"jquery.makeCollapsible.styles\":\"ready\",\"mediawiki.toc.styles\":\"ready\",\"wikibase.client.init\":\"ready\",\"ext.visualEditor.desktopArticleTarget.noscript\":\"ready\",\"ext.uls.interlanguage\":\"ready\",\"ext.wikimediaBadges\":\"ready\",\"mediawiki.skinning.interface\":\"ready\",\"skins.vector.styles\":\"ready\"});mw.loader.implement(\"user.tokens@1dqfd7l\",function($,jQuery,require,module){/*@nomin*/mw.user.tokens.set({\"editToken\":\"+\\\\\\\\\",\"patrolToken\":\"+\\\\\\\\\",\"watchToken\":\"+\\\\\\\\\",\"csrfToken\":\"+\\\\\\\\\"});\\n});mw.loader.load([\"ext.cite.a11y\",\"site\",\"mediawiki.page.startup\",\"mediawiki.user\",\"mediawiki.page.ready\",\"jquery.makeCollapsible\",\"mediawiki.toc\",\"mediawiki.searchSuggest\",\"ext.gadget.teahouse\",\"ext.gadget.ReferenceTooltips\",\"ext.gadget.watchlist-notice\",\"ext.gadget.DRN-wizard\",\"ext.gadget.charinsert\",\"ext.gadget.refToolbar\",\"ext.gadget.extra-toolbar-buttons\",\"ext.gadget.switcher\",\"ext.centralauth.centralautologin\",\"mmv.head\",\"mmv.bootstrap.autostart\",\"ext.popups\",\"ext.visualEditor.desktopArticleTarget.init\",\"ext.visualEditor.targetLoader\",\"ext.eventLogging.subscriber\",\"ext.wikimediaEvents\",\"ext.navigationTiming\",\"ext.uls.eventlogger\",\"ext.uls.init\",\"ext.uls.compactlinks\",\"ext.uls.interface\",\"ext.3d\",\"ext.centralNotice.geoIP\",\"ext.centralNotice.startUp\",\"skins.vector.js\"]);});</script>\\n<link rel=\"stylesheet\" href=\"/w/load.php?debug=false&amp;lang=en&amp;modules=ext.cite.styles%7Cext.uls.interlanguage%7Cext.visualEditor.desktopArticleTarget.noscript%7Cext.wikimediaBadges%7Cjquery.makeCollapsible.styles%7Cmediawiki.legacy.commonPrint%2Cshared%7Cmediawiki.skinning.interface%7Cmediawiki.toc.styles%7Cskins.vector.styles%7Cwikibase.client.init&amp;only=styles&amp;skin=vector\"/>\\n<script async=\"\" src=\"/w/load.php?debug=false&amp;lang=en&amp;modules=startup&amp;only=scripts&amp;skin=vector\"></script>\\n<meta name=\"ResourceLoaderDynamicStyles\" content=\"\"/>\\n<link rel=\"stylesheet\" href=\"/w/load.php?debug=false&amp;lang=en&amp;modules=ext.gadget.charinsert-styles&amp;only=styles&amp;skin=vector\"/>\\n<link rel=\"stylesheet\" href=\"/w/load.php?debug=false&amp;lang=en&amp;modules=site.styles&amp;only=styles&amp;skin=vector\"/>\\n<meta name=\"generator\" content=\"MediaWiki 1.32.0-wmf.16\"/>\\n<meta name=\"referrer\" content=\"origin\"/>\\n<meta name=\"referrer\" content=\"origin-when-crossorigin\"/>\\n<meta name=\"referrer\" content=\"origin-when-cross-origin\"/>\\n<link rel=\"alternate\" href=\"android-app://org.wikipedia/http/en.m.wikipedia.org/wiki/Semantic_similarity\"/>\\n<link rel=\"alternate\" type=\"application/x-wiki\" title=\"Edit this page\" href=\"/w/index.php?title=Semantic_similarity&amp;action=edit\"/>\\n<link rel=\"edit\" title=\"Edit this page\" href=\"/w/index.php?title=Semantic_similarity&amp;action=edit\"/>\\n<link rel=\"apple-touch-icon\" href=\"/static/apple-touch/wikipedia.png\"/>\\n<link rel=\"shortcut icon\" href=\"/static/favicon/wikipedia.ico\"/>\\n<link rel=\"search\" type=\"application/opensearchdescription+xml\" href=\"/w/opensearch_desc.php\" title=\"Wikipedia (en)\"/>\\n<link rel=\"EditURI\" type=\"application/rsd+xml\" href=\"//en.wikipedia.org/w/api.php?action=rsd\"/>\\n<link rel=\"license\" href=\"//creativecommons.org/licenses/by-sa/3.0/\"/>\\n<link rel=\"canonical\" href=\"https://en.wikipedia.org/wiki/Semantic_similarity\"/>\\n<link rel=\"dns-prefetch\" href=\"//login.wikimedia.org\"/>\\n<link rel=\"dns-prefetch\" href=\"//meta.wikimedia.org\" />\\n<!--[if lt IE 9]><script src=\"/w/load.php?debug=false&amp;lang=en&amp;modules=html5shiv&amp;only=scripts&amp;skin=vector&amp;sync=1\"></script><![endif]-->\\n</head>\\n<body class=\"mediawiki ltr sitedir-ltr mw-hide-empty-elt ns-0 ns-subject page-Semantic_similarity rootpage-Semantic_similarity skin-vector action-view\">\\t\\t<div id=\"mw-page-base\" class=\"noprint\"></div>\\n\\t\\t<div id=\"mw-head-base\" class=\"noprint\"></div>\\n\\t\\t<div id=\"content\" class=\"mw-body\" role=\"main\">\\n\\t\\t\\t<a id=\"top\"></a>\\n\\t\\t\\t<div id=\"siteNotice\" class=\"mw-body-content\"><!-- CentralNotice --></div><div class=\"mw-indicators mw-body-content\">\\n</div>\\n<h1 id=\"firstHeading\" class=\"firstHeading\" lang=\"en\">Semantic similarity</h1>\\t\\t\\t<div id=\"bodyContent\" class=\"mw-body-content\">\\n\\t\\t\\t\\t<div id=\"siteSub\" class=\"noprint\">From Wikipedia, the free encyclopedia</div>\\t\\t\\t\\t<div id=\"contentSub\"></div>\\n\\t\\t\\t\\t<div id=\"jump-to-nav\"></div>\\t\\t\\t\\t<a class=\"mw-jump-link\" href=\"#mw-head\">Jump to navigation</a>\\n\\t\\t\\t\\t<a class=\"mw-jump-link\" href=\"#p-search\">Jump to search</a>\\n\\t\\t\\t\\t<div id=\"mw-content-text\" lang=\"en\" dir=\"ltr\" class=\"mw-content-ltr\"><div class=\"mw-parser-output\"><table class=\"plainlinks metadata ambox ambox-content ambox-multiple_issues compact-ambox\" role=\"presentation\"><tbody><tr><td class=\"mbox-image\"><div style=\"width:52px\"><img alt=\"\" src=\"//upload.wikimedia.org/wikipedia/commons/thumb/b/b4/Ambox_important.svg/40px-Ambox_important.svg.png\" width=\"40\" height=\"40\" srcset=\"//upload.wikimedia.org/wikipedia/commons/thumb/b/b4/Ambox_important.svg/60px-Ambox_important.svg.png 1.5x, //upload.wikimedia.org/wikipedia/commons/thumb/b/b4/Ambox_important.svg/80px-Ambox_important.svg.png 2x\" data-file-width=\"40\" data-file-height=\"40\" /></div></td><td class=\"mbox-text\"><div class=\"mbox-text-span\"><div class=\"mw-collapsible\" style=\"width:95%; margin: 0.2em 0;\"><b>This article has multiple issues.</b> Please help <b><a class=\"external text\" href=\"//en.wikipedia.org/w/index.php?title=Semantic_similarity&amp;action=edit\">improve it</a></b> or discuss these issues on the <b><a href=\"/wiki/Talk:Semantic_similarity\" title=\"Talk:Semantic similarity\">talk page</a></b>. <small><i>(<a href=\"/wiki/Help:Maintenance_template_removal\" title=\"Help:Maintenance template removal\">Learn how and when to remove these template messages</a>)</i></small>\\n<div class=\"mw-collapsible-content\" style=\"margin-top: 0.3em;\">\\n      <table class=\"plainlinks metadata ambox ambox-content ambox-Refimprove\" role=\"presentation\"><tbody><tr><td class=\"mbox-image\"><div style=\"width:52px\"><a href=\"/wiki/File:Question_book-new.svg\" class=\"image\"><img alt=\"\" src=\"//upload.wikimedia.org/wikipedia/en/thumb/9/99/Question_book-new.svg/50px-Question_book-new.svg.png\" width=\"50\" height=\"39\" srcset=\"//upload.wikimedia.org/wikipedia/en/thumb/9/99/Question_book-new.svg/75px-Question_book-new.svg.png 1.5x, //upload.wikimedia.org/wikipedia/en/thumb/9/99/Question_book-new.svg/100px-Question_book-new.svg.png 2x\" data-file-width=\"512\" data-file-height=\"399\" /></a></div></td><td class=\"mbox-text\"><div class=\"mbox-text-span\">This article <b>needs additional citations for <a href=\"/wiki/Wikipedia:Verifiability\" title=\"Wikipedia:Verifiability\">verification</a></b>.<span class=\"hide-when-compact\"> Please help <a class=\"external text\" href=\"//en.wikipedia.org/w/index.php?title=Semantic_similarity&amp;action=edit\">improve this article</a> by <a href=\"/wiki/Help:Introduction_to_referencing_with_Wiki_Markup/1\" title=\"Help:Introduction to referencing with Wiki Markup/1\">adding citations to reliable sources</a>. Unsourced material may be challenged and removed.</span>  <small><i>(December 2010)</i></small><small class=\"hide-when-compact\"><i> (<a href=\"/wiki/Help:Maintenance_template_removal\" title=\"Help:Maintenance template removal\">Learn how and when to remove this template message</a>)</i></small></div></td></tr></tbody></table>\\n<table class=\"plainlinks metadata ambox ambox-style ambox-citation_style\" role=\"presentation\"><tbody><tr><td class=\"mbox-image\"><div style=\"width:52px\"><img alt=\"\" src=\"//upload.wikimedia.org/wikipedia/en/thumb/f/f2/Edit-clear.svg/40px-Edit-clear.svg.png\" width=\"40\" height=\"40\" srcset=\"//upload.wikimedia.org/wikipedia/en/thumb/f/f2/Edit-clear.svg/60px-Edit-clear.svg.png 1.5x, //upload.wikimedia.org/wikipedia/en/thumb/f/f2/Edit-clear.svg/80px-Edit-clear.svg.png 2x\" data-file-width=\"48\" data-file-height=\"48\" /></div></td><td class=\"mbox-text\"><div class=\"mbox-text-span\">This article <b>has an unclear citation style</b>.<span class=\"hide-when-compact\"> The references used may be made clearer with a different or consistent style of <a href=\"/wiki/Wikipedia:Citing_sources\" title=\"Wikipedia:Citing sources\">citation</a> and <a href=\"/wiki/Help:Footnotes\" title=\"Help:Footnotes\">footnoting</a>.</span>  <small><i>(December 2010)</i></small><small class=\"hide-when-compact\"><i> (<a href=\"/wiki/Help:Maintenance_template_removal\" title=\"Help:Maintenance template removal\">Learn how and when to remove this template message</a>)</i></small></div></td></tr></tbody></table>\\n    </div>\\n</div><small class=\"hide-when-compact\"><i> (<a href=\"/wiki/Help:Maintenance_template_removal\" title=\"Help:Maintenance template removal\">Learn how and when to remove this template message</a>)</i></small></div></td></tr></tbody></table>\\n<p><b>Semantic similarity</b> is a metric defined over a set of documents or terms, where the idea of distance between them is based on the likeness of their meaning or semantic content as opposed to similarity which can be estimated regarding their <a href=\"/wiki/Syntax\" title=\"Syntax\">syntactical</a> representation (e.g. their string format). These are mathematical tools used to estimate the strength of the semantic relationship between units of language, concepts or instances, through a numerical description obtained according to the comparison of information supporting their meaning or describing their nature.<sup id=\"cite_ref-harispe2015_1-0\" class=\"reference\"><a href=\"#cite_note-harispe2015-1\">&#91;1&#93;</a></sup><sup id=\"cite_ref-Feng2017_2-0\" class=\"reference\"><a href=\"#cite_note-Feng2017-2\">&#91;2&#93;</a></sup><sup id=\"cite_ref-couto2018_3-0\" class=\"reference\"><a href=\"#cite_note-couto2018-3\">&#91;3&#93;</a></sup> The term semantic similarity is often confused with semantic relatedness. <b>Semantic relatedness</b> includes any relation between two terms, while semantic similarity only includes \"is a\" relations.<sup id=\"cite_ref-4\" class=\"reference\"><a href=\"#cite_note-4\">&#91;4&#93;</a></sup>\\nFor example, \"car\" is similar to \"bus\", but is also related to \"road\" and \"driving\".\\n</p><p>Computationally, semantic similarity can be estimated by defining a <a href=\"/wiki/Topological\" class=\"mw-redirect\" title=\"Topological\">topological</a> similarity, by using <a href=\"/wiki/Ontology_(computer_science)\" class=\"mw-redirect\" title=\"Ontology (computer science)\">ontologies</a> to define the distance between terms/concepts. For example, a naive metric for the comparison of concepts ordered in a <a href=\"/wiki/Partially_ordered_set\" title=\"Partially ordered set\">partially ordered set</a> and represented as nodes of a <a href=\"/wiki/Directed_acyclic_graph\" title=\"Directed acyclic graph\">directed acyclic graph</a> (e.g., a <a href=\"/wiki/Taxonomy_(general)\" title=\"Taxonomy (general)\">taxonomy</a>), would be the shortest-path linking the two concept nodes. Based on text analyses, semantic relatedness between units of language (e.g., words, sentences) can also be estimated using statistical means such as a <a href=\"/wiki/Vector_space_model\" title=\"Vector space model\">vector space model</a> to <a href=\"/wiki/Correlation\" class=\"mw-redirect\" title=\"Correlation\">correlate</a> words and textual contexts from a suitable <a href=\"/wiki/Text_corpus\" title=\"Text corpus\">text corpus</a>.\\n</p><p>Several tools are used to measure the semantic similarity between concepts such as <a href=\"/w/index.php?title=WNetSS_API&amp;action=edit&amp;redlink=1\" class=\"new\" title=\"WNetSS API (page does not exist)\">WNetSS API</a>,<sup id=\"cite_ref-5\" class=\"reference\"><a href=\"#cite_note-5\">&#91;5&#93;</a></sup> which is a Java API manipulating a wide variety of semantic similarity measurements based on the WordNet semantic resource.\\n</p>\\n<div id=\"toc\" class=\"toc\"><input type=\"checkbox\" role=\"button\" id=\"toctogglecheckbox\" class=\"toctogglecheckbox\" style=\"display:none\" /><div class=\"toctitle\" lang=\"en\" dir=\"ltr\"><h2>Contents</h2><span class=\"toctogglespan\"><label class=\"toctogglelabel\" for=\"toctogglecheckbox\"></label></span></div>\\n<ul>\\n<li class=\"toclevel-1 tocsection-1\"><a href=\"#Terminology\"><span class=\"tocnumber\">1</span> <span class=\"toctext\">Terminology</span></a></li>\\n<li class=\"toclevel-1 tocsection-2\"><a href=\"#Visualization\"><span class=\"tocnumber\">2</span> <span class=\"toctext\">Visualization</span></a></li>\\n<li class=\"toclevel-1 tocsection-3\"><a href=\"#Applications\"><span class=\"tocnumber\">3</span> <span class=\"toctext\">Applications</span></a>\\n<ul>\\n<li class=\"toclevel-2 tocsection-4\"><a href=\"#Biomedical_informatics\"><span class=\"tocnumber\">3.1</span> <span class=\"toctext\">Biomedical informatics</span></a></li>\\n<li class=\"toclevel-2 tocsection-5\"><a href=\"#GeoInformatics\"><span class=\"tocnumber\">3.2</span> <span class=\"toctext\">GeoInformatics</span></a></li>\\n<li class=\"toclevel-2 tocsection-6\"><a href=\"#Computational_linguistics\"><span class=\"tocnumber\">3.3</span> <span class=\"toctext\">Computational linguistics</span></a></li>\\n<li class=\"toclevel-2 tocsection-7\"><a href=\"#Natural_language_processing\"><span class=\"tocnumber\">3.4</span> <span class=\"toctext\">Natural language processing</span></a></li>\\n</ul>\\n</li>\\n<li class=\"toclevel-1 tocsection-8\"><a href=\"#Measures\"><span class=\"tocnumber\">4</span> <span class=\"toctext\">Measures</span></a>\\n<ul>\\n<li class=\"toclevel-2 tocsection-9\"><a href=\"#Topological_similarity\"><span class=\"tocnumber\">4.1</span> <span class=\"toctext\">Topological similarity</span></a>\\n<ul>\\n<li class=\"toclevel-3 tocsection-10\"><a href=\"#Edge-based\"><span class=\"tocnumber\">4.1.1</span> <span class=\"toctext\">Edge-based</span></a></li>\\n<li class=\"toclevel-3 tocsection-11\"><a href=\"#Node-based\"><span class=\"tocnumber\">4.1.2</span> <span class=\"toctext\">Node-based</span></a></li>\\n<li class=\"toclevel-3 tocsection-12\"><a href=\"#Node-and-Relation-Content-based\"><span class=\"tocnumber\">4.1.3</span> <span class=\"toctext\">Node-and-Relation-Content-based</span></a></li>\\n<li class=\"toclevel-3 tocsection-13\"><a href=\"#Pairwise\"><span class=\"tocnumber\">4.1.4</span> <span class=\"toctext\">Pairwise</span></a></li>\\n<li class=\"toclevel-3 tocsection-14\"><a href=\"#Groupwise\"><span class=\"tocnumber\">4.1.5</span> <span class=\"toctext\">Groupwise</span></a></li>\\n</ul>\\n</li>\\n<li class=\"toclevel-2 tocsection-15\"><a href=\"#Statistical_similarity\"><span class=\"tocnumber\">4.2</span> <span class=\"toctext\">Statistical similarity</span></a></li>\\n<li class=\"toclevel-2 tocsection-16\"><a href=\"#Semantics-based_similarity\"><span class=\"tocnumber\">4.3</span> <span class=\"toctext\">Semantics-based similarity</span></a></li>\\n<li class=\"toclevel-2 tocsection-17\"><a href=\"#Gold_standards\"><span class=\"tocnumber\">4.4</span> <span class=\"toctext\">Gold standards</span></a></li>\\n</ul>\\n</li>\\n<li class=\"toclevel-1 tocsection-18\"><a href=\"#See_also\"><span class=\"tocnumber\">5</span> <span class=\"toctext\">See also</span></a></li>\\n<li class=\"toclevel-1 tocsection-19\"><a href=\"#References\"><span class=\"tocnumber\">6</span> <span class=\"toctext\">References</span></a></li>\\n<li class=\"toclevel-1 tocsection-20\"><a href=\"#Sources\"><span class=\"tocnumber\">7</span> <span class=\"toctext\">Sources</span></a></li>\\n<li class=\"toclevel-1 tocsection-21\"><a href=\"#External_links\"><span class=\"tocnumber\">8</span> <span class=\"toctext\">External links</span></a>\\n<ul>\\n<li class=\"toclevel-2 tocsection-22\"><a href=\"#Survey_articles\"><span class=\"tocnumber\">8.1</span> <span class=\"toctext\">Survey articles</span></a></li>\\n<li class=\"toclevel-2 tocsection-23\"><a href=\"#Software\"><span class=\"tocnumber\">8.2</span> <span class=\"toctext\">Software</span></a></li>\\n<li class=\"toclevel-2 tocsection-24\"><a href=\"#Web_services\"><span class=\"tocnumber\">8.3</span> <span class=\"toctext\">Web services</span></a></li>\\n</ul>\\n</li>\\n</ul>\\n</div>\\n\\n<h2><span class=\"mw-headline\" id=\"Terminology\">Terminology</span><span class=\"mw-editsection\"><span class=\"mw-editsection-bracket\">[</span><a href=\"/w/index.php?title=Semantic_similarity&amp;action=edit&amp;section=1\" title=\"Edit section: Terminology\">edit</a><span class=\"mw-editsection-bracket\">]</span></span></h2>\\n<p>The concept of <b>semantic similarity</b> is more specific than <b>semantic relatedness</b>, as the latter includes concepts as <a href=\"/wiki/Antonymy\" class=\"mw-redirect\" title=\"Antonymy\">antonymy</a> and <a href=\"/wiki/Meronymy\" title=\"Meronymy\">meronymy</a>, while similarity does not.<sup id=\"cite_ref-budanitsky2001_6-0\" class=\"reference\"><a href=\"#cite_note-budanitsky2001-6\">&#91;6&#93;</a></sup> However, much of the literature uses these terms interchangeably, along with terms like semantic distance. In essence, semantic similarity, semantic distance, and semantic relatedness all mean, \"How much does term A have to do with term B?\" The answer to this question is usually a number between -1 and 1, or between 0 and 1, where 1 signifies extremely high similarity.\\n</p>\\n<h2><span class=\"mw-headline\" id=\"Visualization\">Visualization</span><span class=\"mw-editsection\"><span class=\"mw-editsection-bracket\">[</span><a href=\"/w/index.php?title=Semantic_similarity&amp;action=edit&amp;section=2\" title=\"Edit section: Visualization\">edit</a><span class=\"mw-editsection-bracket\">]</span></span></h2>\\n<p>An intuitive way of visualizing the semantic similarity of terms is by grouping together terms which are closely related and spacing wider apart the ones which are distantly related. This is also common in practice for <a href=\"/wiki/Mind_maps\" class=\"mw-redirect\" title=\"Mind maps\">mind maps</a> and <a href=\"/wiki/Concept_maps\" class=\"mw-redirect\" title=\"Concept maps\">concept maps</a> and is sometimes subconscious<sup class=\"noprint Inline-Template Template-Fact\" style=\"white-space:nowrap;\">&#91;<i><a href=\"/wiki/Wikipedia:Citation_needed\" title=\"Wikipedia:Citation needed\"><span title=\"This claim needs references to reliable sources. (February 2016)\">citation needed</span></a></i>&#93;</sup>.\\n</p><p>A more direct way of visualizing the semantic similarity of two linguistic items can be seen with the <a href=\"/wiki/Semantic_folding\" title=\"Semantic folding\">Semantic Folding</a> approach. In this approach a linguistic item such as a term or a text can be represented by generating a <a href=\"/wiki/Pixel\" title=\"Pixel\">pixel</a> for each of its active semantic features in e.g. a 128 x 128 grid. This allows for a direct visual comparison of the semantics of two items by comparing image representations of their respective feature sets.\\n</p>\\n<h2><span class=\"mw-headline\" id=\"Applications\">Applications</span><span class=\"mw-editsection\"><span class=\"mw-editsection-bracket\">[</span><a href=\"/w/index.php?title=Semantic_similarity&amp;action=edit&amp;section=3\" title=\"Edit section: Applications\">edit</a><span class=\"mw-editsection-bracket\">]</span></span></h2>\\n<h3><span class=\"mw-headline\" id=\"Biomedical_informatics\">Biomedical informatics</span><span class=\"mw-editsection\"><span class=\"mw-editsection-bracket\">[</span><a href=\"/w/index.php?title=Semantic_similarity&amp;action=edit&amp;section=4\" title=\"Edit section: Biomedical informatics\">edit</a><span class=\"mw-editsection-bracket\">]</span></span></h3>\\n<p>Semantic similarity measures have been applied and developed in biomedical ontologies,<sup id=\"cite_ref-7\" class=\"reference\"><a href=\"#cite_note-7\">&#91;7&#93;</a></sup><sup id=\"cite_ref-8\" class=\"reference\"><a href=\"#cite_note-8\">&#91;8&#93;</a></sup><sup id=\"cite_ref-ReferenceA_9-0\" class=\"reference\"><a href=\"#cite_note-ReferenceA-9\">&#91;9&#93;</a></sup> namely, the <a href=\"/wiki/Gene_Ontology\" class=\"mw-redirect\" title=\"Gene Ontology\">Gene Ontology</a> (GO).<sup id=\"cite_ref-10\" class=\"reference\"><a href=\"#cite_note-10\">&#91;10&#93;</a></sup><sup id=\"cite_ref-11\" class=\"reference\"><a href=\"#cite_note-11\">&#91;11&#93;</a></sup><sup id=\"cite_ref-12\" class=\"reference\"><a href=\"#cite_note-12\">&#91;12&#93;</a></sup><sup id=\"cite_ref-13\" class=\"reference\"><a href=\"#cite_note-13\">&#91;13&#93;</a></sup>\\nThey are mainly used to compare <a href=\"/wiki/Genes\" class=\"mw-redirect\" title=\"Genes\">genes</a> and <a href=\"/wiki/Proteins\" class=\"mw-redirect\" title=\"Proteins\">proteins</a> based on the similarity of their functions rather than on their <a href=\"/wiki/Sequence_similarity\" class=\"mw-redirect\" title=\"Sequence similarity\">sequence similarity</a>,\\nbut they are also being extended to other bioentities, such as chemical compounds,<sup id=\"cite_ref-14\" class=\"reference\"><a href=\"#cite_note-14\">&#91;14&#93;</a></sup> anatomical entities<sup id=\"cite_ref-15\" class=\"reference\"><a href=\"#cite_note-15\">&#91;15&#93;</a></sup> and diseases.<sup id=\"cite_ref-16\" class=\"reference\"><a href=\"#cite_note-16\">&#91;16&#93;</a></sup>\\n</p><p>These comparisons can be done using tools freely available on the web:\\n</p>\\n<ul><li>ProteInOn can be used to find interacting proteins, find assigned GO terms and calculate the functional semantic similarity of <a href=\"/wiki/UniProt\" title=\"UniProt\">UniProt</a> proteins and to get the information content and calculate the functional semantic similarity of GO terms.<sup id=\"cite_ref-17\" class=\"reference\"><a href=\"#cite_note-17\">&#91;17&#93;</a></sup></li>\\n<li>CMPSim provides a functional similarity measure between chemical compounds and metabolic pathways using <a href=\"/wiki/ChEBI\" title=\"ChEBI\">ChEBI</a> based semantic similarity measures.<sup id=\"cite_ref-18\" class=\"reference\"><a href=\"#cite_note-18\">&#91;18&#93;</a></sup></li>\\n<li>CESSM provides a tool for the automated evaluation of GO-based semantic similarity measures.<sup id=\"cite_ref-19\" class=\"reference\"><a href=\"#cite_note-19\">&#91;19&#93;</a></sup></li></ul>\\n<h3><span class=\"mw-headline\" id=\"GeoInformatics\">GeoInformatics</span><span class=\"mw-editsection\"><span class=\"mw-editsection-bracket\">[</span><a href=\"/w/index.php?title=Semantic_similarity&amp;action=edit&amp;section=5\" title=\"Edit section: GeoInformatics\">edit</a><span class=\"mw-editsection-bracket\">]</span></span></h3>\\n<p>Similarity is also applied to find similar geographic features or feature types:<sup id=\"cite_ref-20\" class=\"reference\"><a href=\"#cite_note-20\">&#91;20&#93;</a></sup>\\n</p>\\n<ul><li>SIM-DL similarity server<sup id=\"cite_ref-21\" class=\"reference\"><a href=\"#cite_note-21\">&#91;21&#93;</a></sup> can be used to compute similarities between concepts stored in geographic feature type ontologies.</li>\\n<li>Similarity Calculator can be used to compute how well related two geographic concepts are in the Geo-Net-PT ontology.<sup id=\"cite_ref-22\" class=\"reference\"><a href=\"#cite_note-22\">&#91;22&#93;</a></sup><sup id=\"cite_ref-23\" class=\"reference\"><a href=\"#cite_note-23\">&#91;23&#93;</a></sup></li>\\n<li>The <a rel=\"nofollow\" class=\"external text\" href=\"http://wiki.openstreetmap.org/wiki/OSM_Semantic_Network\">OSM Semantic Network</a> can be used to compute the semantic similarity of tags in <a href=\"/wiki/OpenStreetMap\" title=\"OpenStreetMap\">OpenStreetMap</a>.<sup id=\"cite_ref-24\" class=\"reference\"><a href=\"#cite_note-24\">&#91;24&#93;</a></sup></li></ul>\\n<h3><span class=\"mw-headline\" id=\"Computational_linguistics\">Computational linguistics</span><span class=\"mw-editsection\"><span class=\"mw-editsection-bracket\">[</span><a href=\"/w/index.php?title=Semantic_similarity&amp;action=edit&amp;section=6\" title=\"Edit section: Computational linguistics\">edit</a><span class=\"mw-editsection-bracket\">]</span></span></h3>\\n<p>Several metrics use <a href=\"/wiki/WordNet\" title=\"WordNet\">WordNet</a>, a manually constructed lexical database of English words. Despite the advantages of having human supervision in constructing the database, since the words are not automatically learned the database cannot measure relatedness between multi-word term, non-incremental vocabulary.<sup id=\"cite_ref-budanitsky2001_6-1\" class=\"reference\"><a href=\"#cite_note-budanitsky2001-6\">&#91;6&#93;</a></sup><sup id=\"cite_ref-25\" class=\"reference\"><a href=\"#cite_note-25\">&#91;25&#93;</a></sup>\\n</p>\\n<h3><span class=\"mw-headline\" id=\"Natural_language_processing\">Natural language processing</span><span class=\"mw-editsection\"><span class=\"mw-editsection-bracket\">[</span><a href=\"/w/index.php?title=Semantic_similarity&amp;action=edit&amp;section=7\" title=\"Edit section: Natural language processing\">edit</a><span class=\"mw-editsection-bracket\">]</span></span></h3>\\n<p><b><a href=\"/wiki/Natural_language_processing\" title=\"Natural language processing\">Natural language processing</a> (NLP)</b> is a field of computer science and linguistics. Sentiment analysis, Natural language understanding and Machine translation (Automatically translate text from one human language to another) are a few of the major areas where it is being used. For example, knowing one information resource in the internet, it is often of immediate interest to find similar resources. The <a href=\"/wiki/Semantic_Web\" title=\"Semantic Web\">Semantic Web</a> provides semantic extensions to find similar data by content and not just by arbitrary descriptors.<sup id=\"cite_ref-26\" class=\"reference\"><a href=\"#cite_note-26\">&#91;26&#93;</a></sup><sup id=\"cite_ref-27\" class=\"reference\"><a href=\"#cite_note-27\">&#91;27&#93;</a></sup><sup id=\"cite_ref-28\" class=\"reference\"><a href=\"#cite_note-28\">&#91;28&#93;</a></sup><sup id=\"cite_ref-29\" class=\"reference\"><a href=\"#cite_note-29\">&#91;29&#93;</a></sup><sup id=\"cite_ref-30\" class=\"reference\"><a href=\"#cite_note-30\">&#91;30&#93;</a></sup><sup id=\"cite_ref-31\" class=\"reference\"><a href=\"#cite_note-31\">&#91;31&#93;</a></sup><sup id=\"cite_ref-32\" class=\"reference\"><a href=\"#cite_note-32\">&#91;32&#93;</a></sup><sup id=\"cite_ref-33\" class=\"reference\"><a href=\"#cite_note-33\">&#91;33&#93;</a></sup><sup id=\"cite_ref-34\" class=\"reference\"><a href=\"#cite_note-34\">&#91;34&#93;</a></sup>\\n</p>\\n<h2><span class=\"mw-headline\" id=\"Measures\">Measures</span><span class=\"mw-editsection\"><span class=\"mw-editsection-bracket\">[</span><a href=\"/w/index.php?title=Semantic_similarity&amp;action=edit&amp;section=8\" title=\"Edit section: Measures\">edit</a><span class=\"mw-editsection-bracket\">]</span></span></h2>\\n<h3><span class=\"mw-headline\" id=\"Topological_similarity\">Topological similarity</span><span class=\"mw-editsection\"><span class=\"mw-editsection-bracket\">[</span><a href=\"/w/index.php?title=Semantic_similarity&amp;action=edit&amp;section=9\" title=\"Edit section: Topological similarity\">edit</a><span class=\"mw-editsection-bracket\">]</span></span></h3>\\n<p>There are essentially two types of approaches that calculate topological similarity between ontological concepts:\\n</p>\\n<ul><li>Edge-based: which use the edges and their types as the data source;</li>\\n<li>Node-based: in which the main data sources are the nodes and their properties.</li></ul>\\n<p>Other measures calculate the similarity between ontological instances:\\n</p>\\n<ul><li>Pairwise: measure functional similarity between two instances by combining the semantic similarities of the concepts they represent</li>\\n<li>Groupwise: calculate the similarity directly not combining the semantic similarities of the concepts they represent</li></ul>\\n<p>Some examples:\\n</p>\\n<h4><span class=\"mw-headline\" id=\"Edge-based\">Edge-based</span><span class=\"mw-editsection\"><span class=\"mw-editsection-bracket\">[</span><a href=\"/w/index.php?title=Semantic_similarity&amp;action=edit&amp;section=10\" title=\"Edit section: Edge-based\">edit</a><span class=\"mw-editsection-bracket\">]</span></span></h4>\\n<ul><li>Pekar et al.<sup id=\"cite_ref-35\" class=\"reference\"><a href=\"#cite_note-35\">&#91;35&#93;</a></sup></li>\\n<li>Cheng and Cline<sup id=\"cite_ref-36\" class=\"reference\"><a href=\"#cite_note-36\">&#91;36&#93;</a></sup></li>\\n<li>Wu et al.<sup id=\"cite_ref-37\" class=\"reference\"><a href=\"#cite_note-37\">&#91;37&#93;</a></sup></li>\\n<li>Del Pozo et al.<sup id=\"cite_ref-38\" class=\"reference\"><a href=\"#cite_note-38\">&#91;38&#93;</a></sup></li>\\n<li>IntelliGO: Benabderrahmane et al.<sup id=\"cite_ref-ReferenceA_9-1\" class=\"reference\"><a href=\"#cite_note-ReferenceA-9\">&#91;9&#93;</a></sup></li></ul>\\n<h4><span class=\"mw-headline\" id=\"Node-based\">Node-based</span><span class=\"mw-editsection\"><span class=\"mw-editsection-bracket\">[</span><a href=\"/w/index.php?title=Semantic_similarity&amp;action=edit&amp;section=11\" title=\"Edit section: Node-based\">edit</a><span class=\"mw-editsection-bracket\">]</span></span></h4>\\n<ul><li>Resnik<sup id=\"cite_ref-39\" class=\"reference\"><a href=\"#cite_note-39\">&#91;39&#93;</a></sup>\\n<ul><li>based on the notion of <a href=\"/wiki/Information_content\" class=\"mw-redirect\" title=\"Information content\">information content</a>. The information content of a concept (term or word) is the logarithm of the probability of finding the concept in a given corpus.</li>\\n<li>only considers the information content of <a href=\"/wiki/Lowest_common_ancestor\" title=\"Lowest common ancestor\">lowest common subsumer</a> (lcs). A lowest common subsumer is a concept in a lexical taxonomy ( e.g. WordNet), which has the shortest distance from the two concepts compared. For example, animal and mammal both are the subsumers of cat and dog, but mammal is lower subsumer than animal for them.</li></ul></li>\\n<li>Lin<sup id=\"cite_ref-40\" class=\"reference\"><a href=\"#cite_note-40\">&#91;40&#93;</a></sup>\\n<ul><li>based on Resnik\\'s similarity.</li>\\n<li>considers the information content of lowest common subsumer (lcs) and the two compared concepts.</li></ul></li>\\n<li>Maguitman, <a href=\"/wiki/Filippo_Menczer\" title=\"Filippo Menczer\">Menczer</a>, Roinestad and <a href=\"/wiki/Alessandro_Vespignani\" title=\"Alessandro Vespignani\">Vespignani</a><sup id=\"cite_ref-41\" class=\"reference\"><a href=\"#cite_note-41\">&#91;41&#93;</a></sup>\\n<ul><li>Generalizes Lin\\'s similarity to arbitrary ontologies (graphs).</li></ul></li>\\n<li>Jiang and Conrath<sup id=\"cite_ref-42\" class=\"reference\"><a href=\"#cite_note-42\">&#91;42&#93;</a></sup>\\n<ul><li>based on Resnik\\'s similarity.</li>\\n<li>considers the information content of lowest common subsumer (lcs) and the two compared concepts to calculate the distance between the two concepts. The distance is later used in computing the similarity measure.</li></ul></li>\\n<li><a href=\"/wiki/DiShIn\" title=\"DiShIn\">DiShIn</a> Disjunctive Shared Information between Ontology Concepts<sup id=\"cite_ref-43\" class=\"reference\"><a href=\"#cite_note-43\">&#91;43&#93;</a></sup>\\n<ul><li>other alternative: <a href=\"/wiki/GraSM\" class=\"mw-redirect\" title=\"GraSM\">GraSM</a> (Graph-based Similarity Measure)<sup id=\"cite_ref-44\" class=\"reference\"><a href=\"#cite_note-44\">&#91;44&#93;</a></sup></li></ul></li>\\n<li><a rel=\"nofollow\" class=\"external text\" href=\"http://lcl.uniroma1.it/adw/\">Align, Disambiguate, and Walk</a>: Random walks on Semantic Networks<sup id=\"cite_ref-45\" class=\"reference\"><a href=\"#cite_note-45\">&#91;45&#93;</a></sup></li></ul>\\n<h4><span class=\"mw-headline\" id=\"Node-and-Relation-Content-based\">Node-and-Relation-Content-based</span><span class=\"mw-editsection\"><span class=\"mw-editsection-bracket\">[</span><a href=\"/w/index.php?title=Semantic_similarity&amp;action=edit&amp;section=12\" title=\"Edit section: Node-and-Relation-Content-based\">edit</a><span class=\"mw-editsection-bracket\">]</span></span></h4>\\n<ul><li>applicable to ontology</li>\\n<li>consider properties (content) of nodes</li>\\n<li>consider types (content) of relations</li>\\n<li>based on eTVSM<sup id=\"cite_ref-46\" class=\"reference\"><a href=\"#cite_note-46\">&#91;46&#93;</a></sup></li>\\n<li>based on Resnik\\'s similarity<sup id=\"cite_ref-47\" class=\"reference\"><a href=\"#cite_note-47\">&#91;47&#93;</a></sup></li></ul>\\n<h4><span class=\"mw-headline\" id=\"Pairwise\">Pairwise</span><span class=\"mw-editsection\"><span class=\"mw-editsection-bracket\">[</span><a href=\"/w/index.php?title=Semantic_similarity&amp;action=edit&amp;section=13\" title=\"Edit section: Pairwise\">edit</a><span class=\"mw-editsection-bracket\">]</span></span></h4>\\n<ul><li>maximum of the pairwise similarities</li>\\n<li>composite average in which only the best-matching pairs are considered (best-match average)</li></ul>\\n<h4><span class=\"mw-headline\" id=\"Groupwise\">Groupwise</span><span class=\"mw-editsection\"><span class=\"mw-editsection-bracket\">[</span><a href=\"/w/index.php?title=Semantic_similarity&amp;action=edit&amp;section=14\" title=\"Edit section: Groupwise\">edit</a><span class=\"mw-editsection-bracket\">]</span></span></h4>\\n<ul><li><a href=\"/wiki/Jaccard_index\" title=\"Jaccard index\">Jaccard index</a></li>\\n<li>simGIC<sup id=\"cite_ref-48\" class=\"reference\"><a href=\"#cite_note-48\">&#91;48&#93;</a></sup></li>\\n<li><a rel=\"nofollow\" class=\"external text\" href=\"http://www.bioconductor.org/\">simLP</a></li>\\n<li><a rel=\"nofollow\" class=\"external text\" href=\"http://www.bioconductor.org/\">simUI</a></li></ul>\\n<h3><span class=\"mw-headline\" id=\"Statistical_similarity\">Statistical similarity</span><span class=\"mw-editsection\"><span class=\"mw-editsection-bracket\">[</span><a href=\"/w/index.php?title=Semantic_similarity&amp;action=edit&amp;section=15\" title=\"Edit section: Statistical similarity\">edit</a><span class=\"mw-editsection-bracket\">]</span></span></h3>\\n<p>Statistical similarity approaches can be <a href=\"/wiki/Similarity_learning\" title=\"Similarity learning\">learned from data</a>, or predefined.\\n<a href=\"/wiki/Similarity_learning\" title=\"Similarity learning\">Similarity learning</a> can often outperform predefined similarity measures.\\nBroadly speaking, these approaches build a statistical model of documents, and use it to estimate similarity.\\n</p>\\n<ul><li>LSA (<a href=\"/wiki/Latent_semantic_analysis\" title=\"Latent semantic analysis\">Latent semantic analysis</a>)<sup id=\"cite_ref-49\" class=\"reference\"><a href=\"#cite_note-49\">&#91;49&#93;</a></sup><sup id=\"cite_ref-50\" class=\"reference\"><a href=\"#cite_note-50\">&#91;50&#93;</a></sup>(+) vector-based, adds vectors to measure multi-word terms; (\\xe2\\x88\\x92) non-incremental vocabulary, long pre-processing times</li>\\n<li>PMI (<a href=\"/wiki/Pointwise_mutual_information\" title=\"Pointwise mutual information\">Pointwise mutual information</a>) (+) large vocab, because it uses any search engine (like Google); (\\xe2\\x88\\x92) cannot measure relatedness between whole sentences or documents</li>\\n<li>SOC-PMI (<a href=\"/wiki/Second-order_co-occurrence_pointwise_mutual_information\" title=\"Second-order co-occurrence pointwise mutual information\">Second-order co-occurrence pointwise mutual information</a>) (+) sort lists of important neighbor words from a large corpus; (\\xe2\\x88\\x92) cannot measure relatedness between whole sentences or documents</li>\\n<li>GLSA (Generalized Latent Semantic Analysis) (+) vector-based, adds vectors to measure multi-word terms; (\\xe2\\x88\\x92) non-incremental vocabulary, long pre-processing times</li>\\n<li>ICAN (Incremental Construction of an Associative Network) (+) incremental, network-based measure, good for spreading activation, accounts for second-order relatedness; (\\xe2\\x88\\x92) cannot measure relatedness between multi-word terms, long pre-processing times</li>\\n<li>NGD (<a href=\"/wiki/Normalized_Google_distance\" title=\"Normalized Google distance\">Normalized Google distance</a>) (+) large vocab, because it uses any search engine (like Google); (\\xe2\\x88\\x92) can measure relatedness between whole sentences or documents but the larger the sentence or document the more ingenuity is required, Cilibrasi &amp; Vitanyi (2007), reference below.<sup id=\"cite_ref-51\" class=\"reference\"><a href=\"#cite_note-51\">&#91;51&#93;</a></sup></li>\\n<li>TSS - <a rel=\"nofollow\" class=\"external text\" href=\"https://www.hindawi.com/journals/cin/2015/712835/\">Twitter Semantic Similarity</a> -<a rel=\"nofollow\" class=\"external text\" href=\"http://downloads.hindawi.com/journals/cin/2015/712835.pdf\">pdf</a> large vocab, because it use online tweets from Twitter to compute the similarity. It has high temporary resolution that allows to capture high frequency events. Open Source</li>\\n<li>NCD (<a href=\"/wiki/Normalized_Compression_Distance\" class=\"mw-redirect\" title=\"Normalized Compression Distance\">Normalized Compression Distance</a>)</li>\\n<li><a rel=\"nofollow\" class=\"external text\" href=\"http://www.cs.technion.ac.il/~gabr/papers/ijcai-2007-sim.pdf\">ESA (Explicit Semantic Analysis)</a> based on <a href=\"/wiki/Wikipedia\" title=\"Wikipedia\">Wikipedia</a> and the <a href=\"/wiki/Open_Directory_Project\" class=\"mw-redirect\" title=\"Open Directory Project\">ODP</a></li>\\n<li><a rel=\"nofollow\" class=\"external text\" href=\"http://www.samerhassan.com/images/4/48/Hassan.pdf\">SSA (Salient Semantic Analysis)</a> which indexes terms using salient concepts found in their immediate context.</li>\\n<li><a rel=\"nofollow\" class=\"external text\" href=\"http://doi.acm.org/10.1145/1232425.1232448\">n\\xc2\\xb0 of Wikipedia (noW)</a>, inspired by the game <a rel=\"nofollow\" class=\"external text\" href=\"http://chronicle.com/wiredcampus/article/3041/six-degrees-of-wikipedia\">Six Degrees of Wikipedia</a>, is a distance metric based on the hierarchical structure of Wikipedia. A directed-acyclic graph is first constructed and later, <a href=\"/wiki/Dijkstra%27s_algorithm\" title=\"Dijkstra&#39;s algorithm\">Dijkstra\\'s shortest path algorithm</a> is employed to determine the noW value between two terms as the geodesic distance between the corresponding topics (i.e. nodes) in the graph.</li>\\n<li><a rel=\"nofollow\" class=\"external text\" href=\"http://www.cogsci.rpi.edu/vekslv/pubs/pp718-veksler.pdf\">VGEM</a> (Vector Generation of an Explicitly-defined Multidimensional Semantic Space) (+) incremental vocab, can compare multi-word terms (\\xe2\\x88\\x92) performance depends on choosing specific dimensions</li>\\n<li><a href=\"/wiki/SimRank\" title=\"SimRank\">SimRank</a></li>\\n<li><a rel=\"nofollow\" class=\"external text\" href=\"http://lcl.uniroma1.it/nasari/\">NASARI</a>:<sup id=\"cite_ref-52\" class=\"reference\"><a href=\"#cite_note-52\">&#91;52&#93;</a></sup> Sparse vector representations constructed by applying the hypergeometric distribution over the Wikipedia corpus in combination with <a rel=\"nofollow\" class=\"external text\" href=\"http://www.babelnet.org/\">BabelNet</a> taxonomy. Cross-lingual similarity is currently also possible thanks to the multilingual and unified extension.<sup id=\"cite_ref-53\" class=\"reference\"><a href=\"#cite_note-53\">&#91;53&#93;</a></sup></li></ul>\\n<h3><span class=\"mw-headline\" id=\"Semantics-based_similarity\">Semantics-based similarity</span><span class=\"mw-editsection\"><span class=\"mw-editsection-bracket\">[</span><a href=\"/w/index.php?title=Semantic_similarity&amp;action=edit&amp;section=16\" title=\"Edit section: Semantics-based similarity\">edit</a><span class=\"mw-editsection-bracket\">]</span></span></h3>\\n<ul><li>Marker Passing: Combining Lexical Decomposition for automated Ontology Creation and Marker Passing the approach of F\\xc3\\xa4hndrich et al. introduces a new type of semantic similarity measure.<sup id=\"cite_ref-54\" class=\"reference\"><a href=\"#cite_note-54\">&#91;54&#93;</a></sup> Here markers are passed from the two target concepts carrying an amount of activation. This activation might increase or decrease depending on the relations weight with which the concepts are connected. This combines edge and node based approaches and includes connectionist reasoning with symbolic information.</li>\\n<li>Good Common Subsumer-(GCS)-based Semantic Similarity Measure<sup id=\"cite_ref-55\" class=\"reference\"><a href=\"#cite_note-55\">&#91;55&#93;</a></sup></li>\\n<li>Comment on application of semantics-based similarity to biomedical ontologies<sup id=\"cite_ref-56\" class=\"reference\"><a href=\"#cite_note-56\">&#91;56&#93;</a></sup></li></ul>\\n<h3><span class=\"mw-headline\" id=\"Gold_standards\">Gold standards</span><span class=\"mw-editsection\"><span class=\"mw-editsection-bracket\">[</span><a href=\"/w/index.php?title=Semantic_similarity&amp;action=edit&amp;section=17\" title=\"Edit section: Gold standards\">edit</a><span class=\"mw-editsection-bracket\">]</span></span></h3>\\n<p>Researchers have collected datasets with similarity judgements on pairs of words, which are used to evaluate the cognitive plausibility of computational measures. The golden standard up to today is an old 65 word list where humans have judged the word similarity.<sup id=\"cite_ref-57\" class=\"reference\"><a href=\"#cite_note-57\">&#91;57&#93;</a></sup> For a list of datasets, and an overview of the state of the art see <a rel=\"nofollow\" class=\"external text\" href=\"https://www.aclweb.org/aclwiki/index.php?title=Similarity_(State_of_the_art)\">https://www.aclweb.org/</a>.\\n</p>\\n<h2><span class=\"mw-headline\" id=\"See_also\">See also</span><span class=\"mw-editsection\"><span class=\"mw-editsection-bracket\">[</span><a href=\"/w/index.php?title=Semantic_similarity&amp;action=edit&amp;section=18\" title=\"Edit section: See also\">edit</a><span class=\"mw-editsection-bracket\">]</span></span></h2>\\n<div role=\"navigation\" aria-label=\"Portals\" class=\"noprint portal plainlist tright\" style=\"margin:0.5em 0 0.5em 1em;border:solid #aaa 1px\">\\n<ul style=\"display:table;box-sizing:border-box;padding:0.1em;max-width:175px;background:#f9f9f9;font-size:85%;line-height:110%;font-style:italic;font-weight:bold\">\\n<li style=\"display:table-row\"><span style=\"display:table-cell;padding:0.2em;vertical-align:middle;text-align:center\"><a href=\"/wiki/File:Globe_of_letters.svg\" class=\"image\"><img alt=\"icon\" src=\"//upload.wikimedia.org/wikipedia/commons/thumb/d/de/Globe_of_letters.svg/28px-Globe_of_letters.svg.png\" width=\"28\" height=\"28\" class=\"noviewer\" srcset=\"//upload.wikimedia.org/wikipedia/commons/thumb/d/de/Globe_of_letters.svg/42px-Globe_of_letters.svg.png 1.5x, //upload.wikimedia.org/wikipedia/commons/thumb/d/de/Globe_of_letters.svg/56px-Globe_of_letters.svg.png 2x\" data-file-width=\"512\" data-file-height=\"512\" /></a></span><span style=\"display:table-cell;padding:0.2em 0.2em 0.2em 0.3em;vertical-align:middle\"><a href=\"/wiki/Portal:Linguistics\" title=\"Portal:Linguistics\">Linguistics portal</a></span></li></ul></div>\\n<ul><li><a href=\"/wiki/Analogy\" title=\"Analogy\">Analogy</a></li>\\n<li><a href=\"/wiki/Coherence_(linguistics)\" title=\"Coherence (linguistics)\">Coherence (linguistics)</a></li>\\n<li><a href=\"/wiki/Levenshtein_distance\" title=\"Levenshtein distance\">Levenshtein distance</a></li>\\n<li><a href=\"/wiki/Semantic_differential\" title=\"Semantic differential\">Semantic differential</a></li>\\n<li><a href=\"/wiki/Semantic_folding\" title=\"Semantic folding\">Semantic folding</a></li>\\n<li><a href=\"/wiki/Semantic_similarity_network\" title=\"Semantic similarity network\">Semantic similarity network</a></li>\\n<li><a href=\"/wiki/Terminology_extraction\" title=\"Terminology extraction\">Terminology extraction</a></li>\\n<li><a href=\"/wiki/Word2vec\" title=\"Word2vec\">Word2Vec</a></li></ul>\\n<h2><span class=\"mw-headline\" id=\"References\">References</span><span class=\"mw-editsection\"><span class=\"mw-editsection-bracket\">[</span><a href=\"/w/index.php?title=Semantic_similarity&amp;action=edit&amp;section=19\" title=\"Edit section: References\">edit</a><span class=\"mw-editsection-bracket\">]</span></span></h2>\\n<div class=\"reflist\" style=\"list-style-type: decimal;\">\\n<div class=\"mw-references-wrap mw-references-columns\"><ol class=\"references\">\\n<li id=\"cite_note-harispe2015-1\"><span class=\"mw-cite-backlink\"><b><a href=\"#cite_ref-harispe2015_1-0\">^</a></b></span> <span class=\"reference-text\"><cite class=\"citation journal\">Harispe S.; Ranwez S. Janaqi S.; Montmain J. (2015). \"Semantic Similarity from Natural Language and Ontology Analysis\". <i>Synthesis Lectures on Human Language Technologies</i>. <b>8:1</b>: 1\\xe2\\x80\\x93254. <a href=\"/wiki/ArXiv\" title=\"ArXiv\">arXiv</a>:<span class=\"plainlinks\"><a rel=\"nofollow\" class=\"external text\" href=\"//arxiv.org/abs/1704.05295\">1704.05295</a>&#8239;<img alt=\"Freely accessible\" src=\"//upload.wikimedia.org/wikipedia/commons/thumb/6/65/Lock-green.svg/9px-Lock-green.svg.png\" title=\"Freely accessible\" width=\"9\" height=\"14\" srcset=\"//upload.wikimedia.org/wikipedia/commons/thumb/6/65/Lock-green.svg/14px-Lock-green.svg.png 1.5x, //upload.wikimedia.org/wikipedia/commons/thumb/6/65/Lock-green.svg/18px-Lock-green.svg.png 2x\" data-file-width=\"512\" data-file-height=\"813\" /></span> [<a rel=\"nofollow\" class=\"external text\" href=\"//arxiv.org/archive/cs.AI\">cs.AI</a>]. <a href=\"/wiki/Digital_object_identifier\" title=\"Digital object identifier\">doi</a>:<a rel=\"nofollow\" class=\"external text\" href=\"//doi.org/10.2200/S00639ED1V01Y201504HLT027\">10.2200/S00639ED1V01Y201504HLT027</a>.</cite><span title=\"ctx_ver=Z39.88-2004&amp;rft_val_fmt=info%3Aofi%2Ffmt%3Akev%3Amtx%3Ajournal&amp;rft.genre=article&amp;rft.jtitle=Synthesis+Lectures+on+Human+Language+Technologies&amp;rft.atitle=Semantic+Similarity+from+Natural+Language+and+Ontology+Analysis&amp;rft.volume=8%3A1&amp;rft.pages=1-254&amp;rft.date=2015&amp;rft_id=info%3Aarxiv%2F1704.05295&amp;rft_id=info%3Adoi%2F10.2200%2FS00639ED1V01Y201504HLT027&amp;rft.au=Harispe+S.&amp;rft.au=Ranwez+S.+Janaqi+S.&amp;rft.au=Montmain+J.&amp;rfr_id=info%3Asid%2Fen.wikipedia.org%3ASemantic+similarity\" class=\"Z3988\"><span style=\"display:none;\">&#160;</span></span></span>\\n</li>\\n<li id=\"cite_note-Feng2017-2\"><span class=\"mw-cite-backlink\"><b><a href=\"#cite_ref-Feng2017_2-0\">^</a></b></span> <span class=\"reference-text\"><cite class=\"citation journal\">Feng Y.; Bagheri E.; Ensan F.; Jovanovic J. (2017). \"The state of the art in semantic relatedness: a framework for comparison\". <i>Knowledge Engineering Review</i>: 1\\xe2\\x80\\x9330. <a href=\"/wiki/Digital_object_identifier\" title=\"Digital object identifier\">doi</a>:<a rel=\"nofollow\" class=\"external text\" href=\"//doi.org/10.1017/S0269888917000029\">10.1017/S0269888917000029</a>.</cite><span title=\"ctx_ver=Z39.88-2004&amp;rft_val_fmt=info%3Aofi%2Ffmt%3Akev%3Amtx%3Ajournal&amp;rft.genre=article&amp;rft.jtitle=Knowledge+Engineering+Review&amp;rft.atitle=The+state+of+the+art+in+semantic+relatedness%3A+a+framework+for+comparison&amp;rft.pages=1-30&amp;rft.date=2017&amp;rft_id=info%3Adoi%2F10.1017%2FS0269888917000029&amp;rft.au=Feng+Y.&amp;rft.au=Bagheri+E.&amp;rft.au=Ensan+F.&amp;rft.au=Jovanovic+J.&amp;rfr_id=info%3Asid%2Fen.wikipedia.org%3ASemantic+similarity\" class=\"Z3988\"><span style=\"display:none;\">&#160;</span></span></span>\\n</li>\\n<li id=\"cite_note-couto2018-3\"><span class=\"mw-cite-backlink\"><b><a href=\"#cite_ref-couto2018_3-0\">^</a></b></span> <span class=\"reference-text\"><cite class=\"citation journal\">Couto F.; Lamurias A. (2018). \"Semantic Similarity Definition\". <i>Reference Module in Life Sciences (Encyclopedia of Bioinformatics and Computational Biology)</i>. <a href=\"/wiki/Digital_object_identifier\" title=\"Digital object identifier\">doi</a>:<a rel=\"nofollow\" class=\"external text\" href=\"//doi.org/10.1016/B978-0-12-809633-8.20401-9\">10.1016/B978-0-12-809633-8.20401-9</a>. <a href=\"/wiki/International_Standard_Book_Number\" title=\"International Standard Book Number\">ISBN</a>&#160;<a href=\"/wiki/Special:BookSources/9780128096338\" title=\"Special:BookSources/9780128096338\">9780128096338</a>.</cite><span title=\"ctx_ver=Z39.88-2004&amp;rft_val_fmt=info%3Aofi%2Ffmt%3Akev%3Amtx%3Ajournal&amp;rft.genre=article&amp;rft.jtitle=Reference+Module+in+Life+Sciences+%28Encyclopedia+of+Bioinformatics+and+Computational+Biology%29&amp;rft.atitle=Semantic+Similarity+Definition&amp;rft.date=2018&amp;rft_id=info%3Adoi%2F10.1016%2FB978-0-12-809633-8.20401-9&amp;rft.isbn=9780128096338&amp;rft.au=Couto+F.&amp;rft.au=Lamurias+A.&amp;rfr_id=info%3Asid%2Fen.wikipedia.org%3ASemantic+similarity\" class=\"Z3988\"><span style=\"display:none;\">&#160;</span></span></span>\\n</li>\\n<li id=\"cite_note-4\"><span class=\"mw-cite-backlink\"><b><a href=\"#cite_ref-4\">^</a></b></span> <span class=\"reference-text\"><cite class=\"citation journal\">A. Ballatore; M. Bertolotto; D.C. Wilson (2014). \"An evaluative baseline for geo-semantic relatedness and similarity\". <i>GeoInformatica</i>. <b>18:4</b>: 747\\xe2\\x80\\x93767.</cite><span title=\"ctx_ver=Z39.88-2004&amp;rft_val_fmt=info%3Aofi%2Ffmt%3Akev%3Amtx%3Ajournal&amp;rft.genre=article&amp;rft.jtitle=GeoInformatica&amp;rft.atitle=An+evaluative+baseline+for+geo-semantic+relatedness+and+similarity&amp;rft.volume=18%3A4&amp;rft.pages=747-767&amp;rft.date=2014&amp;rft.au=A.+Ballatore&amp;rft.au=M.+Bertolotto&amp;rft.au=D.C.+Wilson&amp;rfr_id=info%3Asid%2Fen.wikipedia.org%3ASemantic+similarity\" class=\"Z3988\"><span style=\"display:none;\">&#160;</span></span></span>\\n</li>\\n<li id=\"cite_note-5\"><span class=\"mw-cite-backlink\"><b><a href=\"#cite_ref-5\">^</a></b></span> <span class=\"reference-text\"><cite class=\"citation journal\">Aouicha, Mohamed Ben; Taieb, Mohamed Ali Hadj; Hamadou, Abdelmajid Ben (2016-11-21). <a rel=\"nofollow\" class=\"external text\" href=\"https://link.springer.com/article/10.1007/s00500-016-2438-x\">\"SISR: System for integrating semantic relatedness and similarity measures\"</a>. <i>Soft Computing</i>. <b>22</b> (6): 1\\xe2\\x80\\x9325. <a href=\"/wiki/Digital_object_identifier\" title=\"Digital object identifier\">doi</a>:<a rel=\"nofollow\" class=\"external text\" href=\"//doi.org/10.1007/s00500-016-2438-x\">10.1007/s00500-016-2438-x</a>. <a href=\"/wiki/International_Standard_Serial_Number\" title=\"International Standard Serial Number\">ISSN</a>&#160;<a rel=\"nofollow\" class=\"external text\" href=\"//www.worldcat.org/issn/1432-7643\">1432-7643</a>.</cite><span title=\"ctx_ver=Z39.88-2004&amp;rft_val_fmt=info%3Aofi%2Ffmt%3Akev%3Amtx%3Ajournal&amp;rft.genre=article&amp;rft.jtitle=Soft+Computing&amp;rft.atitle=SISR%3A+System+for+integrating+semantic+relatedness+and+similarity+measures&amp;rft.volume=22&amp;rft.issue=6&amp;rft.pages=1-25&amp;rft.date=2016-11-21&amp;rft_id=info%3Adoi%2F10.1007%2Fs00500-016-2438-x&amp;rft.issn=1432-7643&amp;rft.aulast=Aouicha&amp;rft.aufirst=Mohamed+Ben&amp;rft.au=Taieb%2C+Mohamed+Ali+Hadj&amp;rft.au=Hamadou%2C+Abdelmajid+Ben&amp;rft_id=https%3A%2F%2Flink.springer.com%2Farticle%2F10.1007%2Fs00500-016-2438-x&amp;rfr_id=info%3Asid%2Fen.wikipedia.org%3ASemantic+similarity\" class=\"Z3988\"><span style=\"display:none;\">&#160;</span></span></span>\\n</li>\\n<li id=\"cite_note-budanitsky2001-6\"><span class=\"mw-cite-backlink\">^ <a href=\"#cite_ref-budanitsky2001_6-0\"><sup><i><b>a</b></i></sup></a> <a href=\"#cite_ref-budanitsky2001_6-1\"><sup><i><b>b</b></i></sup></a></span> <span class=\"reference-text\"><cite class=\"citation journal\">Budanitsky, Alexander; Hirst, Graeme (2001). <a rel=\"nofollow\" class=\"external text\" href=\"ftp://www-vhost.cs.toronto.edu/public_html/public_html/pub/gh/Budanitsky+Hirst-2001.pdf\">\"Semantic distance in WordNet: An experimental, application-oriented evaluation of five measures\"</a> <span style=\"font-size:85%;\">(PDF)</span>. <i>Workshop on WordNet and Other Lexical Resources, Second meeting of the North American Chapter of the Association for Computational Linguistics</i>. Pittsburgh.</cite><span title=\"ctx_ver=Z39.88-2004&amp;rft_val_fmt=info%3Aofi%2Ffmt%3Akev%3Amtx%3Ajournal&amp;rft.genre=article&amp;rft.jtitle=Workshop+on+WordNet+and+Other+Lexical+Resources%2C+Second+meeting+of+the+North+American+Chapter+of+the+Association+for+Computational+Linguistics&amp;rft.atitle=Semantic+distance+in+WordNet%3A+An+experimental%2C+application-oriented+evaluation+of+five+measures&amp;rft.date=2001&amp;rft.aulast=Budanitsky&amp;rft.aufirst=Alexander&amp;rft.au=Hirst%2C+Graeme&amp;rft_id=ftp%3A%2F%2Fwww-vhost.cs.toronto.edu%2Fpublic_html%2Fpublic_html%2Fpub%2Fgh%2FBudanitsky%2BHirst-2001.pdf&amp;rfr_id=info%3Asid%2Fen.wikipedia.org%3ASemantic+similarity\" class=\"Z3988\"><span style=\"display:none;\">&#160;</span></span></span>\\n</li>\\n<li id=\"cite_note-7\"><span class=\"mw-cite-backlink\"><b><a href=\"#cite_ref-7\">^</a></b></span> <span class=\"reference-text\"><cite class=\"citation journal\">Pesquita, Catia; Faria, Daniel; Falc\\xc3\\xa3o, Andr\\xc3\\xa9 O.; Lord, Phillip; Couto, Francisco M. (2009).  Bourne, Philip E., ed. <a rel=\"nofollow\" class=\"external text\" href=\"//www.ncbi.nlm.nih.gov/pmc/articles/PMC2712090\">\"Semantic Similarity in Biomedical Ontologies\"</a>. <i>PLoS Computational Biology</i>. <b>5</b> (7): e1000443. <a href=\"/wiki/Bibcode\" title=\"Bibcode\">Bibcode</a>:<a rel=\"nofollow\" class=\"external text\" href=\"http://adsabs.harvard.edu/abs/2009PLSCB...5E0443P\">2009PLSCB...5E0443P</a>. <a href=\"/wiki/Digital_object_identifier\" title=\"Digital object identifier\">doi</a>:<a rel=\"nofollow\" class=\"external text\" href=\"//doi.org/10.1371/journal.pcbi.1000443\">10.1371/journal.pcbi.1000443</a>. <a href=\"/wiki/PubMed_Central\" title=\"PubMed Central\">PMC</a>&#160;<span class=\"plainlinks\"><a rel=\"nofollow\" class=\"external text\" href=\"//www.ncbi.nlm.nih.gov/pmc/articles/PMC2712090\">2712090</a>&#8239;<img alt=\"Freely accessible\" src=\"//upload.wikimedia.org/wikipedia/commons/thumb/6/65/Lock-green.svg/9px-Lock-green.svg.png\" title=\"Freely accessible\" width=\"9\" height=\"14\" srcset=\"//upload.wikimedia.org/wikipedia/commons/thumb/6/65/Lock-green.svg/14px-Lock-green.svg.png 1.5x, //upload.wikimedia.org/wikipedia/commons/thumb/6/65/Lock-green.svg/18px-Lock-green.svg.png 2x\" data-file-width=\"512\" data-file-height=\"813\" /></span>. <a href=\"/wiki/PubMed_Identifier\" class=\"mw-redirect\" title=\"PubMed Identifier\">PMID</a>&#160;<a rel=\"nofollow\" class=\"external text\" href=\"//www.ncbi.nlm.nih.gov/pubmed/19649320\">19649320</a>.</cite><span title=\"ctx_ver=Z39.88-2004&amp;rft_val_fmt=info%3Aofi%2Ffmt%3Akev%3Amtx%3Ajournal&amp;rft.genre=article&amp;rft.jtitle=PLoS+Computational+Biology&amp;rft.atitle=Semantic+Similarity+in+Biomedical+Ontologies&amp;rft.volume=5&amp;rft.issue=7&amp;rft.pages=e1000443&amp;rft.date=2009&amp;rft_id=%2F%2Fwww.ncbi.nlm.nih.gov%2Fpmc%2Farticles%2FPMC2712090&amp;rft_id=info%3Apmid%2F19649320&amp;rft_id=info%3Adoi%2F10.1371%2Fjournal.pcbi.1000443&amp;rft_id=info%3Abibcode%2F2009PLSCB...5E0443P&amp;rft.aulast=Pesquita&amp;rft.aufirst=Catia&amp;rft.au=Faria%2C+Daniel&amp;rft.au=Falc%C3%A3o%2C+Andr%C3%A9+O.&amp;rft.au=Lord%2C+Phillip&amp;rft.au=Couto%2C+Francisco+M.&amp;rft_id=%2F%2Fwww.ncbi.nlm.nih.gov%2Fpmc%2Farticles%2FPMC2712090&amp;rfr_id=info%3Asid%2Fen.wikipedia.org%3ASemantic+similarity\" class=\"Z3988\"><span style=\"display:none;\">&#160;</span></span></span>\\n</li>\\n<li id=\"cite_note-8\"><span class=\"mw-cite-backlink\"><b><a href=\"#cite_ref-8\">^</a></b></span> <span class=\"reference-text\"><cite class=\"citation journal\">Guzzi, Pietro Hiram; Mina, Marco; Cannataro, Mario; Guerra, Concettina (2012). \"Semantic similarity analysis of protein data: assessment with biological features and issues\". <i>Briefings in Bioinformatics</i>. <b>13</b> (5): 569\\xe2\\x80\\x93585. <a href=\"/wiki/Digital_object_identifier\" title=\"Digital object identifier\">doi</a>:<a rel=\"nofollow\" class=\"external text\" href=\"//doi.org/10.1093/bib/bbr066\">10.1093/bib/bbr066</a>. <a href=\"/wiki/PubMed_Identifier\" class=\"mw-redirect\" title=\"PubMed Identifier\">PMID</a>&#160;<a rel=\"nofollow\" class=\"external text\" href=\"//www.ncbi.nlm.nih.gov/pubmed/22138322\">22138322</a>.</cite><span title=\"ctx_ver=Z39.88-2004&amp;rft_val_fmt=info%3Aofi%2Ffmt%3Akev%3Amtx%3Ajournal&amp;rft.genre=article&amp;rft.jtitle=Briefings+in+Bioinformatics&amp;rft.atitle=Semantic+similarity+analysis+of+protein+data%3A+assessment+with+biological+features+and+issues&amp;rft.volume=13&amp;rft.issue=5&amp;rft.pages=569-585&amp;rft.date=2012&amp;rft_id=info%3Adoi%2F10.1093%2Fbib%2Fbbr066&amp;rft_id=info%3Apmid%2F22138322&amp;rft.aulast=Guzzi&amp;rft.aufirst=Pietro+Hiram&amp;rft.au=Mina%2C+Marco&amp;rft.au=Cannataro%2C+Mario&amp;rft.au=Guerra%2C+Concettina&amp;rfr_id=info%3Asid%2Fen.wikipedia.org%3ASemantic+similarity\" class=\"Z3988\"><span style=\"display:none;\">&#160;</span></span></span>\\n</li>\\n<li id=\"cite_note-ReferenceA-9\"><span class=\"mw-cite-backlink\">^ <a href=\"#cite_ref-ReferenceA_9-0\"><sup><i><b>a</b></i></sup></a> <a href=\"#cite_ref-ReferenceA_9-1\"><sup><i><b>b</b></i></sup></a></span> <span class=\"reference-text\"><cite class=\"citation journal\">Benabderrahmane, Sidahmed; Smail Tabbone, Malika; Poch, Olivier; Napoli, Amedeo; Devignes, Marie-Domonique. (2010). <a rel=\"nofollow\" class=\"external text\" href=\"//www.ncbi.nlm.nih.gov/pmc/articles/PMC3098105\">\"IntelliGO: a new vector-based semantic similarity measure including annotation origin\"</a>. <i>BMC Bioinformatics</i>. <b>11</b>: 588. <a href=\"/wiki/Digital_object_identifier\" title=\"Digital object identifier\">doi</a>:<a rel=\"nofollow\" class=\"external text\" href=\"//doi.org/10.1186/1471-2105-11-588\">10.1186/1471-2105-11-588</a>. <a href=\"/wiki/PubMed_Central\" title=\"PubMed Central\">PMC</a>&#160;<span class=\"plainlinks\"><a rel=\"nofollow\" class=\"external text\" href=\"//www.ncbi.nlm.nih.gov/pmc/articles/PMC3098105\">3098105</a>&#8239;<img alt=\"Freely accessible\" src=\"//upload.wikimedia.org/wikipedia/commons/thumb/6/65/Lock-green.svg/9px-Lock-green.svg.png\" title=\"Freely accessible\" width=\"9\" height=\"14\" srcset=\"//upload.wikimedia.org/wikipedia/commons/thumb/6/65/Lock-green.svg/14px-Lock-green.svg.png 1.5x, //upload.wikimedia.org/wikipedia/commons/thumb/6/65/Lock-green.svg/18px-Lock-green.svg.png 2x\" data-file-width=\"512\" data-file-height=\"813\" /></span>. <a href=\"/wiki/PubMed_Identifier\" class=\"mw-redirect\" title=\"PubMed Identifier\">PMID</a>&#160;<a rel=\"nofollow\" class=\"external text\" href=\"//www.ncbi.nlm.nih.gov/pubmed/21122125\">21122125</a>.</cite><span title=\"ctx_ver=Z39.88-2004&amp;rft_val_fmt=info%3Aofi%2Ffmt%3Akev%3Amtx%3Ajournal&amp;rft.genre=article&amp;rft.jtitle=BMC+Bioinformatics&amp;rft.atitle=IntelliGO%3A+a+new+vector-based+semantic+similarity+measure+including+annotation+origin&amp;rft.volume=11&amp;rft.pages=588&amp;rft.date=2010&amp;rft_id=%2F%2Fwww.ncbi.nlm.nih.gov%2Fpmc%2Farticles%2FPMC3098105&amp;rft_id=info%3Apmid%2F21122125&amp;rft_id=info%3Adoi%2F10.1186%2F1471-2105-11-588&amp;rft.aulast=Benabderrahmane&amp;rft.aufirst=Sidahmed&amp;rft.au=Smail+Tabbone%2C+Malika&amp;rft.au=Poch%2C+Olivier&amp;rft.au=Napoli%2C+Amedeo&amp;rft.au=Devignes%2C+Marie-Domonique.&amp;rft_id=%2F%2Fwww.ncbi.nlm.nih.gov%2Fpmc%2Farticles%2FPMC3098105&amp;rfr_id=info%3Asid%2Fen.wikipedia.org%3ASemantic+similarity\" class=\"Z3988\"><span style=\"display:none;\">&#160;</span></span></span>\\n</li>\\n<li id=\"cite_note-10\"><span class=\"mw-cite-backlink\"><b><a href=\"#cite_ref-10\">^</a></b></span> <span class=\"reference-text\">Couto, F., Silva, M., &amp; Coutinho, P. (2003). <a rel=\"nofollow\" class=\"external text\" href=\"http://hdl.handle.net/10455/2935\">Implementation of a functional semantic similarity measure between gene-products</a>. DI/FCUL TR 03\\xe2\\x80\\x9329, University of Lisbon</span>\\n</li>\\n<li id=\"cite_note-11\"><span class=\"mw-cite-backlink\"><b><a href=\"#cite_ref-11\">^</a></b></span> <span class=\"reference-text\"><cite class=\"citation journal\">Pesquita, C.; Faria, D.; Falc\\xc3\\xa3o, A.; Lord, P.; Couto, F. (2009). <a rel=\"nofollow\" class=\"external text\" href=\"//www.ncbi.nlm.nih.gov/pmc/articles/PMC2712090\">\"Semantic similarity in biomedical ontologies\"</a>. <i>PLoS Computational Biology</i>. <b>5</b> (7): e1000443. <a href=\"/wiki/Bibcode\" title=\"Bibcode\">Bibcode</a>:<a rel=\"nofollow\" class=\"external text\" href=\"http://adsabs.harvard.edu/abs/2009PLSCB...5E0443P\">2009PLSCB...5E0443P</a>. <a href=\"/wiki/Digital_object_identifier\" title=\"Digital object identifier\">doi</a>:<a rel=\"nofollow\" class=\"external text\" href=\"//doi.org/10.1371/journal.pcbi.1000443\">10.1371/journal.pcbi.1000443</a>. <a href=\"/wiki/PubMed_Central\" title=\"PubMed Central\">PMC</a>&#160;<span class=\"plainlinks\"><a rel=\"nofollow\" class=\"external text\" href=\"//www.ncbi.nlm.nih.gov/pmc/articles/PMC2712090\">2712090</a>&#8239;<img alt=\"Freely accessible\" src=\"//upload.wikimedia.org/wikipedia/commons/thumb/6/65/Lock-green.svg/9px-Lock-green.svg.png\" title=\"Freely accessible\" width=\"9\" height=\"14\" srcset=\"//upload.wikimedia.org/wikipedia/commons/thumb/6/65/Lock-green.svg/14px-Lock-green.svg.png 1.5x, //upload.wikimedia.org/wikipedia/commons/thumb/6/65/Lock-green.svg/18px-Lock-green.svg.png 2x\" data-file-width=\"512\" data-file-height=\"813\" /></span>. <a href=\"/wiki/PubMed_Identifier\" class=\"mw-redirect\" title=\"PubMed Identifier\">PMID</a>&#160;<a rel=\"nofollow\" class=\"external text\" href=\"//www.ncbi.nlm.nih.gov/pubmed/19649320\">19649320</a>.</cite><span title=\"ctx_ver=Z39.88-2004&amp;rft_val_fmt=info%3Aofi%2Ffmt%3Akev%3Amtx%3Ajournal&amp;rft.genre=article&amp;rft.jtitle=PLoS+Computational+Biology&amp;rft.atitle=Semantic+similarity+in+biomedical+ontologies&amp;rft.volume=5&amp;rft.issue=7&amp;rft.pages=e1000443&amp;rft.date=2009&amp;rft_id=%2F%2Fwww.ncbi.nlm.nih.gov%2Fpmc%2Farticles%2FPMC2712090&amp;rft_id=info%3Apmid%2F19649320&amp;rft_id=info%3Adoi%2F10.1371%2Fjournal.pcbi.1000443&amp;rft_id=info%3Abibcode%2F2009PLSCB...5E0443P&amp;rft.aulast=Pesquita&amp;rft.aufirst=C.&amp;rft.au=Faria%2C+D.&amp;rft.au=Falc%C3%A3o%2C+A.&amp;rft.au=Lord%2C+P.&amp;rft.au=Couto%2C+F.&amp;rft_id=%2F%2Fwww.ncbi.nlm.nih.gov%2Fpmc%2Farticles%2FPMC2712090&amp;rfr_id=info%3Asid%2Fen.wikipedia.org%3ASemantic+similarity\" class=\"Z3988\"><span style=\"display:none;\">&#160;</span></span></span>\\n</li>\\n<li id=\"cite_note-12\"><span class=\"mw-cite-backlink\"><b><a href=\"#cite_ref-12\">^</a></b></span> <span class=\"reference-text\"><cite class=\"citation journal\">Couto, F., Silva, M., &amp; Coutinho, P. (2005). \"Semantic similarity over the gene ontology: Family correlation and selecting disjunctive ancestors\". <i>Proc. of the ACM Conference in Information and Knowledge Management (CIKM)</i>: 343. <a href=\"/wiki/Digital_object_identifier\" title=\"Digital object identifier\">doi</a>:<a rel=\"nofollow\" class=\"external text\" href=\"//doi.org/10.1145/1099554.1099658\">10.1145/1099554.1099658</a>. <a href=\"/wiki/International_Standard_Book_Number\" title=\"International Standard Book Number\">ISBN</a>&#160;<a href=\"/wiki/Special:BookSources/978-1-59593-140-5\" title=\"Special:BookSources/978-1-59593-140-5\">978-1-59593-140-5</a>.</cite><span title=\"ctx_ver=Z39.88-2004&amp;rft_val_fmt=info%3Aofi%2Ffmt%3Akev%3Amtx%3Ajournal&amp;rft.genre=article&amp;rft.jtitle=Proc.+of+the+ACM+Conference+in+Information+and+Knowledge+Management+%28CIKM%29&amp;rft.atitle=Semantic+similarity+over+the+gene+ontology%3A+Family+correlation+and+selecting+disjunctive+ancestors&amp;rft.pages=343&amp;rft.date=2005&amp;rft_id=info%3Adoi%2F10.1145%2F1099554.1099658&amp;rft.isbn=978-1-59593-140-5&amp;rft.au=Couto%2C+F.%2C+Silva%2C+M.%2C+%26+Coutinho%2C+P.&amp;rfr_id=info%3Asid%2Fen.wikipedia.org%3ASemantic+similarity\" class=\"Z3988\"><span style=\"display:none;\">&#160;</span></span><span class=\"citation-comment\" style=\"display:none; color:#33aa33; margin-left:0.3em\">CS1 maint: Multiple names: authors list (<a href=\"/wiki/Category:CS1_maint:_Multiple_names:_authors_list\" title=\"Category:CS1 maint: Multiple names: authors list\">link</a>) </span></span>\\n</li>\\n<li id=\"cite_note-13\"><span class=\"mw-cite-backlink\"><b><a href=\"#cite_ref-13\">^</a></b></span> <span class=\"reference-text\"><cite class=\"citation journal\">Couto, F., Silva, M., &amp; Coutinho, P. (2007). \"Measuring semantic similarity between Gene Ontology terms\". <i>Data and Knowledge Engineering</i>. <b>61</b>: 137\\xe2\\x80\\x93152. <a href=\"/wiki/Digital_object_identifier\" title=\"Digital object identifier\">doi</a>:<a rel=\"nofollow\" class=\"external text\" href=\"//doi.org/10.1016/j.datak.2006.05.003\">10.1016/j.datak.2006.05.003</a>.</cite><span title=\"ctx_ver=Z39.88-2004&amp;rft_val_fmt=info%3Aofi%2Ffmt%3Akev%3Amtx%3Ajournal&amp;rft.genre=article&amp;rft.jtitle=Data+and+Knowledge+Engineering&amp;rft.atitle=Measuring+semantic+similarity+between+Gene+Ontology+terms&amp;rft.volume=61&amp;rft.pages=137-152&amp;rft.date=2007&amp;rft_id=info%3Adoi%2F10.1016%2Fj.datak.2006.05.003&amp;rft.au=Couto%2C+F.%2C+Silva%2C+M.%2C+%26+Coutinho%2C+P.&amp;rfr_id=info%3Asid%2Fen.wikipedia.org%3ASemantic+similarity\" class=\"Z3988\"><span style=\"display:none;\">&#160;</span></span><span class=\"citation-comment\" style=\"display:none; color:#33aa33; margin-left:0.3em\">CS1 maint: Multiple names: authors list (<a href=\"/wiki/Category:CS1_maint:_Multiple_names:_authors_list\" title=\"Category:CS1 maint: Multiple names: authors list\">link</a>) </span></span>\\n</li>\\n<li id=\"cite_note-14\"><span class=\"mw-cite-backlink\"><b><a href=\"#cite_ref-14\">^</a></b></span> <span class=\"reference-text\"><cite class=\"citation journal\">Ferreira, Jo\\xc3\\xa3o D.; Couto, Francisco M. (2010).  Mitchell, John B. O., ed. <a rel=\"nofollow\" class=\"external text\" href=\"//www.ncbi.nlm.nih.gov/pmc/articles/PMC2944781\">\"Semantic Similarity for Automatic Classification of Chemical Compounds\"</a>. <i>PLoS Computational Biology</i>. <b>6</b> (9): e1000937. <a href=\"/wiki/Bibcode\" title=\"Bibcode\">Bibcode</a>:<a rel=\"nofollow\" class=\"external text\" href=\"http://adsabs.harvard.edu/abs/2010PLSCB...6E0937F\">2010PLSCB...6E0937F</a>. <a href=\"/wiki/Digital_object_identifier\" title=\"Digital object identifier\">doi</a>:<a rel=\"nofollow\" class=\"external text\" href=\"//doi.org/10.1371/journal.pcbi.1000937\">10.1371/journal.pcbi.1000937</a>. <a href=\"/wiki/PubMed_Central\" title=\"PubMed Central\">PMC</a>&#160;<span class=\"plainlinks\"><a rel=\"nofollow\" class=\"external text\" href=\"//www.ncbi.nlm.nih.gov/pmc/articles/PMC2944781\">2944781</a>&#8239;<img alt=\"Freely accessible\" src=\"//upload.wikimedia.org/wikipedia/commons/thumb/6/65/Lock-green.svg/9px-Lock-green.svg.png\" title=\"Freely accessible\" width=\"9\" height=\"14\" srcset=\"//upload.wikimedia.org/wikipedia/commons/thumb/6/65/Lock-green.svg/14px-Lock-green.svg.png 1.5x, //upload.wikimedia.org/wikipedia/commons/thumb/6/65/Lock-green.svg/18px-Lock-green.svg.png 2x\" data-file-width=\"512\" data-file-height=\"813\" /></span>. <a href=\"/wiki/PubMed_Identifier\" class=\"mw-redirect\" title=\"PubMed Identifier\">PMID</a>&#160;<a rel=\"nofollow\" class=\"external text\" href=\"//www.ncbi.nlm.nih.gov/pubmed/20885779\">20885779</a>.</cite><span title=\"ctx_ver=Z39.88-2004&amp;rft_val_fmt=info%3Aofi%2Ffmt%3Akev%3Amtx%3Ajournal&amp;rft.genre=article&amp;rft.jtitle=PLoS+Computational+Biology&amp;rft.atitle=Semantic+Similarity+for+Automatic+Classification+of+Chemical+Compounds&amp;rft.volume=6&amp;rft.issue=9&amp;rft.pages=e1000937&amp;rft.date=2010&amp;rft_id=%2F%2Fwww.ncbi.nlm.nih.gov%2Fpmc%2Farticles%2FPMC2944781&amp;rft_id=info%3Apmid%2F20885779&amp;rft_id=info%3Adoi%2F10.1371%2Fjournal.pcbi.1000937&amp;rft_id=info%3Abibcode%2F2010PLSCB...6E0937F&amp;rft.aulast=Ferreira&amp;rft.aufirst=Jo%C3%A3o+D.&amp;rft.au=Couto%2C+Francisco+M.&amp;rft_id=%2F%2Fwww.ncbi.nlm.nih.gov%2Fpmc%2Farticles%2FPMC2944781&amp;rfr_id=info%3Asid%2Fen.wikipedia.org%3ASemantic+similarity\" class=\"Z3988\"><span style=\"display:none;\">&#160;</span></span></span>\\n</li>\\n<li id=\"cite_note-15\"><span class=\"mw-cite-backlink\"><b><a href=\"#cite_ref-15\">^</a></b></span> <span class=\"reference-text\"><cite class=\"citation journal\">Ferreira, Jo\\xc3\\xa3o D.; Couto, Francisco M. (2011). <a rel=\"nofollow\" class=\"external text\" href=\"http://xldb.fc.ul.pt/xldb/publications/Ferreira.etal:GenericSemanticRelatedness:2011_document.pdf\">\"Generic semantic relatedness measure for biomedical ontologies\"</a> <span style=\"font-size:85%;\">(PDF)</span>. <i>ICBO 2011 Proceedings</i>.</cite><span title=\"ctx_ver=Z39.88-2004&amp;rft_val_fmt=info%3Aofi%2Ffmt%3Akev%3Amtx%3Ajournal&amp;rft.genre=article&amp;rft.jtitle=ICBO+2011+Proceedings&amp;rft.atitle=Generic+semantic+relatedness+measure+for+biomedical+ontologies&amp;rft.date=2011&amp;rft.aulast=Ferreira&amp;rft.aufirst=Jo%C3%A3o+D.&amp;rft.au=Couto%2C+Francisco+M.&amp;rft_id=http%3A%2F%2Fxldb.fc.ul.pt%2Fxldb%2Fpublications%2FFerreira.etal%3AGenericSemanticRelatedness%3A2011_document.pdf&amp;rfr_id=info%3Asid%2Fen.wikipedia.org%3ASemantic+similarity\" class=\"Z3988\"><span style=\"display:none;\">&#160;</span></span></span>\\n</li>\\n<li id=\"cite_note-16\"><span class=\"mw-cite-backlink\"><b><a href=\"#cite_ref-16\">^</a></b></span> <span class=\"reference-text\"><cite class=\"citation journal\">K\\xc3\\xb6hler, S; Schulz, MH; Krawitz, P; Bauer, S; Dolken, S; Ott, CE; Mundlos, C; Horn, D;  et al. (2009). <a rel=\"nofollow\" class=\"external text\" href=\"//www.ncbi.nlm.nih.gov/pmc/articles/PMC2756558\">\"Clinical diagnostics in human genetics with semantic similarity searches in ontologies\"</a>. <i>American Journal of Human Genetics</i>. <b>85</b> (4): 457\\xe2\\x80\\x9364. <a href=\"/wiki/Digital_object_identifier\" title=\"Digital object identifier\">doi</a>:<a rel=\"nofollow\" class=\"external text\" href=\"//doi.org/10.1016/j.ajhg.2009.09.003\">10.1016/j.ajhg.2009.09.003</a>. <a href=\"/wiki/PubMed_Central\" title=\"PubMed Central\">PMC</a>&#160;<span class=\"plainlinks\"><a rel=\"nofollow\" class=\"external text\" href=\"//www.ncbi.nlm.nih.gov/pmc/articles/PMC2756558\">2756558</a>&#8239;<img alt=\"Freely accessible\" src=\"//upload.wikimedia.org/wikipedia/commons/thumb/6/65/Lock-green.svg/9px-Lock-green.svg.png\" title=\"Freely accessible\" width=\"9\" height=\"14\" srcset=\"//upload.wikimedia.org/wikipedia/commons/thumb/6/65/Lock-green.svg/14px-Lock-green.svg.png 1.5x, //upload.wikimedia.org/wikipedia/commons/thumb/6/65/Lock-green.svg/18px-Lock-green.svg.png 2x\" data-file-width=\"512\" data-file-height=\"813\" /></span>. <a href=\"/wiki/PubMed_Identifier\" class=\"mw-redirect\" title=\"PubMed Identifier\">PMID</a>&#160;<a rel=\"nofollow\" class=\"external text\" href=\"//www.ncbi.nlm.nih.gov/pubmed/19800049\">19800049</a>.</cite><span title=\"ctx_ver=Z39.88-2004&amp;rft_val_fmt=info%3Aofi%2Ffmt%3Akev%3Amtx%3Ajournal&amp;rft.genre=article&amp;rft.jtitle=American+Journal+of+Human+Genetics&amp;rft.atitle=Clinical+diagnostics+in+human+genetics+with+semantic+similarity+searches+in+ontologies&amp;rft.volume=85&amp;rft.issue=4&amp;rft.pages=457-64&amp;rft.date=2009&amp;rft_id=%2F%2Fwww.ncbi.nlm.nih.gov%2Fpmc%2Farticles%2FPMC2756558&amp;rft_id=info%3Apmid%2F19800049&amp;rft_id=info%3Adoi%2F10.1016%2Fj.ajhg.2009.09.003&amp;rft.aulast=K%C3%B6hler&amp;rft.aufirst=S&amp;rft.au=Schulz%2C+MH&amp;rft.au=Krawitz%2C+P&amp;rft.au=Bauer%2C+S&amp;rft.au=Dolken%2C+S&amp;rft.au=Ott%2C+CE&amp;rft.au=Mundlos%2C+C&amp;rft.au=Horn%2C+D&amp;rft.au=Mundlos%2C+S&amp;rft.au=Robinson%2C+Peter+N.&amp;rft_id=%2F%2Fwww.ncbi.nlm.nih.gov%2Fpmc%2Farticles%2FPMC2756558&amp;rfr_id=info%3Asid%2Fen.wikipedia.org%3ASemantic+similarity\" class=\"Z3988\"><span style=\"display:none;\">&#160;</span></span></span>\\n</li>\\n<li id=\"cite_note-17\"><span class=\"mw-cite-backlink\"><b><a href=\"#cite_ref-17\">^</a></b></span> <span class=\"reference-text\"><cite class=\"citation web\"><a rel=\"nofollow\" class=\"external text\" href=\"http://xldb.fc.ul.pt/biotools/proteinon/\">\"ProteInOn\"</a>.</cite><span title=\"ctx_ver=Z39.88-2004&amp;rft_val_fmt=info%3Aofi%2Ffmt%3Akev%3Amtx%3Abook&amp;rft.genre=unknown&amp;rft.btitle=ProteInOn&amp;rft_id=http%3A%2F%2Fxldb.fc.ul.pt%2Fbiotools%2Fproteinon%2F&amp;rfr_id=info%3Asid%2Fen.wikipedia.org%3ASemantic+similarity\" class=\"Z3988\"><span style=\"display:none;\">&#160;</span></span></span>\\n</li>\\n<li id=\"cite_note-18\"><span class=\"mw-cite-backlink\"><b><a href=\"#cite_ref-18\">^</a></b></span> <span class=\"reference-text\"><cite class=\"citation web\"><a rel=\"nofollow\" class=\"external text\" href=\"http://xldb.di.fc.ul.pt/biotools/cmpsim/\">\"CMPSim\"</a>.</cite><span title=\"ctx_ver=Z39.88-2004&amp;rft_val_fmt=info%3Aofi%2Ffmt%3Akev%3Amtx%3Abook&amp;rft.genre=unknown&amp;rft.btitle=CMPSim&amp;rft_id=http%3A%2F%2Fxldb.di.fc.ul.pt%2Fbiotools%2Fcmpsim%2F&amp;rfr_id=info%3Asid%2Fen.wikipedia.org%3ASemantic+similarity\" class=\"Z3988\"><span style=\"display:none;\">&#160;</span></span></span>\\n</li>\\n<li id=\"cite_note-19\"><span class=\"mw-cite-backlink\"><b><a href=\"#cite_ref-19\">^</a></b></span> <span class=\"reference-text\"><cite class=\"citation web\"><a rel=\"nofollow\" class=\"external text\" href=\"http://xldb.fc.ul.pt/biotools/cessm/\">\"CESSM\"</a>.</cite><span title=\"ctx_ver=Z39.88-2004&amp;rft_val_fmt=info%3Aofi%2Ffmt%3Akev%3Amtx%3Abook&amp;rft.genre=unknown&amp;rft.btitle=CESSM&amp;rft_id=http%3A%2F%2Fxldb.fc.ul.pt%2Fbiotools%2Fcessm%2F&amp;rfr_id=info%3Asid%2Fen.wikipedia.org%3ASemantic+similarity\" class=\"Z3988\"><span style=\"display:none;\">&#160;</span></span></span>\\n</li>\\n<li id=\"cite_note-20\"><span class=\"mw-cite-backlink\"><b><a href=\"#cite_ref-20\">^</a></b></span> <span class=\"reference-text\"><cite class=\"citation journal\">Janowicz, K., Raubal, M. and Kuhn, W. (2011). <a rel=\"nofollow\" class=\"external text\" href=\"http://www.josis.org/index.php/josis/article/view/26/23\">\"The semantics of similarity in geographic information retrieval\"</a>. <i>Journal of Spatial Information Science</i>. <b>2</b> (2): 29\\xe2\\x80\\x9357. <a href=\"/wiki/Digital_object_identifier\" title=\"Digital object identifier\">doi</a>:<a rel=\"nofollow\" class=\"external text\" href=\"//doi.org/10.5311/josis.2011.2.3\">10.5311/josis.2011.2.3</a>.</cite><span title=\"ctx_ver=Z39.88-2004&amp;rft_val_fmt=info%3Aofi%2Ffmt%3Akev%3Amtx%3Ajournal&amp;rft.genre=article&amp;rft.jtitle=Journal+of+Spatial+Information+Science&amp;rft.atitle=The+semantics+of+similarity+in+geographic+information+retrieval&amp;rft.volume=2&amp;rft.issue=2&amp;rft.pages=29-57&amp;rft.date=2011&amp;rft_id=info%3Adoi%2F10.5311%2Fjosis.2011.2.3&amp;rft.au=Janowicz%2C+K.%2C+Raubal%2C+M.+and+Kuhn%2C+W.&amp;rft_id=http%3A%2F%2Fwww.josis.org%2Findex.php%2Fjosis%2Farticle%2Fview%2F26%2F23&amp;rfr_id=info%3Asid%2Fen.wikipedia.org%3ASemantic+similarity\" class=\"Z3988\"><span style=\"display:none;\">&#160;</span></span><span class=\"citation-comment\" style=\"display:none; color:#33aa33; margin-left:0.3em\">CS1 maint: Multiple names: authors list (<a href=\"/wiki/Category:CS1_maint:_Multiple_names:_authors_list\" title=\"Category:CS1 maint: Multiple names: authors list\">link</a>) </span></span>\\n</li>\\n<li id=\"cite_note-21\"><span class=\"mw-cite-backlink\"><b><a href=\"#cite_ref-21\">^</a></b></span> <span class=\"reference-text\"><cite class=\"citation journal\">\"SIM-DL similarity server\". <a href=\"/wiki/CiteSeerX\" title=\"CiteSeerX\">CiteSeerX</a>&#160;<span class=\"plainlinks\"><a rel=\"nofollow\" class=\"external text\" href=\"//citeseerx.ist.psu.edu/viewdoc/summary?doi=10.1.1.172.5544\">10.1.1.172.5544</a>&#8239;<img alt=\"Freely accessible\" src=\"//upload.wikimedia.org/wikipedia/commons/thumb/6/65/Lock-green.svg/9px-Lock-green.svg.png\" title=\"Freely accessible\" width=\"9\" height=\"14\" srcset=\"//upload.wikimedia.org/wikipedia/commons/thumb/6/65/Lock-green.svg/14px-Lock-green.svg.png 1.5x, //upload.wikimedia.org/wikipedia/commons/thumb/6/65/Lock-green.svg/18px-Lock-green.svg.png 2x\" data-file-width=\"512\" data-file-height=\"813\" /></span>.</cite><span title=\"ctx_ver=Z39.88-2004&amp;rft_val_fmt=info%3Aofi%2Ffmt%3Akev%3Amtx%3Ajournal&amp;rft.genre=article&amp;rft.atitle=SIM-DL+similarity+server&amp;rft_id=%2F%2Fciteseerx.ist.psu.edu%2Fviewdoc%2Fsummary%3Fdoi%3D10.1.1.172.5544&amp;rfr_id=info%3Asid%2Fen.wikipedia.org%3ASemantic+similarity\" class=\"Z3988\"><span style=\"display:none;\">&#160;</span></span></span>\\n</li>\\n<li id=\"cite_note-22\"><span class=\"mw-cite-backlink\"><b><a href=\"#cite_ref-22\">^</a></b></span> <span class=\"reference-text\"><cite class=\"citation web\"><a rel=\"nofollow\" class=\"external text\" href=\"http://xldb.fc.ul.pt/wiki/Geographic_Similarity_calculator_GeoSSM\">\"Geo-Net-PT Similarity Calculator\"</a>.</cite><span title=\"ctx_ver=Z39.88-2004&amp;rft_val_fmt=info%3Aofi%2Ffmt%3Akev%3Amtx%3Abook&amp;rft.genre=unknown&amp;rft.btitle=Geo-Net-PT+Similarity+Calculator&amp;rft_id=http%3A%2F%2Fxldb.fc.ul.pt%2Fwiki%2FGeographic_Similarity_calculator_GeoSSM&amp;rfr_id=info%3Asid%2Fen.wikipedia.org%3ASemantic+similarity\" class=\"Z3988\"><span style=\"display:none;\">&#160;</span></span></span>\\n</li>\\n<li id=\"cite_note-23\"><span class=\"mw-cite-backlink\"><b><a href=\"#cite_ref-23\">^</a></b></span> <span class=\"reference-text\"><cite class=\"citation web\"><a rel=\"nofollow\" class=\"external text\" href=\"http://xldb.fc.ul.pt/wiki/Geo-Net-PT_02_in_English\">\"Geo-Net-PT\"</a>.</cite><span title=\"ctx_ver=Z39.88-2004&amp;rft_val_fmt=info%3Aofi%2Ffmt%3Akev%3Amtx%3Abook&amp;rft.genre=unknown&amp;rft.btitle=Geo-Net-PT&amp;rft_id=http%3A%2F%2Fxldb.fc.ul.pt%2Fwiki%2FGeo-Net-PT_02_in_English&amp;rfr_id=info%3Asid%2Fen.wikipedia.org%3ASemantic+similarity\" class=\"Z3988\"><span style=\"display:none;\">&#160;</span></span></span>\\n</li>\\n<li id=\"cite_note-24\"><span class=\"mw-cite-backlink\"><b><a href=\"#cite_ref-24\">^</a></b></span> <span class=\"reference-text\"><cite class=\"citation journal\">A. Ballatore; D.C. Wilson; M. Bertolotto. <a rel=\"nofollow\" class=\"external text\" href=\"http://irserver.ucd.ie/bitstream/handle/10197/3973/2012_-_Geographic_Knowledge_Extraction_and_Semantic_Similarity_in_OpenStreetMap_-_Ballatore_et_al.pdf?sequence=1\">\"Geographic Knowledge Extraction and Semantic Similarity in OpenStreetMap\"</a> <span style=\"font-size:85%;\">(PDF)</span>. <i>Knowledge and Information Systems</i>: 61\\xe2\\x80\\x9381.</cite><span title=\"ctx_ver=Z39.88-2004&amp;rft_val_fmt=info%3Aofi%2Ffmt%3Akev%3Amtx%3Ajournal&amp;rft.genre=article&amp;rft.jtitle=Knowledge+and+Information+Systems&amp;rft.atitle=Geographic+Knowledge+Extraction+and+Semantic+Similarity+in+OpenStreetMap&amp;rft.pages=61-81&amp;rft.au=A.+Ballatore&amp;rft.au=D.C.+Wilson&amp;rft.au=M.+Bertolotto&amp;rft_id=http%3A%2F%2Firserver.ucd.ie%2Fbitstream%2Fhandle%2F10197%2F3973%2F2012_-_Geographic_Knowledge_Extraction_and_Semantic_Similarity_in_OpenStreetMap_-_Ballatore_et_al.pdf%3Fsequence%3D1&amp;rfr_id=info%3Asid%2Fen.wikipedia.org%3ASemantic+similarity\" class=\"Z3988\"><span style=\"display:none;\">&#160;</span></span></span>\\n</li>\\n<li id=\"cite_note-25\"><span class=\"mw-cite-backlink\"><b><a href=\"#cite_ref-25\">^</a></b></span> <span class=\"reference-text\"><cite class=\"citation journal\">Kaur, I. &amp; Hornof, A.J. (2005). \"A Comparison of LSA, WordNet and PMI for Predicting User Click Behavior\". <i>Proceedings of the Conference on Human Factors in Computing, CHI 2005</i>: 51\\xe2\\x80\\x9360. <a href=\"/wiki/Digital_object_identifier\" title=\"Digital object identifier\">doi</a>:<a rel=\"nofollow\" class=\"external text\" href=\"//doi.org/10.1145/1054972.1054980\">10.1145/1054972.1054980</a>. <a href=\"/wiki/International_Standard_Book_Number\" title=\"International Standard Book Number\">ISBN</a>&#160;<a href=\"/wiki/Special:BookSources/978-1-58113-998-3\" title=\"Special:BookSources/978-1-58113-998-3\">978-1-58113-998-3</a>.</cite><span title=\"ctx_ver=Z39.88-2004&amp;rft_val_fmt=info%3Aofi%2Ffmt%3Akev%3Amtx%3Ajournal&amp;rft.genre=article&amp;rft.jtitle=Proceedings+of+the+Conference+on+Human+Factors+in+Computing%2C+CHI+2005&amp;rft.atitle=A+Comparison+of+LSA%2C+WordNet+and+PMI+for+Predicting+User+Click+Behavior&amp;rft.pages=51-60&amp;rft.date=2005&amp;rft_id=info%3Adoi%2F10.1145%2F1054972.1054980&amp;rft.isbn=978-1-58113-998-3&amp;rft.au=Kaur%2C+I.&amp;rft.au=Hornof%2C+A.J.&amp;rfr_id=info%3Asid%2Fen.wikipedia.org%3ASemantic+similarity\" class=\"Z3988\"><span style=\"display:none;\">&#160;</span></span></span>\\n</li>\\n<li id=\"cite_note-26\"><span class=\"mw-cite-backlink\"><b><a href=\"#cite_ref-26\">^</a></b></span> <span class=\"reference-text\"><a rel=\"nofollow\" class=\"external text\" href=\"http://www.di.uniba.it/~cdamato/PhDThesis_dAmato.pdf\">Similarity-based Learning Methods for the Semantic Web</a> (C. d\\'Amato, PhD Thesis)</span>\\n</li>\\n<li id=\"cite_note-27\"><span class=\"mw-cite-backlink\"><b><a href=\"#cite_ref-27\">^</a></b></span> <span class=\"reference-text\"><cite class=\"citation journal\">Gracia, J. &amp; Mena, E. (2008). <a rel=\"nofollow\" class=\"external text\" href=\"http://disi.unitn.it/~p2p/RelatedWork/Matching/Gracia_wise08.pdf\">\"Web-Based Measure of Semantic Relatedness\"</a> <span style=\"font-size:85%;\">(PDF)</span>. <i>Proceedings of the 9th international conference on Web Information Systems Engineering (WISE \\'08)</i>: 136\\xe2\\x80\\x93150.</cite><span title=\"ctx_ver=Z39.88-2004&amp;rft_val_fmt=info%3Aofi%2Ffmt%3Akev%3Amtx%3Ajournal&amp;rft.genre=article&amp;rft.jtitle=Proceedings+of+the+9th+international+conference+on+Web+Information+Systems+Engineering+%28WISE+%2708%29&amp;rft.atitle=Web-Based+Measure+of+Semantic+Relatedness&amp;rft.pages=136-150&amp;rft.date=2008&amp;rft.au=Gracia%2C+J.&amp;rft.au=Mena%2C+E.&amp;rft_id=http%3A%2F%2Fdisi.unitn.it%2F~p2p%2FRelatedWork%2FMatching%2FGracia_wise08.pdf&amp;rfr_id=info%3Asid%2Fen.wikipedia.org%3ASemantic+similarity\" class=\"Z3988\"><span style=\"display:none;\">&#160;</span></span></span>\\n</li>\\n<li id=\"cite_note-28\"><span class=\"mw-cite-backlink\"><b><a href=\"#cite_ref-28\">^</a></b></span> <span class=\"reference-text\">Raveendranathan, P. (2005). <a rel=\"nofollow\" class=\"external text\" href=\"http://www.d.umn.edu/~tpederse/Pubs/prath-thesis.pdf\">Identifying Sets of Related Words from the World Wide Web</a>. Master of Science Thesis, University of Minnesota Duluth.</span>\\n</li>\\n<li id=\"cite_note-29\"><span class=\"mw-cite-backlink\"><b><a href=\"#cite_ref-29\">^</a></b></span> <span class=\"reference-text\">Wubben, S. (2008). <a rel=\"nofollow\" class=\"external text\" href=\"http://ilk.uvt.nl/~swubben/publications/wubben2008-techrep.pdf\">Using free link structure to calculate semantic relatedness</a>. In ILK Research Group Technical Report Series, nr. 08-01, 2008.</span>\\n</li>\\n<li id=\"cite_note-30\"><span class=\"mw-cite-backlink\"><b><a href=\"#cite_ref-30\">^</a></b></span> <span class=\"reference-text\">Juvina, I., van Oostendorp, H., Karbor, P., &amp; Pauw, B. (2005). Towards modeling contextual information in web navigation. In B. G. Bara &amp; L. Barsalou &amp; M. Bucciarelli (Eds.), 27th Annual Meeting of the Cognitive Science Society, CogSci2005 (pp.&#160;1078\\xe2\\x80\\x931083). Austin, Tx: The Cognitive Science Society, Inc.</span>\\n</li>\\n<li id=\"cite_note-31\"><span class=\"mw-cite-backlink\"><b><a href=\"#cite_ref-31\">^</a></b></span> <span class=\"reference-text\">Navigli, R., Lapata, M. (2007). <a rel=\"nofollow\" class=\"external text\" href=\"http://www.aaai.org/Papers/IJCAI/2007/IJCAI07-272.pdf\">Graph Connectivity Measures for Unsupervised Word Sense Disambiguation</a>, Proc. of the 20th International Joint Conference on Artificial Intelligence (IJCAI 2007), Hyderabad, India, January 6-12th, 2007, pp.&#160;1683\\xe2\\x80\\x931688.</span>\\n</li>\\n<li id=\"cite_note-32\"><span class=\"mw-cite-backlink\"><b><a href=\"#cite_ref-32\">^</a></b></span> <span class=\"reference-text\"><cite class=\"citation journal\">Pirolli, P. (2005). \"Rational analyses of information foraging on the Web\". <i>Cognitive Science</i>. <b>29</b> (3): 343\\xe2\\x80\\x93373. <a href=\"/wiki/Digital_object_identifier\" title=\"Digital object identifier\">doi</a>:<a rel=\"nofollow\" class=\"external text\" href=\"//doi.org/10.1207/s15516709cog0000_20\">10.1207/s15516709cog0000_20</a>. <a href=\"/wiki/PubMed_Identifier\" class=\"mw-redirect\" title=\"PubMed Identifier\">PMID</a>&#160;<a rel=\"nofollow\" class=\"external text\" href=\"//www.ncbi.nlm.nih.gov/pubmed/21702778\">21702778</a>.</cite><span title=\"ctx_ver=Z39.88-2004&amp;rft_val_fmt=info%3Aofi%2Ffmt%3Akev%3Amtx%3Ajournal&amp;rft.genre=article&amp;rft.jtitle=Cognitive+Science&amp;rft.atitle=Rational+analyses+of+information+foraging+on+the+Web&amp;rft.volume=29&amp;rft.issue=3&amp;rft.pages=343-373&amp;rft.date=2005&amp;rft_id=info%3Adoi%2F10.1207%2Fs15516709cog0000_20&amp;rft_id=info%3Apmid%2F21702778&amp;rft.au=Pirolli%2C+P.&amp;rfr_id=info%3Asid%2Fen.wikipedia.org%3ASemantic+similarity\" class=\"Z3988\"><span style=\"display:none;\">&#160;</span></span></span>\\n</li>\\n<li id=\"cite_note-33\"><span class=\"mw-cite-backlink\"><b><a href=\"#cite_ref-33\">^</a></b></span> <span class=\"reference-text\"><cite class=\"citation book\">Pirolli, P., &amp; Fu, W.-T. (2003). \"SNIF-ACT: A model of information foraging on the World Wide Web\". <i>Lecture Notes in Computer Science</i>. Lecture Notes in Computer Science. <b>2702</b>. pp.&#160;45\\xe2\\x80\\x9354. <a href=\"/wiki/Digital_object_identifier\" title=\"Digital object identifier\">doi</a>:<a rel=\"nofollow\" class=\"external text\" href=\"//doi.org/10.1007/3-540-44963-9_8\">10.1007/3-540-44963-9_8</a>. <a href=\"/wiki/International_Standard_Book_Number\" title=\"International Standard Book Number\">ISBN</a>&#160;<a href=\"/wiki/Special:BookSources/978-3-540-40381-4\" title=\"Special:BookSources/978-3-540-40381-4\">978-3-540-40381-4</a>.</cite><span title=\"ctx_ver=Z39.88-2004&amp;rft_val_fmt=info%3Aofi%2Ffmt%3Akev%3Amtx%3Abook&amp;rft.genre=bookitem&amp;rft.atitle=SNIF-ACT%3A+A+model+of+information+foraging+on+the+World+Wide+Web&amp;rft.btitle=Lecture+Notes+in+Computer+Science&amp;rft.series=Lecture+Notes+in+Computer+Science&amp;rft.pages=45-54&amp;rft.date=2003&amp;rft_id=info%3Adoi%2F10.1007%2F3-540-44963-9_8&amp;rft.isbn=978-3-540-40381-4&amp;rft.au=Pirolli%2C+P.%2C+%26+Fu%2C+W.-T.&amp;rfr_id=info%3Asid%2Fen.wikipedia.org%3ASemantic+similarity\" class=\"Z3988\"><span style=\"display:none;\">&#160;</span></span><span class=\"citation-comment\" style=\"display:none; color:#33aa33; margin-left:0.3em\">CS1 maint: Multiple names: authors list (<a href=\"/wiki/Category:CS1_maint:_Multiple_names:_authors_list\" title=\"Category:CS1 maint: Multiple names: authors list\">link</a>) </span></span>\\n</li>\\n<li id=\"cite_note-34\"><span class=\"mw-cite-backlink\"><b><a href=\"#cite_ref-34\">^</a></b></span> <span class=\"reference-text\">Turney, P. (2001). Mining the Web for Synonyms: PMI versus LSA on TOEFL. In L. De Raedt &amp; P. Flach (Eds.), Proceedings of the Twelfth European Conference on Machine Learning (ECML-2001) (pp.&#160;491\\xe2\\x80\\x93502). Freiburg, Germany.</span>\\n</li>\\n<li id=\"cite_note-35\"><span class=\"mw-cite-backlink\"><b><a href=\"#cite_ref-35\">^</a></b></span> <span class=\"reference-text\"><cite class=\"citation conference\">Pekar, Viktor; Staab, Steffen (2002). <i>Taxonomy learning</i>. Proceedings of the 19th international conference on Computational linguistics -. <b>1</b>. pp.&#160;1\\xe2\\x80\\x937. <a href=\"/wiki/Digital_object_identifier\" title=\"Digital object identifier\">doi</a>:<a rel=\"nofollow\" class=\"external text\" href=\"//doi.org/10.3115/1072228.1072318\">10.3115/1072228.1072318</a>.</cite><span title=\"ctx_ver=Z39.88-2004&amp;rft_val_fmt=info%3Aofi%2Ffmt%3Akev%3Amtx%3Abook&amp;rft.genre=conference&amp;rft.btitle=Taxonomy+learning&amp;rft.pages=1-7&amp;rft.date=2002&amp;rft_id=info%3Adoi%2F10.3115%2F1072228.1072318&amp;rft.aulast=Pekar&amp;rft.aufirst=Viktor&amp;rft.au=Staab%2C+Steffen&amp;rfr_id=info%3Asid%2Fen.wikipedia.org%3ASemantic+similarity\" class=\"Z3988\"><span style=\"display:none;\">&#160;</span></span></span>\\n</li>\\n<li id=\"cite_note-36\"><span class=\"mw-cite-backlink\"><b><a href=\"#cite_ref-36\">^</a></b></span> <span class=\"reference-text\"><cite class=\"citation journal\">Cheng, J; Cline, M; Martin, J; Finkelstein, D; Awad, T; Kulp, D; Siani-Rose, MA (2004). \"A knowledge-based clustering algorithm driven by Gene Ontology\". <i>Journal of biopharmaceutical statistics</i>. <b>14</b> (3): 687\\xe2\\x80\\x93700. <a href=\"/wiki/Digital_object_identifier\" title=\"Digital object identifier\">doi</a>:<a rel=\"nofollow\" class=\"external text\" href=\"//doi.org/10.1081/BIP-200025659\">10.1081/BIP-200025659</a>. <a href=\"/wiki/PubMed_Identifier\" class=\"mw-redirect\" title=\"PubMed Identifier\">PMID</a>&#160;<a rel=\"nofollow\" class=\"external text\" href=\"//www.ncbi.nlm.nih.gov/pubmed/15468759\">15468759</a>.</cite><span title=\"ctx_ver=Z39.88-2004&amp;rft_val_fmt=info%3Aofi%2Ffmt%3Akev%3Amtx%3Ajournal&amp;rft.genre=article&amp;rft.jtitle=Journal+of+biopharmaceutical+statistics&amp;rft.atitle=A+knowledge-based+clustering+algorithm+driven+by+Gene+Ontology&amp;rft.volume=14&amp;rft.issue=3&amp;rft.pages=687-700&amp;rft.date=2004&amp;rft_id=info%3Adoi%2F10.1081%2FBIP-200025659&amp;rft_id=info%3Apmid%2F15468759&amp;rft.aulast=Cheng&amp;rft.aufirst=J&amp;rft.au=Cline%2C+M&amp;rft.au=Martin%2C+J&amp;rft.au=Finkelstein%2C+D&amp;rft.au=Awad%2C+T&amp;rft.au=Kulp%2C+D&amp;rft.au=Siani-Rose%2C+MA&amp;rfr_id=info%3Asid%2Fen.wikipedia.org%3ASemantic+similarity\" class=\"Z3988\"><span style=\"display:none;\">&#160;</span></span></span>\\n</li>\\n<li id=\"cite_note-37\"><span class=\"mw-cite-backlink\"><b><a href=\"#cite_ref-37\">^</a></b></span> <span class=\"reference-text\"><cite class=\"citation journal\">Wu, H; Su, Z; Mao, F; Olman, V; Xu, Y (2005). <a rel=\"nofollow\" class=\"external text\" href=\"//www.ncbi.nlm.nih.gov/pmc/articles/PMC1130488\">\"Prediction of functional modules based on comparative genome analysis and Gene Ontology application\"</a>. <i>Nucleic Acids Research</i>. <b>33</b> (9): 2822\\xe2\\x80\\x9337. <a href=\"/wiki/Digital_object_identifier\" title=\"Digital object identifier\">doi</a>:<a rel=\"nofollow\" class=\"external text\" href=\"//doi.org/10.1093/nar/gki573\">10.1093/nar/gki573</a>. <a href=\"/wiki/PubMed_Central\" title=\"PubMed Central\">PMC</a>&#160;<span class=\"plainlinks\"><a rel=\"nofollow\" class=\"external text\" href=\"//www.ncbi.nlm.nih.gov/pmc/articles/PMC1130488\">1130488</a>&#8239;<img alt=\"Freely accessible\" src=\"//upload.wikimedia.org/wikipedia/commons/thumb/6/65/Lock-green.svg/9px-Lock-green.svg.png\" title=\"Freely accessible\" width=\"9\" height=\"14\" srcset=\"//upload.wikimedia.org/wikipedia/commons/thumb/6/65/Lock-green.svg/14px-Lock-green.svg.png 1.5x, //upload.wikimedia.org/wikipedia/commons/thumb/6/65/Lock-green.svg/18px-Lock-green.svg.png 2x\" data-file-width=\"512\" data-file-height=\"813\" /></span>. <a href=\"/wiki/PubMed_Identifier\" class=\"mw-redirect\" title=\"PubMed Identifier\">PMID</a>&#160;<a rel=\"nofollow\" class=\"external text\" href=\"//www.ncbi.nlm.nih.gov/pubmed/15901854\">15901854</a>.</cite><span title=\"ctx_ver=Z39.88-2004&amp;rft_val_fmt=info%3Aofi%2Ffmt%3Akev%3Amtx%3Ajournal&amp;rft.genre=article&amp;rft.jtitle=Nucleic+Acids+Research&amp;rft.atitle=Prediction+of+functional+modules+based+on+comparative+genome+analysis+and+Gene+Ontology+application&amp;rft.volume=33&amp;rft.issue=9&amp;rft.pages=2822-37&amp;rft.date=2005&amp;rft_id=%2F%2Fwww.ncbi.nlm.nih.gov%2Fpmc%2Farticles%2FPMC1130488&amp;rft_id=info%3Apmid%2F15901854&amp;rft_id=info%3Adoi%2F10.1093%2Fnar%2Fgki573&amp;rft.aulast=Wu&amp;rft.aufirst=H&amp;rft.au=Su%2C+Z&amp;rft.au=Mao%2C+F&amp;rft.au=Olman%2C+V&amp;rft.au=Xu%2C+Y&amp;rft_id=%2F%2Fwww.ncbi.nlm.nih.gov%2Fpmc%2Farticles%2FPMC1130488&amp;rfr_id=info%3Asid%2Fen.wikipedia.org%3ASemantic+similarity\" class=\"Z3988\"><span style=\"display:none;\">&#160;</span></span></span>\\n</li>\\n<li id=\"cite_note-38\"><span class=\"mw-cite-backlink\"><b><a href=\"#cite_ref-38\">^</a></b></span> <span class=\"reference-text\"><cite class=\"citation journal\">Del Pozo, Angela; Pazos, Florencio; Valencia, Alfonso (2008). <a rel=\"nofollow\" class=\"external text\" href=\"//www.ncbi.nlm.nih.gov/pmc/articles/PMC2375122\">\"Defining functional distances over Gene Ontology\"</a>. <i>BMC Bioinformatics</i>. <b>9</b>: 50. <a href=\"/wiki/Digital_object_identifier\" title=\"Digital object identifier\">doi</a>:<a rel=\"nofollow\" class=\"external text\" href=\"//doi.org/10.1186/1471-2105-9-50\">10.1186/1471-2105-9-50</a>. <a href=\"/wiki/PubMed_Central\" title=\"PubMed Central\">PMC</a>&#160;<span class=\"plainlinks\"><a rel=\"nofollow\" class=\"external text\" href=\"//www.ncbi.nlm.nih.gov/pmc/articles/PMC2375122\">2375122</a>&#8239;<img alt=\"Freely accessible\" src=\"//upload.wikimedia.org/wikipedia/commons/thumb/6/65/Lock-green.svg/9px-Lock-green.svg.png\" title=\"Freely accessible\" width=\"9\" height=\"14\" srcset=\"//upload.wikimedia.org/wikipedia/commons/thumb/6/65/Lock-green.svg/14px-Lock-green.svg.png 1.5x, //upload.wikimedia.org/wikipedia/commons/thumb/6/65/Lock-green.svg/18px-Lock-green.svg.png 2x\" data-file-width=\"512\" data-file-height=\"813\" /></span>. <a href=\"/wiki/PubMed_Identifier\" class=\"mw-redirect\" title=\"PubMed Identifier\">PMID</a>&#160;<a rel=\"nofollow\" class=\"external text\" href=\"//www.ncbi.nlm.nih.gov/pubmed/18221506\">18221506</a>.</cite><span title=\"ctx_ver=Z39.88-2004&amp;rft_val_fmt=info%3Aofi%2Ffmt%3Akev%3Amtx%3Ajournal&amp;rft.genre=article&amp;rft.jtitle=BMC+Bioinformatics&amp;rft.atitle=Defining+functional+distances+over+Gene+Ontology&amp;rft.volume=9&amp;rft.pages=50&amp;rft.date=2008&amp;rft_id=%2F%2Fwww.ncbi.nlm.nih.gov%2Fpmc%2Farticles%2FPMC2375122&amp;rft_id=info%3Apmid%2F18221506&amp;rft_id=info%3Adoi%2F10.1186%2F1471-2105-9-50&amp;rft.aulast=Del+Pozo&amp;rft.aufirst=Angela&amp;rft.au=Pazos%2C+Florencio&amp;rft.au=Valencia%2C+Alfonso&amp;rft_id=%2F%2Fwww.ncbi.nlm.nih.gov%2Fpmc%2Farticles%2FPMC2375122&amp;rfr_id=info%3Asid%2Fen.wikipedia.org%3ASemantic+similarity\" class=\"Z3988\"><span style=\"display:none;\">&#160;</span></span></span>\\n</li>\\n<li id=\"cite_note-39\"><span class=\"mw-cite-backlink\"><b><a href=\"#cite_ref-39\">^</a></b></span> <span class=\"reference-text\"><cite class=\"citation journal\">Philip Resnik (1995).  Chris S. Mellish, ed. \"Using information content to evaluate semantic similarity in a taxonomy\". <i>Proceedings of the 14th international joint conference on Artificial intelligence (IJCAI\\'95)</i>. <b>1</b>: 448\\xe2\\x80\\x93453. <a href=\"/wiki/CiteSeerX\" title=\"CiteSeerX\">CiteSeerX</a>&#160;<span class=\"plainlinks\"><a rel=\"nofollow\" class=\"external text\" href=\"//citeseerx.ist.psu.edu/viewdoc/summary?doi=10.1.1.41.6956\">10.1.1.41.6956</a>&#8239;<img alt=\"Freely accessible\" src=\"//upload.wikimedia.org/wikipedia/commons/thumb/6/65/Lock-green.svg/9px-Lock-green.svg.png\" title=\"Freely accessible\" width=\"9\" height=\"14\" srcset=\"//upload.wikimedia.org/wikipedia/commons/thumb/6/65/Lock-green.svg/14px-Lock-green.svg.png 1.5x, //upload.wikimedia.org/wikipedia/commons/thumb/6/65/Lock-green.svg/18px-Lock-green.svg.png 2x\" data-file-width=\"512\" data-file-height=\"813\" /></span>.</cite><span title=\"ctx_ver=Z39.88-2004&amp;rft_val_fmt=info%3Aofi%2Ffmt%3Akev%3Amtx%3Ajournal&amp;rft.genre=article&amp;rft.jtitle=Proceedings+of+the+14th+international+joint+conference+on+Artificial+intelligence+%28IJCAI%2795%29&amp;rft.atitle=Using+information+content+to+evaluate+semantic+similarity+in+a+taxonomy&amp;rft.volume=1&amp;rft.pages=448-453&amp;rft.date=1995&amp;rft_id=%2F%2Fciteseerx.ist.psu.edu%2Fviewdoc%2Fsummary%3Fdoi%3D10.1.1.41.6956&amp;rft.au=Philip+Resnik&amp;rfr_id=info%3Asid%2Fen.wikipedia.org%3ASemantic+similarity\" class=\"Z3988\"><span style=\"display:none;\">&#160;</span></span></span>\\n</li>\\n<li id=\"cite_note-40\"><span class=\"mw-cite-backlink\"><b><a href=\"#cite_ref-40\">^</a></b></span> <span class=\"reference-text\">Dekang Lin. 1998. An Information-Theoretic Definition of Similarity. In Proceedings of the Fifteenth International Conference on Machine Learning (ICML \\'98), Jude W. Shavlik (Ed.). Morgan Kaufmann Publishers Inc., San Francisco, CA, USA, 296-304</span>\\n</li>\\n<li id=\"cite_note-41\"><span class=\"mw-cite-backlink\"><b><a href=\"#cite_ref-41\">^</a></b></span> <span class=\"reference-text\">Ana Gabriela Maguitman, Filippo Menczer, Heather Roinestad, Alessandro Vespignani: <a rel=\"nofollow\" class=\"external text\" href=\"http://wwwconference.org/proceedings/www2005/docs/p107.pdf\">Algorithmic detection of semantic similarity</a>. WWW 2005: 107-116</span>\\n</li>\\n<li id=\"cite_note-42\"><span class=\"mw-cite-backlink\"><b><a href=\"#cite_ref-42\">^</a></b></span> <span class=\"reference-text\">J. J. Jiang and D. W. Conrath. <a rel=\"nofollow\" class=\"external text\" href=\"https://arxiv.org/pdf/cmp-lg/9709008.pdf\">Semantic Similarity Based on Corpus Statistics and Lexical Taxonomy</a>. In International Conference on Research\\n on Computational Linguistics (ROCLING X), pages 9008+, September 1997</span>\\n</li>\\n<li id=\"cite_note-43\"><span class=\"mw-cite-backlink\"><b><a href=\"#cite_ref-43\">^</a></b></span> <span class=\"reference-text\"><cite class=\"citation journal\">Couto, F.; Silva, M. (2011). \"Disjunctive Shared Information between Ontology Concepts: application to Gene Ontology\". <i>Journal of Biomedical Semantics</i>. <b>2</b>: 5. <a href=\"/wiki/Digital_object_identifier\" title=\"Digital object identifier\">doi</a>:<a rel=\"nofollow\" class=\"external text\" href=\"//doi.org/10.1186/2041-1480-2-5\">10.1186/2041-1480-2-5</a>.</cite><span title=\"ctx_ver=Z39.88-2004&amp;rft_val_fmt=info%3Aofi%2Ffmt%3Akev%3Amtx%3Ajournal&amp;rft.genre=article&amp;rft.jtitle=Journal+of+Biomedical+Semantics&amp;rft.atitle=Disjunctive+Shared+Information+between+Ontology+Concepts%3A+application+to+Gene+Ontology&amp;rft.volume=2&amp;rft.pages=5&amp;rft.date=2011&amp;rft_id=info%3Adoi%2F10.1186%2F2041-1480-2-5&amp;rft.aulast=Couto&amp;rft.aufirst=F.&amp;rft.au=Silva%2C+M.&amp;rfr_id=info%3Asid%2Fen.wikipedia.org%3ASemantic+similarity\" class=\"Z3988\"><span style=\"display:none;\">&#160;</span></span></span>\\n</li>\\n<li id=\"cite_note-44\"><span class=\"mw-cite-backlink\"><b><a href=\"#cite_ref-44\">^</a></b></span> <span class=\"reference-text\"><cite class=\"citation journal\">Couto, F.; Silva, M.; Coutinho, P. (2007). \"Measuring semantic similarity between Gene Ontology terms\". <i>Data and Knowledge Engineering</i>. <b>61</b>: 137\\xe2\\x80\\x93152. <a href=\"/wiki/Digital_object_identifier\" title=\"Digital object identifier\">doi</a>:<a rel=\"nofollow\" class=\"external text\" href=\"//doi.org/10.1016/j.datak.2006.05.003\">10.1016/j.datak.2006.05.003</a>.</cite><span title=\"ctx_ver=Z39.88-2004&amp;rft_val_fmt=info%3Aofi%2Ffmt%3Akev%3Amtx%3Ajournal&amp;rft.genre=article&amp;rft.jtitle=Data+and+Knowledge+Engineering&amp;rft.atitle=Measuring+semantic+similarity+between+Gene+Ontology+terms&amp;rft.volume=61&amp;rft.pages=137-152&amp;rft.date=2007&amp;rft_id=info%3Adoi%2F10.1016%2Fj.datak.2006.05.003&amp;rft.aulast=Couto&amp;rft.aufirst=F.&amp;rft.au=Silva%2C+M.&amp;rft.au=Coutinho%2C+P.&amp;rfr_id=info%3Asid%2Fen.wikipedia.org%3ASemantic+similarity\" class=\"Z3988\"><span style=\"display:none;\">&#160;</span></span></span>\\n</li>\\n<li id=\"cite_note-45\"><span class=\"mw-cite-backlink\"><b><a href=\"#cite_ref-45\">^</a></b></span> <span class=\"reference-text\">M. T. Pilehvar, D. Jurgens and R. Navigli. <a rel=\"nofollow\" class=\"external text\" href=\"http://wwwusers.di.uniroma1.it/~navigli/pubs/ACL_2013_Pilehvar_Jurgens_Navigli.pdf\">Align, Disambiguate and Walk: A Unified Approach for Measuring Semantic Similarity.</a>. Proc. of the 51st Annual Meeting of the Association for Computational Linguistics (ACL 2013), Sofia, Bulgaria, August 4\\xe2\\x80\\x939, 2013, pp. 1341\\xe2\\x80\\x931351.</span>\\n</li>\\n<li id=\"cite_note-46\"><span class=\"mw-cite-backlink\"><b><a href=\"#cite_ref-46\">^</a></b></span> <span class=\"reference-text\"><cite class=\"citation journal\">Dong, Hai (2009). <a rel=\"nofollow\" class=\"external text\" href=\"https://www.researchgate.net/publication/44241193_A_Hybrid_Concept_Similarity_Measure_Model_for_Ontology_Environment\">\"A Hybrid Concept Similarity Measure Model for Ontology Environment\"</a>. <i>Lecture Notes in Computer Science</i>. <b>5872</b>: 848\\xe2\\x80\\x93857. <a href=\"/wiki/Bibcode\" title=\"Bibcode\">Bibcode</a>:<a rel=\"nofollow\" class=\"external text\" href=\"http://adsabs.harvard.edu/abs/2009LNCS.5872..848D\">2009LNCS.5872..848D</a>. <a href=\"/wiki/Digital_object_identifier\" title=\"Digital object identifier\">doi</a>:<a rel=\"nofollow\" class=\"external text\" href=\"//doi.org/10.1007/978-3-642-05290-3_103\">10.1007/978-3-642-05290-3_103</a>. <a href=\"/wiki/International_Standard_Book_Number\" title=\"International Standard Book Number\">ISBN</a>&#160;<a href=\"/wiki/Special:BookSources/978-3-642-05289-7\" title=\"Special:BookSources/978-3-642-05289-7\">978-3-642-05289-7</a>.</cite><span title=\"ctx_ver=Z39.88-2004&amp;rft_val_fmt=info%3Aofi%2Ffmt%3Akev%3Amtx%3Ajournal&amp;rft.genre=article&amp;rft.jtitle=Lecture+Notes+in+Computer+Science&amp;rft.atitle=A+Hybrid+Concept+Similarity+Measure+Model+for+Ontology+Environment&amp;rft.volume=5872&amp;rft.pages=848-857&amp;rft.date=2009&amp;rft_id=info%3Adoi%2F10.1007%2F978-3-642-05290-3_103&amp;rft_id=info%3Abibcode%2F2009LNCS.5872..848D&amp;rft.isbn=978-3-642-05289-7&amp;rft.aulast=Dong&amp;rft.aufirst=Hai&amp;rft_id=https%3A%2F%2Fwww.researchgate.net%2Fpublication%2F44241193_A_Hybrid_Concept_Similarity_Measure_Model_for_Ontology_Environment&amp;rfr_id=info%3Asid%2Fen.wikipedia.org%3ASemantic+similarity\" class=\"Z3988\"><span style=\"display:none;\">&#160;</span></span></span>\\n</li>\\n<li id=\"cite_note-47\"><span class=\"mw-cite-backlink\"><b><a href=\"#cite_ref-47\">^</a></b></span> <span class=\"reference-text\"><cite class=\"citation journal\">Dong, Hai (2011). <a rel=\"nofollow\" class=\"external text\" href=\"https://www.researchgate.net/publication/220105255_A_context-aware_semantic_similarity_model_for_ontology\">\"A context-aware semantic similarity model for ontology environments\"</a>. <i>Concurrency and Computation: Practice and Experience</i>. <b>23</b> (2): 505\\xe2\\x80\\x93524.</cite><span title=\"ctx_ver=Z39.88-2004&amp;rft_val_fmt=info%3Aofi%2Ffmt%3Akev%3Amtx%3Ajournal&amp;rft.genre=article&amp;rft.jtitle=Concurrency+and+Computation%3A+Practice+and+Experience&amp;rft.atitle=A+context-aware+semantic+similarity+model+for+ontology+environments&amp;rft.volume=23&amp;rft.issue=2&amp;rft.pages=505-524&amp;rft.date=2011&amp;rft.aulast=Dong&amp;rft.aufirst=Hai&amp;rft_id=https%3A%2F%2Fwww.researchgate.net%2Fpublication%2F220105255_A_context-aware_semantic_similarity_model_for_ontology&amp;rfr_id=info%3Asid%2Fen.wikipedia.org%3ASemantic+similarity\" class=\"Z3988\"><span style=\"display:none;\">&#160;</span></span></span>\\n</li>\\n<li id=\"cite_note-48\"><span class=\"mw-cite-backlink\"><b><a href=\"#cite_ref-48\">^</a></b></span> <span class=\"reference-text\">Catia Pesquita, Daniel Faria, Hugo Bastos, Ant\\xc3\\xb3nio Ferreira, Andre O Falcao, Francisco Couto 2008: Metrics for GO based protein semantic similarity: a systematic evaluation. BMC Bioinformatics Suppl 5(9), S4</span>\\n</li>\\n<li id=\"cite_note-49\"><span class=\"mw-cite-backlink\"><b><a href=\"#cite_ref-49\">^</a></b></span> <span class=\"reference-text\"><cite class=\"citation journal\">Landauer, T. K.; Dumais, S. T. (1997). <a rel=\"nofollow\" class=\"external text\" href=\"http://www.stat.cmu.edu/%7Ecshalizi/350/2008/readings/Landauer-Dumais.pdf\">\"A solution to Plato\\'s problem: The latent semantic analysis theory of acquisition, induction, and representation of knowledge\"</a> <span style=\"font-size:85%;\">(PDF)</span>. <i>Psychological Review</i>. <b>104</b> (2): 211\\xe2\\x80\\x93240. <a href=\"/wiki/Digital_object_identifier\" title=\"Digital object identifier\">doi</a>:<a rel=\"nofollow\" class=\"external text\" href=\"//doi.org/10.1037/0033-295x.104.2.211\">10.1037/0033-295x.104.2.211</a>.</cite><span title=\"ctx_ver=Z39.88-2004&amp;rft_val_fmt=info%3Aofi%2Ffmt%3Akev%3Amtx%3Ajournal&amp;rft.genre=article&amp;rft.jtitle=Psychological+Review&amp;rft.atitle=A+solution+to+Plato%27s+problem%3A+The+latent+semantic+analysis+theory+of+acquisition%2C+induction%2C+and+representation+of+knowledge&amp;rft.volume=104&amp;rft.issue=2&amp;rft.pages=211-240&amp;rft.date=1997&amp;rft_id=info%3Adoi%2F10.1037%2F0033-295x.104.2.211&amp;rft.aulast=Landauer&amp;rft.aufirst=T.+K.&amp;rft.au=Dumais%2C+S.+T.&amp;rft_id=http%3A%2F%2Fwww.stat.cmu.edu%2F%257Ecshalizi%2F350%2F2008%2Freadings%2FLandauer-Dumais.pdf&amp;rfr_id=info%3Asid%2Fen.wikipedia.org%3ASemantic+similarity\" class=\"Z3988\"><span style=\"display:none;\">&#160;</span></span></span>\\n</li>\\n<li id=\"cite_note-50\"><span class=\"mw-cite-backlink\"><b><a href=\"#cite_ref-50\">^</a></b></span> <span class=\"reference-text\"><cite class=\"citation journal\">Landauer, T. K., Foltz, P. W., &amp; Laham, D. (1998). <a rel=\"nofollow\" class=\"external text\" href=\"http://lsa.colorado.edu/papers/dp1.LSAintro.pdf\">\"Introduction to Latent Semantic Analysis\"</a> <span style=\"font-size:85%;\">(PDF)</span>. <i>Discourse Processes</i>. <b>25</b> (2\\xe2\\x80\\x933): 259\\xe2\\x80\\x93284. <a href=\"/wiki/Digital_object_identifier\" title=\"Digital object identifier\">doi</a>:<a rel=\"nofollow\" class=\"external text\" href=\"//doi.org/10.1080/01638539809545028\">10.1080/01638539809545028</a>.</cite><span title=\"ctx_ver=Z39.88-2004&amp;rft_val_fmt=info%3Aofi%2Ffmt%3Akev%3Amtx%3Ajournal&amp;rft.genre=article&amp;rft.jtitle=Discourse+Processes&amp;rft.atitle=Introduction+to+Latent+Semantic+Analysis&amp;rft.volume=25&amp;rft.issue=2%E2%80%933&amp;rft.pages=259-284&amp;rft.date=1998&amp;rft_id=info%3Adoi%2F10.1080%2F01638539809545028&amp;rft.au=Landauer%2C+T.+K.%2C+Foltz%2C+P.+W.%2C+%26+Laham%2C+D.&amp;rft_id=http%3A%2F%2Flsa.colorado.edu%2Fpapers%2Fdp1.LSAintro.pdf&amp;rfr_id=info%3Asid%2Fen.wikipedia.org%3ASemantic+similarity\" class=\"Z3988\"><span style=\"display:none;\">&#160;</span></span><span class=\"citation-comment\" style=\"display:none; color:#33aa33; margin-left:0.3em\">CS1 maint: Multiple names: authors list (<a href=\"/wiki/Category:CS1_maint:_Multiple_names:_authors_list\" title=\"Category:CS1 maint: Multiple names: authors list\">link</a>) </span></span>\\n</li>\\n<li id=\"cite_note-51\"><span class=\"mw-cite-backlink\"><b><a href=\"#cite_ref-51\">^</a></b></span> <span class=\"reference-text\"><cite class=\"citation web\"><a rel=\"nofollow\" class=\"external text\" href=\"http://iknowate.blogspot.com/2011/10/google-similarity-distance.html\">\"Google Similarity Distance\"</a>.</cite><span title=\"ctx_ver=Z39.88-2004&amp;rft_val_fmt=info%3Aofi%2Ffmt%3Akev%3Amtx%3Abook&amp;rft.genre=unknown&amp;rft.btitle=Google+Similarity+Distance&amp;rft_id=http%3A%2F%2Fiknowate.blogspot.com%2F2011%2F10%2Fgoogle-similarity-distance.html&amp;rfr_id=info%3Asid%2Fen.wikipedia.org%3ASemantic+similarity\" class=\"Z3988\"><span style=\"display:none;\">&#160;</span></span></span>\\n</li>\\n<li id=\"cite_note-52\"><span class=\"mw-cite-backlink\"><b><a href=\"#cite_ref-52\">^</a></b></span> <span class=\"reference-text\">J. Camacho-Collados, M. T. Pilehvar, and R. Navigli. <a rel=\"nofollow\" class=\"external text\" href=\"http://aclweb.org/anthology/N/N15/N15-1059.pdf\">NASARI: a Novel Approach to a Semantically-Aware Representation of Items.</a> In Proceedings of the North American Chapter of the Association of Computational Linguistics (NAACL 2015), Denver, USA, pp. 567-577, 2015</span>\\n</li>\\n<li id=\"cite_note-53\"><span class=\"mw-cite-backlink\"><b><a href=\"#cite_ref-53\">^</a></b></span> <span class=\"reference-text\">J. Camacho-Collados, M. T. Pilehvar, and R. Navigli. <a rel=\"nofollow\" class=\"external text\" href=\"http://aclweb.org/anthology/P/P15/P15-1072.pdf\">A Unified Multilingual Semantic Representation of Concepts.</a>\\nIn Proceedings of the 53rd Annual Meeting of the Association for Computational Linguistics (ACL 2015), Beijing, China, July 27\\xe2\\x80\\x9329, pp. 741-751, 2015</span>\\n</li>\\n<li id=\"cite_note-54\"><span class=\"mw-cite-backlink\"><b><a href=\"#cite_ref-54\">^</a></b></span> <span class=\"reference-text\">F\\xc3\\xa4hndrich J., Weber S., Ahrndt S. (2016) Design and Use of a Semantic Similarity Measure for Interoperability Among Agents. In: Klusch M., Unland R., Shehory O., Pokahr A., Ahrndt S. (eds) Multiagent System Technologies. MATES 2016. Lecture Notes in Computer Science, vol 9872. Springer, available at <a rel=\"nofollow\" class=\"external text\" href=\"http://www.f\\xc3\\xa4hndrich.de\">author version</a></span>\\n</li>\\n<li id=\"cite_note-55\"><span class=\"mw-cite-backlink\"><b><a href=\"#cite_ref-55\">^</a></b></span> <span class=\"reference-text\">C. d\\'Amato, S. Staab, and N. Fanizzi. On the influence of description logics ontologies on conceptual similarity. Knowledge Engineering: Practice and Patterns, pages 48-63, 2008 <a href=\"/wiki/Digital_object_identifier\" title=\"Digital object identifier\">doi</a>:<a rel=\"nofollow\" class=\"external text\" href=\"https://doi.org/10.1007%2F978-3-540-87696-0_7\">10.1007/978-3-540-87696-0_7</a></span>\\n</li>\\n<li id=\"cite_note-56\"><span class=\"mw-cite-backlink\"><b><a href=\"#cite_ref-56\">^</a></b></span> <span class=\"reference-text\">F. Couto and H. Pinto, The next generation of similarity measures that fully explore the semantics in biomedical ontologies, Journal of Bioinformatics and Computational Biology, vol. in press, 2013. <a rel=\"nofollow\" class=\"external text\" href=\"http://webpages.fc.ul.pt/~fjcouto/files/journal%20fcouto-jbcb2013%20preprint.pdf\">preprint</a></span>\\n</li>\\n<li id=\"cite_note-57\"><span class=\"mw-cite-backlink\"><b><a href=\"#cite_ref-57\">^</a></b></span> <span class=\"reference-text\">Rubenstein, Herbert, and John B. Goodenough. Contextual correlates of synonymy. Communications of the ACM, 8(10):627\\xe2\\x80\\x93633, 1965.</span>\\n</li>\\n</ol></div></div>\\n<h2><span class=\"mw-headline\" id=\"Sources\">Sources</span><span class=\"mw-editsection\"><span class=\"mw-editsection-bracket\">[</span><a href=\"/w/index.php?title=Semantic_similarity&amp;action=edit&amp;section=20\" title=\"Edit section: Sources\">edit</a><span class=\"mw-editsection-bracket\">]</span></span></h2>\\n<ul><li><cite class=\"citation journal\">Cilibrasi, R.L. &amp; Vitanyi, P.M.B. (2007). \"The Google Similarity Distance\". <i>IEEE Trans. Knowledge and Data Engineering</i>. <b>19</b> (3): 370\\xe2\\x80\\x93383. <a href=\"/wiki/ArXiv\" title=\"ArXiv\">arXiv</a>:<span class=\"plainlinks\"><a rel=\"nofollow\" class=\"external text\" href=\"//arxiv.org/abs/cs/0412098\">cs/0412098</a>&#8239;<img alt=\"Freely accessible\" src=\"//upload.wikimedia.org/wikipedia/commons/thumb/6/65/Lock-green.svg/9px-Lock-green.svg.png\" title=\"Freely accessible\" width=\"9\" height=\"14\" srcset=\"//upload.wikimedia.org/wikipedia/commons/thumb/6/65/Lock-green.svg/14px-Lock-green.svg.png 1.5x, //upload.wikimedia.org/wikipedia/commons/thumb/6/65/Lock-green.svg/18px-Lock-green.svg.png 2x\" data-file-width=\"512\" data-file-height=\"813\" /></span>. <a href=\"/wiki/Digital_object_identifier\" title=\"Digital object identifier\">doi</a>:<a rel=\"nofollow\" class=\"external text\" href=\"//doi.org/10.1109/TKDE.2007.48\">10.1109/TKDE.2007.48</a>.</cite><span title=\"ctx_ver=Z39.88-2004&amp;rft_val_fmt=info%3Aofi%2Ffmt%3Akev%3Amtx%3Ajournal&amp;rft.genre=article&amp;rft.jtitle=IEEE+Trans.+Knowledge+and+Data+Engineering&amp;rft.atitle=The+Google+Similarity+Distance&amp;rft.volume=19&amp;rft.issue=3&amp;rft.pages=370-383&amp;rft.date=2007&amp;rft_id=info%3Aarxiv%2Fcs%2F0412098&amp;rft_id=info%3Adoi%2F10.1109%2FTKDE.2007.48&amp;rft.au=Cilibrasi%2C+R.L.&amp;rft.au=Vitanyi%2C+P.M.B.&amp;rfr_id=info%3Asid%2Fen.wikipedia.org%3ASemantic+similarity\" class=\"Z3988\"><span style=\"display:none;\">&#160;</span></span></li>\\n<li><cite class=\"citation journal\">Dumais, S (2003). \"Data-driven approaches to information access\". <i>Cognitive Science</i>. <b>27</b> (3): 491\\xe2\\x80\\x93524. <a href=\"/wiki/Digital_object_identifier\" title=\"Digital object identifier\">doi</a>:<a rel=\"nofollow\" class=\"external text\" href=\"//doi.org/10.1207/s15516709cog2703_7\">10.1207/s15516709cog2703_7</a>.</cite><span title=\"ctx_ver=Z39.88-2004&amp;rft_val_fmt=info%3Aofi%2Ffmt%3Akev%3Amtx%3Ajournal&amp;rft.genre=article&amp;rft.jtitle=Cognitive+Science&amp;rft.atitle=Data-driven+approaches+to+information+access&amp;rft.volume=27&amp;rft.issue=3&amp;rft.pages=491-524&amp;rft.date=2003&amp;rft_id=info%3Adoi%2F10.1207%2Fs15516709cog2703_7&amp;rft.aulast=Dumais&amp;rft.aufirst=S&amp;rfr_id=info%3Asid%2Fen.wikipedia.org%3ASemantic+similarity\" class=\"Z3988\"><span style=\"display:none;\">&#160;</span></span></li>\\n<li>Ferreira, J. &amp; Couto, F. (2010). <a rel=\"nofollow\" class=\"external text\" href=\"https://dx.doi.org/10.1371/journal.pcbi.1000937\">Semantic similarity for automatic classification of chemical compounds</a>. PLoS Computational Biology 6(9): e1000937, 2010.</li>\\n<li>Gabrilovich, E. and Markovitch, S. (2007). <a rel=\"nofollow\" class=\"external text\" href=\"http://www.cs.technion.ac.il/~gabr/papers/ijcai-2007-sim.pdf\">Computing Semantic Relatedness using Wikipedia-based Explicit Semantic Analysis</a>, Proceedings of the 20th International Joint Conference on Artificial Intelligence (IJCAI), Hyderabad, India, January 2007.</li>\\n<li>Lee, M. D., Pincombe, B., &amp; Welsh, M. (2005). An empirical evaluation of models of text document similarity. In B. G. Bara &amp; L. Barsalou &amp; M. Bucciarelli (Eds.), 27th Annual Meeting of the Cognitive Science Society, CogSci2005 (pp.&#160;1254\\xe2\\x80\\x931259). Austin, Tx: The Cognitive Science Society, Inc.</li>\\n<li>Lemaire, B., &amp; Denhi\\xc3\\xa9re, G. (2004). <a rel=\"nofollow\" class=\"external text\" href=\"http://cogprints.org/3779/01/cogsci04_2.pdf\">Incremental construction of an associative network from a corpus</a>. In K. D. Forbus &amp; D. Gentner &amp; T. Regier (Eds.), 26th Annual Meeting of the Cognitive Science Society, CogSci2004. Hillsdale, NJ: Lawrence Erlbaum Publisher.</li>\\n<li><cite class=\"citation journal\">Lindsey, R., Veksler, V.D., Grintsvayg, A., Gray, W.D. (2007). <a rel=\"nofollow\" class=\"external text\" href=\"http://sitemaker.umich.edu/iccm2007.org/files/lindsey__veksler__grintsvayg____gray.pdf\">\"The Effects of Corpus Selection on Measuring Semantic Relatedness\"</a> <span style=\"font-size:85%;\">(PDF)</span>. <i>Proceedings of the 8th International Conference on Cognitive Modeling, Ann Arbor, MI</i>.</cite><span title=\"ctx_ver=Z39.88-2004&amp;rft_val_fmt=info%3Aofi%2Ffmt%3Akev%3Amtx%3Ajournal&amp;rft.genre=article&amp;rft.jtitle=Proceedings+of+the+8th+International+Conference+on+Cognitive+Modeling%2C+Ann+Arbor%2C+MI&amp;rft.atitle=The+Effects+of+Corpus+Selection+on+Measuring+Semantic+Relatedness&amp;rft.date=2007&amp;rft.au=Lindsey%2C+R.%2C+Veksler%2C+V.D.%2C+Grintsvayg%2C+A.%2C+Gray%2C+W.D.&amp;rft_id=http%3A%2F%2Fsitemaker.umich.edu%2Ficcm2007.org%2Ffiles%2Flindsey&#95;_veksler&#95;_grintsvayg&#95;_&#95;_gray.pdf&amp;rfr_id=info%3Asid%2Fen.wikipedia.org%3ASemantic+similarity\" class=\"Z3988\"><span style=\"display:none;\">&#160;</span></span><span class=\"citation-comment\" style=\"display:none; color:#33aa33; margin-left:0.3em\">CS1 maint: Multiple names: authors list (<a href=\"/wiki/Category:CS1_maint:_Multiple_names:_authors_list\" title=\"Category:CS1 maint: Multiple names: authors list\">link</a>) </span></li>\\n<li>Navigli, R., Lapata, M. (2010). <a rel=\"nofollow\" class=\"external text\" href=\"http://www.dsi.uniroma1.it/~navigli/pubs/PAMI_2010_Navigli_Lapata.pdf\">\"An Experimental Study of Graph Connectivity for Unsupervised Word Sense Disambiguation\"</a>. IEEE Transactions on Pattern Analysis and Machine Intelligence (TPAMI), 32(4), IEEE Press, 2010, pp.&#160;678\\xe2\\x80\\x93692.</li>\\n<li><cite class=\"citation journal\">Veksler, V.D. &amp; Gray, W.D. (2006). <a rel=\"nofollow\" class=\"external text\" href=\"http://csjarchive.cogsci.rpi.edu/Proceedings/2006/docs/p2624.pdf\">\"Test Case Selection for Evaluating Measures of Semantic Distance\"</a> <span style=\"font-size:85%;\">(PDF)</span>. <i>Proceedings of the 28th Annual Meeting of the Cognitive Science Society, CogSci2006</i>.</cite><span title=\"ctx_ver=Z39.88-2004&amp;rft_val_fmt=info%3Aofi%2Ffmt%3Akev%3Amtx%3Ajournal&amp;rft.genre=article&amp;rft.jtitle=Proceedings+of+the+28th+Annual+Meeting+of+the+Cognitive+Science+Society%2C+CogSci2006&amp;rft.atitle=Test+Case+Selection+for+Evaluating+Measures+of+Semantic+Distance&amp;rft.date=2006&amp;rft.au=Veksler%2C+V.D.&amp;rft.au=Gray%2C+W.D.&amp;rft_id=http%3A%2F%2Fcsjarchive.cogsci.rpi.edu%2FProceedings%2F2006%2Fdocs%2Fp2624.pdf&amp;rfr_id=info%3Asid%2Fen.wikipedia.org%3ASemantic+similarity\" class=\"Z3988\"><span style=\"display:none;\">&#160;</span></span></li>\\n<li>Wong, W., Liu, W. &amp; Bennamoun, M. (2008) Featureless Data Clustering. In: M. Song and Y. Wu; Handbook of Research on Text and Web Mining Technologies; IGI Global. <a href=\"/wiki/International_Standard_Book_Number\" title=\"International Standard Book Number\">ISBN</a>&#160;<a href=\"/wiki/Special:BookSources/978-1-59904-990-8\" title=\"Special:BookSources/978-1-59904-990-8\">978-1-59904-990-8</a> (the use of NGD and noW for term and URI clustering)</li></ul>\\n<h2><span class=\"mw-headline\" id=\"External_links\">External links</span><span class=\"mw-editsection\"><span class=\"mw-editsection-bracket\">[</span><a href=\"/w/index.php?title=Semantic_similarity&amp;action=edit&amp;section=21\" title=\"Edit section: External links\">edit</a><span class=\"mw-editsection-bracket\">]</span></span></h2>\\n<ul><li><a rel=\"nofollow\" class=\"external text\" href=\"http://www.similarity-blog.de/?page_id=3\">List of related literature</a></li></ul>\\n<h3><span class=\"mw-headline\" id=\"Survey_articles\">Survey articles</span><span class=\"mw-editsection\"><span class=\"mw-editsection-bracket\">[</span><a href=\"/w/index.php?title=Semantic_similarity&amp;action=edit&amp;section=22\" title=\"Edit section: Survey articles\">edit</a><span class=\"mw-editsection-bracket\">]</span></span></h3>\\n<ul><li><i>Conference article</i>: C. d\\'Amato, S. Staab, N. Fanizzi. 2008. <a rel=\"nofollow\" class=\"external text\" href=\"https://dl.acm.org/citation.cfm?id=1434078\">On the Influence of Description Logics Ontologies on Conceptual Similarity</a>. In Proceedings of the 16th international conference on Knowledge Engineering: Practice and Patterns Pages 48 \\xe2\\x80\\x93 63. Acitrezza, Italy, Springer-Verlag</li>\\n<li><i>Journal article</i> on the more general topic of relatedness, also including similarity: Z. Zhang, A. Gentile, F. Ciravegna. 2013. <a rel=\"nofollow\" class=\"external text\" href=\"https://www.cambridge.org/core/journals/natural-language-engineering/article/recent-advances-in-methods-of-lexical-semantic-relatedness-a-survey/35BA94697B86B4B797FCF3ACCDE24FBD\">Recent advances in methods of lexical semantic relatedness - a survey</a>. Natural Language Engineering 19 (4), 411-479, Cambridge University Press</li>\\n<li><i>Book</i>: S. Harispe, S. Ranwez, S. Janaqi, J. Montmain. 2015. <a rel=\"nofollow\" class=\"external text\" href=\"http://www.morganclaypool.com/doi/10.2200/S00639ED1V01Y201504HLT027\">Semantic Similarity from Natural Language and Ontology Analysis</a>, Morgan &amp; Claypool Publishers.</li></ul>\\n<h3><span class=\"mw-headline\" id=\"Software\">Software</span><span class=\"mw-editsection\"><span class=\"mw-editsection-bracket\">[</span><a href=\"/w/index.php?title=Semantic_similarity&amp;action=edit&amp;section=23\" title=\"Edit section: Software\">edit</a><span class=\"mw-editsection-bracket\">]</span></span></h3>\\n<ul><li><a rel=\"nofollow\" class=\"external text\" href=\"http://www.personal.psu.edu/kuj13/janowicz_etal_simdl_geos2007.pdf\">Algorithm, Implementation and Application of the SIM-DL Similarity Server</a> (Introduction to the SIM-DL Similarity Server)</li>\\n<li><a rel=\"nofollow\" class=\"external text\" href=\"http://www.semantic-measures-library.org/\">Semantic Measures Library</a> (SML), a highly tunable and open source JAVA library dedicated to the computation and analysis of semantic measures. The library is generic as it can be used on multiple ontologies/terminologies e.g. <a href=\"/wiki/Gene_Ontology\" class=\"mw-redirect\" title=\"Gene Ontology\">Gene Ontology</a>, <a href=\"/wiki/Medical_Subject_Headings\" title=\"Medical Subject Headings\">Medical Subject Headings</a>, <a href=\"/wiki/SNOMED_CT\" title=\"SNOMED CT\">SNOMED CT</a>, <a href=\"/wiki/WordNet\" title=\"WordNet\">WordNet</a>, or semantic graphs expressed in <a href=\"/wiki/RDF_Schema\" title=\"RDF Schema\">RDF Schema</a>, <a href=\"/wiki/Web_Ontology_Language\" title=\"Web Ontology Language\">Web Ontology Language</a>, <a href=\"/wiki/Open_Biomedical_Ontologies\" title=\"Open Biomedical Ontologies\">Open Biomedical Ontologies</a> languages. The core developers also maintain the <a rel=\"nofollow\" class=\"external text\" href=\"http://www.semantic-measures-library.org/\">SML-Toolkit</a>, a set of command line tools giving non-developers access to SML functionalities e.g. to perform large scale computation of semantic measures. Tutorials, downloads and documentation for both the SML and the SML-Toolkit are available at <a rel=\"nofollow\" class=\"external text\" href=\"http://www.semantic-measures-library.org/\">http://www.semantic-measures-library.org/</a>.</li>\\n<li><a rel=\"nofollow\" class=\"external text\" href=\"http://wn-similarity.sourceforge.net/\">WordNet-Similarity</a>, an open source package for computing the similarity and relatedness of concepts found in WordNet</li>\\n<li><a rel=\"nofollow\" class=\"external text\" href=\"http://umls-similarity.sourceforge.net/\">UMLS-Similarity</a>, an open source package for computing the similarity and relatedness of concepts found in the Unified Medical Language System (UMLS)</li>\\n<li><a rel=\"nofollow\" class=\"external text\" href=\"http://semanticsimilarity.org/\">SEMILAR \\xe2\\x80\\x93 A Semantic Similarity Toolkit</a>, java based library, tool, and data related to measuring similarity and relatedness of text in different granularity (all free for research purposes).<sup id=\"cite_ref-58\" class=\"reference\"><a href=\"#cite_note-58\">&#91;1&#93;</a></sup></li>\\n<li><a rel=\"nofollow\" class=\"external text\" href=\"http://www.linguatools.de/disco/disco-builder.html\">DISCO Builder</a> and <a rel=\"nofollow\" class=\"external text\" href=\"http://www.linguatools.de/disco/disco_en.html\">DISCO API</a>, a Java toolkit to compute the similarity between words and phrases. Allows to import word spaces generated with <a href=\"/wiki/Word2vec\" title=\"Word2vec\">Word2vec</a>. Freely available for research, API is Apache licensed.</li>\\n<li><a rel=\"nofollow\" class=\"external text\" href=\"http://takelab.fer.hr/sts/\">TakeLab STS system</a> \\xe2\\x80\\x93 One of the top performing short text semantic similarity systems from <a rel=\"nofollow\" class=\"external text\" href=\"https://www.cs.york.ac.uk/semeval-2012/task6/\">Semeval 2012</a></li>\\n<li><a rel=\"nofollow\" class=\"external text\" href=\"https://github.com/lasigeBioTM/DiShIn\">DiShIn Python Package</a> - minimal python package providing the basic functions to start using semantic similarity measures directly from <a href=\"/wiki/RDF_Schema\" title=\"RDF Schema\">RDF Schema</a>, or <a href=\"/wiki/Web_Ontology_Language\" title=\"Web Ontology Language\">Web Ontology Language</a>, using Disjunctive Shared Information.</li></ul>\\n<h3><span class=\"mw-headline\" id=\"Web_services\">Web services</span><span class=\"mw-editsection\"><span class=\"mw-editsection-bracket\">[</span><a href=\"/w/index.php?title=Semantic_similarity&amp;action=edit&amp;section=24\" title=\"Edit section: Web services\">edit</a><span class=\"mw-editsection-bracket\">]</span></span></h3>\\n<ul><li><a rel=\"nofollow\" class=\"external text\" href=\"http://serelex.cental.be/\">Serelex Semantic Relatedness</a>, a web service that finds semantically related words based on the <a rel=\"nofollow\" class=\"external text\" href=\"http://www.oegai.at/konvens2012/proceedings/23_panchenko12p/23_panchenko12p.pdf\">Serelex semantic similarity measure</a>, which relies on a text corpus and a set of lexico-syntactic patterns. Description of this service is available at <a rel=\"nofollow\" class=\"external text\" href=\"https://link.springer.com/chapter/10.1007/978-3-642-36973-5_97?no-access=true\">Panchenko et al. (2013)</a></li>\\n<li><a rel=\"nofollow\" class=\"external text\" href=\"http://atlas.ahc.umn.edu/\">UMLS-Similarity</a>, a web interface to UMLS-Similarity</li>\\n<li><a rel=\"nofollow\" class=\"external text\" href=\"http://semantic-link.com/\">Semantic Link</a>, finds related words using Wikipedia-based mutual information (MI)</li>\\n<li><a rel=\"nofollow\" class=\"external text\" href=\"http://swoogle.umbc.edu/SimService/\">UMBC SimService</a>, a web interface to top N similar words and phrase similarity</li>\\n<li><a rel=\"nofollow\" class=\"external text\" href=\"http://labs.fc.ul.pt/dishin/\">DiShIn Web Tool</a>, compares entry from <a href=\"/wiki/Gene_ontology\" title=\"Gene ontology\">Gene ontology</a>, <a href=\"/wiki/Human_Phenotype_Ontology\" title=\"Human Phenotype Ontology\">Human Phenotype Ontology</a>, and <a href=\"/wiki/ChEBI\" title=\"ChEBI\">ChEBI</a><div class=\"mw-references-wrap\"><ol class=\"references\"></ol></div></li></ul>\\n<li id=\"cite_note-58\"><span class=\"mw-cite-backlink\"><b><a href=\"#cite_ref-58\">^</a></b></span> <span class=\"reference-text\">Rus, V., Lintean, M. C., Banjade, R., Niraula, N. B., &amp; Stefanescu, D. (2013, August). SEMILAR: The Semantic Similarity Toolkit. In ACL (Conference System Demonstrations) (pp. 163-168).</span>\\n</li>\\n\\n\\n<!-- \\nNewPP limit report\\nParsed by mw1252\\nCached time: 20180818161144\\nCache expiry: 1900800\\nDynamic content: false\\nCPU time usage: 0.588 seconds\\nReal time usage: 0.673 seconds\\nPreprocessor visited node count: 2690/1000000\\nPreprocessor generated node count: 0/1500000\\nPost\\xe2\\x80\\x90expand include size: 109874/2097152 bytes\\nTemplate argument size: 7006/2097152 bytes\\nHighest expansion depth: 15/40\\nExpensive parser function count: 4/500\\nUnstrip recursion depth: 0/20\\nUnstrip post\\xe2\\x80\\x90expand size: 65542/5000000 bytes\\nNumber of Wikibase entities loaded: 0/400\\nLua time usage: 0.311/10.000 seconds\\nLua memory usage: 5.31 MB/50 MB\\n-->\\n<!--\\nTransclusion expansion time report (%,ms,calls,template)\\n100.00%  567.484      1 -total\\n 64.66%  366.909      1 Template:Reflist\\n 46.78%  265.448     35 Template:Cite_journal\\n 15.22%   86.388      3 Template:Ambox\\n 12.38%   70.251      1 Template:Multiple_issues\\n  5.54%   31.411      1 Template:ISBN\\n  5.09%   28.897      6 Template:Cite_web\\n  4.97%   28.217      1 Template:Citation_needed\\n  4.45%   25.264      1 Template:More_citations_needed\\n  4.45%   25.261      1 Template:Fix\\n-->\\n</div>\\n<!-- Saved in parser cache with key enwiki:pcache:idhash:1473135-0!canonical and timestamp 20180818161144 and revision id 855428163\\n -->\\n<noscript><img src=\"//en.wikipedia.org/wiki/Special:CentralAutoLogin/start?type=1x1\" alt=\"\" title=\"\" width=\"1\" height=\"1\" style=\"border: none; position: absolute;\" /></noscript></div>\\t\\t\\t\\t\\t<div class=\"printfooter\">\\n\\t\\t\\t\\t\\t\\tRetrieved from \"<a dir=\"ltr\" href=\"https://en.wikipedia.org/w/index.php?title=Semantic_similarity&amp;oldid=855428163\">https://en.wikipedia.org/w/index.php?title=Semantic_similarity&amp;oldid=855428163</a>\"\\t\\t\\t\\t\\t</div>\\n\\t\\t\\t\\t<div id=\"catlinks\" class=\"catlinks\" data-mw=\"interface\"><div id=\"mw-normal-catlinks\" class=\"mw-normal-catlinks\"><a href=\"/wiki/Help:Category\" title=\"Help:Category\">Categories</a>: <ul><li><a href=\"/wiki/Category:Computational_linguistics\" title=\"Category:Computational linguistics\">Computational linguistics</a></li><li><a href=\"/wiki/Category:Statistical_distance\" title=\"Category:Statistical distance\">Statistical distance</a></li><li><a href=\"/wiki/Category:Semantics\" title=\"Category:Semantics\">Semantics</a></li></ul></div><div id=\"mw-hidden-catlinks\" class=\"mw-hidden-catlinks mw-hidden-cats-hidden\">Hidden categories: <ul><li><a href=\"/wiki/Category:CS1_maint:_Multiple_names:_authors_list\" title=\"Category:CS1 maint: Multiple names: authors list\">CS1 maint: Multiple names: authors list</a></li><li><a href=\"/wiki/Category:Articles_needing_additional_references_from_December_2010\" title=\"Category:Articles needing additional references from December 2010\">Articles needing additional references from December 2010</a></li><li><a href=\"/wiki/Category:All_articles_needing_additional_references\" title=\"Category:All articles needing additional references\">All articles needing additional references</a></li><li><a href=\"/wiki/Category:Wikipedia_references_cleanup_from_December_2010\" title=\"Category:Wikipedia references cleanup from December 2010\">Wikipedia references cleanup from December 2010</a></li><li><a href=\"/wiki/Category:All_articles_needing_references_cleanup\" title=\"Category:All articles needing references cleanup\">All articles needing references cleanup</a></li><li><a href=\"/wiki/Category:Articles_covered_by_WikiProject_Wikify_from_December_2010\" title=\"Category:Articles covered by WikiProject Wikify from December 2010\">Articles covered by WikiProject Wikify from December 2010</a></li><li><a href=\"/wiki/Category:All_articles_covered_by_WikiProject_Wikify\" title=\"Category:All articles covered by WikiProject Wikify\">All articles covered by WikiProject Wikify</a></li><li><a href=\"/wiki/Category:Articles_with_multiple_maintenance_issues\" title=\"Category:Articles with multiple maintenance issues\">Articles with multiple maintenance issues</a></li><li><a href=\"/wiki/Category:All_articles_with_unsourced_statements\" title=\"Category:All articles with unsourced statements\">All articles with unsourced statements</a></li><li><a href=\"/wiki/Category:Articles_with_unsourced_statements_from_February_2016\" title=\"Category:Articles with unsourced statements from February 2016\">Articles with unsourced statements from February 2016</a></li></ul></div></div>\\t\\t\\t\\t<div class=\"visualClear\"></div>\\n\\t\\t\\t\\t\\t\\t\\t</div>\\n\\t\\t</div>\\n\\t\\t<div id=\"mw-navigation\">\\n\\t\\t\\t<h2>Navigation menu</h2>\\n\\t\\t\\t<div id=\"mw-head\">\\n\\t\\t\\t\\t\\t\\t\\t\\t\\t<div id=\"p-personal\" role=\"navigation\" class=\"\" aria-labelledby=\"p-personal-label\">\\n\\t\\t\\t\\t\\t\\t<h3 id=\"p-personal-label\">Personal tools</h3>\\n\\t\\t\\t\\t\\t\\t<ul>\\n\\t\\t\\t\\t\\t\\t\\t<li id=\"pt-anonuserpage\">Not logged in</li><li id=\"pt-anontalk\"><a href=\"/wiki/Special:MyTalk\" title=\"Discussion about edits from this IP address [n]\" accesskey=\"n\">Talk</a></li><li id=\"pt-anoncontribs\"><a href=\"/wiki/Special:MyContributions\" title=\"A list of edits made from this IP address [y]\" accesskey=\"y\">Contributions</a></li><li id=\"pt-createaccount\"><a href=\"/w/index.php?title=Special:CreateAccount&amp;returnto=Semantic+similarity\" title=\"You are encouraged to create an account and log in; however, it is not mandatory\">Create account</a></li><li id=\"pt-login\"><a href=\"/w/index.php?title=Special:UserLogin&amp;returnto=Semantic+similarity\" title=\"You&#039;re encouraged to log in; however, it&#039;s not mandatory. [o]\" accesskey=\"o\">Log in</a></li>\\t\\t\\t\\t\\t\\t</ul>\\n\\t\\t\\t\\t\\t</div>\\n\\t\\t\\t\\t\\t\\t\\t\\t\\t<div id=\"left-navigation\">\\n\\t\\t\\t\\t\\t\\t\\t\\t\\t\\t<div id=\"p-namespaces\" role=\"navigation\" class=\"vectorTabs\" aria-labelledby=\"p-namespaces-label\">\\n\\t\\t\\t\\t\\t\\t<h3 id=\"p-namespaces-label\">Namespaces</h3>\\n\\t\\t\\t\\t\\t\\t<ul>\\n\\t\\t\\t\\t\\t\\t\\t<li id=\"ca-nstab-main\" class=\"selected\"><span><a href=\"/wiki/Semantic_similarity\" title=\"View the content page [c]\" accesskey=\"c\">Article</a></span></li><li id=\"ca-talk\"><span><a href=\"/wiki/Talk:Semantic_similarity\" rel=\"discussion\" title=\"Discussion about the content page [t]\" accesskey=\"t\">Talk</a></span></li>\\t\\t\\t\\t\\t\\t</ul>\\n\\t\\t\\t\\t\\t</div>\\n\\t\\t\\t\\t\\t\\t\\t\\t\\t\\t<div id=\"p-variants\" role=\"navigation\" class=\"vectorMenu emptyPortlet\" aria-labelledby=\"p-variants-label\">\\n\\t\\t\\t\\t\\t\\t\\t\\t\\t\\t\\t\\t<input type=\"checkbox\" class=\"vectorMenuCheckbox\" aria-labelledby=\"p-variants-label\" />\\n\\t\\t\\t\\t\\t\\t<h3 id=\"p-variants-label\">\\n\\t\\t\\t\\t\\t\\t\\t<span>Variants</span>\\n\\t\\t\\t\\t\\t\\t</h3>\\n\\t\\t\\t\\t\\t\\t<div class=\"menu\">\\n\\t\\t\\t\\t\\t\\t\\t<ul>\\n\\t\\t\\t\\t\\t\\t\\t\\t\\t\\t\\t\\t\\t\\t\\t</ul>\\n\\t\\t\\t\\t\\t\\t</div>\\n\\t\\t\\t\\t\\t</div>\\n\\t\\t\\t\\t\\t\\t\\t\\t\\t</div>\\n\\t\\t\\t\\t<div id=\"right-navigation\">\\n\\t\\t\\t\\t\\t\\t\\t\\t\\t\\t<div id=\"p-views\" role=\"navigation\" class=\"vectorTabs\" aria-labelledby=\"p-views-label\">\\n\\t\\t\\t\\t\\t\\t<h3 id=\"p-views-label\">Views</h3>\\n\\t\\t\\t\\t\\t\\t<ul>\\n\\t\\t\\t\\t\\t\\t\\t<li id=\"ca-view\" class=\"collapsible selected\"><span><a href=\"/wiki/Semantic_similarity\">Read</a></span></li><li id=\"ca-edit\" class=\"collapsible\"><span><a href=\"/w/index.php?title=Semantic_similarity&amp;action=edit\" title=\"Edit this page [e]\" accesskey=\"e\">Edit</a></span></li><li id=\"ca-history\" class=\"collapsible\"><span><a href=\"/w/index.php?title=Semantic_similarity&amp;action=history\" title=\"Past revisions of this page [h]\" accesskey=\"h\">View history</a></span></li>\\t\\t\\t\\t\\t\\t</ul>\\n\\t\\t\\t\\t\\t</div>\\n\\t\\t\\t\\t\\t\\t\\t\\t\\t\\t<div id=\"p-cactions\" role=\"navigation\" class=\"vectorMenu emptyPortlet\" aria-labelledby=\"p-cactions-label\">\\n\\t\\t\\t\\t\\t\\t<input type=\"checkbox\" class=\"vectorMenuCheckbox\" aria-labelledby=\"p-cactions-label\" />\\n\\t\\t\\t\\t\\t\\t<h3 id=\"p-cactions-label\"><span>More</span></h3>\\n\\t\\t\\t\\t\\t\\t<div class=\"menu\">\\n\\t\\t\\t\\t\\t\\t\\t<ul>\\n\\t\\t\\t\\t\\t\\t\\t\\t\\t\\t\\t\\t\\t\\t\\t</ul>\\n\\t\\t\\t\\t\\t\\t</div>\\n\\t\\t\\t\\t\\t</div>\\n\\t\\t\\t\\t\\t\\t\\t\\t\\t\\t<div id=\"p-search\" role=\"search\">\\n\\t\\t\\t\\t\\t\\t<h3>\\n\\t\\t\\t\\t\\t\\t\\t<label for=\"searchInput\">Search</label>\\n\\t\\t\\t\\t\\t\\t</h3>\\n\\t\\t\\t\\t\\t\\t<form action=\"/w/index.php\" id=\"searchform\">\\n\\t\\t\\t\\t\\t\\t\\t<div id=\"simpleSearch\">\\n\\t\\t\\t\\t\\t\\t\\t\\t<input type=\"search\" name=\"search\" placeholder=\"Search Wikipedia\" title=\"Search Wikipedia [f]\" accesskey=\"f\" id=\"searchInput\"/><input type=\"hidden\" value=\"Special:Search\" name=\"title\"/><input type=\"submit\" name=\"fulltext\" value=\"Search\" title=\"Search Wikipedia for this text\" id=\"mw-searchButton\" class=\"searchButton mw-fallbackSearchButton\"/><input type=\"submit\" name=\"go\" value=\"Go\" title=\"Go to a page with this exact name if it exists\" id=\"searchButton\" class=\"searchButton\"/>\\t\\t\\t\\t\\t\\t\\t</div>\\n\\t\\t\\t\\t\\t\\t</form>\\n\\t\\t\\t\\t\\t</div>\\n\\t\\t\\t\\t\\t\\t\\t\\t\\t</div>\\n\\t\\t\\t</div>\\n\\t\\t\\t<div id=\"mw-panel\">\\n\\t\\t\\t\\t<div id=\"p-logo\" role=\"banner\"><a class=\"mw-wiki-logo\" href=\"/wiki/Main_Page\"  title=\"Visit the main page\"></a></div>\\n\\t\\t\\t\\t\\t\\t<div class=\"portal\" role=\"navigation\" id=\"p-navigation\" aria-labelledby=\"p-navigation-label\">\\n\\t\\t\\t<h3 id=\"p-navigation-label\">Navigation</h3>\\n\\t\\t\\t<div class=\"body\">\\n\\t\\t\\t\\t\\t\\t\\t\\t<ul>\\n\\t\\t\\t\\t\\t<li id=\"n-mainpage-description\"><a href=\"/wiki/Main_Page\" title=\"Visit the main page [z]\" accesskey=\"z\">Main page</a></li><li id=\"n-contents\"><a href=\"/wiki/Portal:Contents\" title=\"Guides to browsing Wikipedia\">Contents</a></li><li id=\"n-featuredcontent\"><a href=\"/wiki/Portal:Featured_content\" title=\"Featured content \\xe2\\x80\\x93 the best of Wikipedia\">Featured content</a></li><li id=\"n-currentevents\"><a href=\"/wiki/Portal:Current_events\" title=\"Find background information on current events\">Current events</a></li><li id=\"n-randompage\"><a href=\"/wiki/Special:Random\" title=\"Load a random article [x]\" accesskey=\"x\">Random article</a></li><li id=\"n-sitesupport\"><a href=\"https://donate.wikimedia.org/wiki/Special:FundraiserRedirector?utm_source=donate&amp;utm_medium=sidebar&amp;utm_campaign=C13_en.wikipedia.org&amp;uselang=en\" title=\"Support us\">Donate to Wikipedia</a></li><li id=\"n-shoplink\"><a href=\"//shop.wikimedia.org\" title=\"Visit the Wikipedia store\">Wikipedia store</a></li>\\t\\t\\t\\t</ul>\\n\\t\\t\\t\\t\\t\\t\\t</div>\\n\\t\\t</div>\\n\\t\\t\\t<div class=\"portal\" role=\"navigation\" id=\"p-interaction\" aria-labelledby=\"p-interaction-label\">\\n\\t\\t\\t<h3 id=\"p-interaction-label\">Interaction</h3>\\n\\t\\t\\t<div class=\"body\">\\n\\t\\t\\t\\t\\t\\t\\t\\t<ul>\\n\\t\\t\\t\\t\\t<li id=\"n-help\"><a href=\"/wiki/Help:Contents\" title=\"Guidance on how to use and edit Wikipedia\">Help</a></li><li id=\"n-aboutsite\"><a href=\"/wiki/Wikipedia:About\" title=\"Find out about Wikipedia\">About Wikipedia</a></li><li id=\"n-portal\"><a href=\"/wiki/Wikipedia:Community_portal\" title=\"About the project, what you can do, where to find things\">Community portal</a></li><li id=\"n-recentchanges\"><a href=\"/wiki/Special:RecentChanges\" title=\"A list of recent changes in the wiki [r]\" accesskey=\"r\">Recent changes</a></li><li id=\"n-contactpage\"><a href=\"//en.wikipedia.org/wiki/Wikipedia:Contact_us\" title=\"How to contact Wikipedia\">Contact page</a></li>\\t\\t\\t\\t</ul>\\n\\t\\t\\t\\t\\t\\t\\t</div>\\n\\t\\t</div>\\n\\t\\t\\t<div class=\"portal\" role=\"navigation\" id=\"p-tb\" aria-labelledby=\"p-tb-label\">\\n\\t\\t\\t<h3 id=\"p-tb-label\">Tools</h3>\\n\\t\\t\\t<div class=\"body\">\\n\\t\\t\\t\\t\\t\\t\\t\\t<ul>\\n\\t\\t\\t\\t\\t<li id=\"t-whatlinkshere\"><a href=\"/wiki/Special:WhatLinksHere/Semantic_similarity\" title=\"List of all English Wikipedia pages containing links to this page [j]\" accesskey=\"j\">What links here</a></li><li id=\"t-recentchangeslinked\"><a href=\"/wiki/Special:RecentChangesLinked/Semantic_similarity\" rel=\"nofollow\" title=\"Recent changes in pages linked from this page [k]\" accesskey=\"k\">Related changes</a></li><li id=\"t-upload\"><a href=\"/wiki/Wikipedia:File_Upload_Wizard\" title=\"Upload files [u]\" accesskey=\"u\">Upload file</a></li><li id=\"t-specialpages\"><a href=\"/wiki/Special:SpecialPages\" title=\"A list of all special pages [q]\" accesskey=\"q\">Special pages</a></li><li id=\"t-permalink\"><a href=\"/w/index.php?title=Semantic_similarity&amp;oldid=855428163\" title=\"Permanent link to this revision of the page\">Permanent link</a></li><li id=\"t-info\"><a href=\"/w/index.php?title=Semantic_similarity&amp;action=info\" title=\"More information about this page\">Page information</a></li><li id=\"t-wikibase\"><a href=\"https://www.wikidata.org/wiki/Special:EntityPage/Q2268914\" title=\"Link to connected data repository item [g]\" accesskey=\"g\">Wikidata item</a></li><li id=\"t-cite\"><a href=\"/w/index.php?title=Special:CiteThisPage&amp;page=Semantic_similarity&amp;id=855428163\" title=\"Information on how to cite this page\">Cite this page</a></li>\\t\\t\\t\\t</ul>\\n\\t\\t\\t\\t\\t\\t\\t</div>\\n\\t\\t</div>\\n\\t\\t\\t<div class=\"portal\" role=\"navigation\" id=\"p-coll-print_export\" aria-labelledby=\"p-coll-print_export-label\">\\n\\t\\t\\t<h3 id=\"p-coll-print_export-label\">Print/export</h3>\\n\\t\\t\\t<div class=\"body\">\\n\\t\\t\\t\\t\\t\\t\\t\\t<ul>\\n\\t\\t\\t\\t\\t<li id=\"coll-create_a_book\"><a href=\"/w/index.php?title=Special:Book&amp;bookcmd=book_creator&amp;referer=Semantic+similarity\">Create a book</a></li><li id=\"coll-download-as-rdf2latex\"><a href=\"/w/index.php?title=Special:ElectronPdf&amp;page=Semantic+similarity&amp;action=show-download-screen\">Download as PDF</a></li><li id=\"t-print\"><a href=\"/w/index.php?title=Semantic_similarity&amp;printable=yes\" title=\"Printable version of this page [p]\" accesskey=\"p\">Printable version</a></li>\\t\\t\\t\\t</ul>\\n\\t\\t\\t\\t\\t\\t\\t</div>\\n\\t\\t</div>\\n\\t\\t\\t<div class=\"portal\" role=\"navigation\" id=\"p-lang\" aria-labelledby=\"p-lang-label\">\\n\\t\\t\\t<h3 id=\"p-lang-label\">Languages</h3>\\n\\t\\t\\t<div class=\"body\">\\n\\t\\t\\t\\t\\t\\t\\t\\t<ul>\\n\\t\\t\\t\\t\\t<li class=\"interlanguage-link interwiki-de\"><a href=\"https://de.wikipedia.org/wiki/Semantische_N%C3%A4he\" title=\"Semantische N\\xc3\\xa4he \\xe2\\x80\\x93 German\" lang=\"de\" hreflang=\"de\" class=\"interlanguage-link-target\">Deutsch</a></li><li class=\"interlanguage-link interwiki-es\"><a href=\"https://es.wikipedia.org/wiki/Similitud_sem%C3%A1ntica\" title=\"Similitud sem\\xc3\\xa1ntica \\xe2\\x80\\x93 Spanish\" lang=\"es\" hreflang=\"es\" class=\"interlanguage-link-target\">Espa\\xc3\\xb1ol</a></li><li class=\"interlanguage-link interwiki-fr\"><a href=\"https://fr.wikipedia.org/wiki/Similarit%C3%A9_s%C3%A9mantique\" title=\"Similarit\\xc3\\xa9 s\\xc3\\xa9mantique \\xe2\\x80\\x93 French\" lang=\"fr\" hreflang=\"fr\" class=\"interlanguage-link-target\">Fran\\xc3\\xa7ais</a></li>\\t\\t\\t\\t</ul>\\n\\t\\t\\t\\t<div class=\"after-portlet after-portlet-lang\"><span class=\"wb-langlinks-edit wb-langlinks-link\"><a href=\"https://www.wikidata.org/wiki/Special:EntityPage/Q2268914#sitelinks-wikipedia\" title=\"Edit interlanguage links\" class=\"wbc-editpage\">Edit links</a></span></div>\\t\\t\\t</div>\\n\\t\\t</div>\\n\\t\\t\\t\\t</div>\\n\\t\\t</div>\\n\\t\\t\\t\\t<div id=\"footer\" role=\"contentinfo\">\\n\\t\\t\\t\\t\\t\\t<ul id=\"footer-info\">\\n\\t\\t\\t\\t\\t\\t\\t\\t<li id=\"footer-info-lastmod\"> This page was last edited on 18 August 2018, at 06:38<span class=\"anonymous-show\">\\xc2\\xa0(UTC)</span>.</li>\\n\\t\\t\\t\\t\\t\\t\\t\\t<li id=\"footer-info-copyright\">Text is available under the <a rel=\"license\" href=\"//en.wikipedia.org/wiki/Wikipedia:Text_of_Creative_Commons_Attribution-ShareAlike_3.0_Unported_License\">Creative Commons Attribution-ShareAlike License</a><a rel=\"license\" href=\"//creativecommons.org/licenses/by-sa/3.0/\" style=\"display:none;\"></a>;\\nadditional terms may apply.  By using this site, you agree to the <a href=\"//wikimediafoundation.org/wiki/Terms_of_Use\">Terms of Use</a> and <a href=\"//wikimediafoundation.org/wiki/Privacy_policy\">Privacy Policy</a>. Wikipedia\\xc2\\xae is a registered trademark of the <a href=\"//www.wikimediafoundation.org/\">Wikimedia Foundation, Inc.</a>, a non-profit organization.</li>\\n\\t\\t\\t\\t\\t\\t\\t</ul>\\n\\t\\t\\t\\t\\t\\t<ul id=\"footer-places\">\\n\\t\\t\\t\\t\\t\\t\\t\\t<li id=\"footer-places-privacy\"><a href=\"https://foundation.wikimedia.org/wiki/Privacy_policy\" class=\"extiw\" title=\"wmf:Privacy policy\">Privacy policy</a></li>\\n\\t\\t\\t\\t\\t\\t\\t\\t<li id=\"footer-places-about\"><a href=\"/wiki/Wikipedia:About\" title=\"Wikipedia:About\">About Wikipedia</a></li>\\n\\t\\t\\t\\t\\t\\t\\t\\t<li id=\"footer-places-disclaimer\"><a href=\"/wiki/Wikipedia:General_disclaimer\" title=\"Wikipedia:General disclaimer\">Disclaimers</a></li>\\n\\t\\t\\t\\t\\t\\t\\t\\t<li id=\"footer-places-contact\"><a href=\"//en.wikipedia.org/wiki/Wikipedia:Contact_us\">Contact Wikipedia</a></li>\\n\\t\\t\\t\\t\\t\\t\\t\\t<li id=\"footer-places-developers\"><a href=\"https://www.mediawiki.org/wiki/Special:MyLanguage/How_to_contribute\">Developers</a></li>\\n\\t\\t\\t\\t\\t\\t\\t\\t<li id=\"footer-places-cookiestatement\"><a href=\"https://foundation.wikimedia.org/wiki/Cookie_statement\">Cookie statement</a></li>\\n\\t\\t\\t\\t\\t\\t\\t\\t<li id=\"footer-places-mobileview\"><a href=\"//en.m.wikipedia.org/w/index.php?title=Semantic_similarity&amp;mobileaction=toggle_view_mobile\" class=\"noprint stopMobileRedirectToggle\">Mobile view</a></li>\\n\\t\\t\\t\\t\\t\\t\\t</ul>\\n\\t\\t\\t\\t\\t\\t\\t\\t\\t\\t<ul id=\"footer-icons\" class=\"noprint\">\\n\\t\\t\\t\\t\\t\\t\\t\\t\\t\\t<li id=\"footer-copyrightico\">\\n\\t\\t\\t\\t\\t\\t<a href=\"https://wikimediafoundation.org/\"><img src=\"/static/images/wikimedia-button.png\" srcset=\"/static/images/wikimedia-button-1.5x.png 1.5x, /static/images/wikimedia-button-2x.png 2x\" width=\"88\" height=\"31\" alt=\"Wikimedia Foundation\"/></a>\\t\\t\\t\\t\\t</li>\\n\\t\\t\\t\\t\\t\\t\\t\\t\\t\\t<li id=\"footer-poweredbyico\">\\n\\t\\t\\t\\t\\t\\t<a href=\"//www.mediawiki.org/\"><img src=\"/static/images/poweredby_mediawiki_88x31.png\" alt=\"Powered by MediaWiki\" srcset=\"/static/images/poweredby_mediawiki_132x47.png 1.5x, /static/images/poweredby_mediawiki_176x62.png 2x\" width=\"88\" height=\"31\"/></a>\\t\\t\\t\\t\\t</li>\\n\\t\\t\\t\\t\\t\\t\\t\\t\\t</ul>\\n\\t\\t\\t\\t\\t\\t<div style=\"clear: both;\"></div>\\n\\t\\t</div>\\n\\t\\t\\n<script>(window.RLQ=window.RLQ||[]).push(function(){mw.config.set({\"wgPageParseReport\":{\"limitreport\":{\"cputime\":\"0.588\",\"walltime\":\"0.673\",\"ppvisitednodes\":{\"value\":2690,\"limit\":1000000},\"ppgeneratednodes\":{\"value\":0,\"limit\":1500000},\"postexpandincludesize\":{\"value\":109874,\"limit\":2097152},\"templateargumentsize\":{\"value\":7006,\"limit\":2097152},\"expansiondepth\":{\"value\":15,\"limit\":40},\"expensivefunctioncount\":{\"value\":4,\"limit\":500},\"unstrip-depth\":{\"value\":0,\"limit\":20},\"unstrip-size\":{\"value\":65542,\"limit\":5000000},\"entityaccesscount\":{\"value\":0,\"limit\":400},\"timingprofile\":[\"100.00%  567.484      1 -total\",\" 64.66%  366.909      1 Template:Reflist\",\" 46.78%  265.448     35 Template:Cite_journal\",\" 15.22%   86.388      3 Template:Ambox\",\" 12.38%   70.251      1 Template:Multiple_issues\",\"  5.54%   31.411      1 Template:ISBN\",\"  5.09%   28.897      6 Template:Cite_web\",\"  4.97%   28.217      1 Template:Citation_needed\",\"  4.45%   25.264      1 Template:More_citations_needed\",\"  4.45%   25.261      1 Template:Fix\"]},\"scribunto\":{\"limitreport-timeusage\":{\"value\":\"0.311\",\"limit\":\"10.000\"},\"limitreport-memusage\":{\"value\":5568053,\"limit\":52428800}},\"cachereport\":{\"origin\":\"mw1252\",\"timestamp\":\"20180818161144\",\"ttl\":1900800,\"transientcontent\":false}}});mw.config.set({\"wgBackendResponseTime\":82,\"wgHostname\":\"mw1329\"});});</script>\\n\\t</body>\\n</html>\\n'"
      ]
     },
     "execution_count": 24,
     "metadata": {},
     "output_type": "execute_result"
    }
   ],
   "source": [
    "r.data"
   ]
  },
  {
   "cell_type": "code",
   "execution_count": null,
   "metadata": {},
   "outputs": [],
   "source": []
  }
 ],
 "metadata": {
  "kernelspec": {
   "display_name": "Python 3",
   "language": "python",
   "name": "python3"
  },
  "language_info": {
   "codemirror_mode": {
    "name": "ipython",
    "version": 3
   },
   "file_extension": ".py",
   "mimetype": "text/x-python",
   "name": "python",
   "nbconvert_exporter": "python",
   "pygments_lexer": "ipython3",
   "version": "3.7.0"
  }
 },
 "nbformat": 4,
 "nbformat_minor": 2
}
