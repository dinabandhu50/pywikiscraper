{
 "cells": [
  {
   "cell_type": "code",
   "execution_count": 1,
   "metadata": {},
   "outputs": [],
   "source": [
    "import requests\n",
    "from lxml import html\n",
    "import re\n",
    "\n",
    "\n",
    "class scrape:\n",
    "    tree = 0\n",
    "    head= []\n",
    "    index =[]\n",
    "    index_dict ={}\n",
    "    text_dict = {}\n",
    "    def httprequest(self,url):\n",
    "        r = requests.get(url,verify=False)\n",
    "        return html.fromstring(r.content)\n",
    "    \n",
    "    def headings(self,data):\n",
    "        self.index = []\n",
    "        self.head = []\n",
    "        _data = []\n",
    "        heading = data.xpath('//li[contains(@class, \"toclevel-\")]')\n",
    "        for li in heading:\n",
    "            text = str(li.xpath('./a/span[2]/text()')).strip(\"[]\")[1:-1]\n",
    "            no = str(li.xpath('./a/span[1]/text()')).strip(\"[]\")[1:-1]    \n",
    "            link = str(li.xpath('./a/@href')).strip(\"[]\")[1:-1]\n",
    "            _data.append([no,text,link])\n",
    "            self.head.append([no,text])\n",
    "        return _data\n",
    "    \n",
    "    def get_text(self,index):\n",
    "        self.text_dict ={}\n",
    "        text_dict ={}\n",
    "        for i in index:\n",
    "            text_dict[i[0]]=self.get_tex_byeleid(i[2][1:])\n",
    "        return text_dict\n",
    "    \n",
    "    def get_tex_byeleid(self,eid):\n",
    "        lis = []\n",
    "        x = self.tree.xpath('//*[@id=\"{0}\"]/../following-sibling::*'.format(eid))\n",
    "        for i in x:\n",
    "            if i.tag == 'h2' or i.tag =='h3' or i.tag=='h4':\n",
    "                return lis\n",
    "            lis.append(i.text_content())\n",
    "        return lis\n",
    "    \n",
    "    def indexdict(self,index):\n",
    "        self.index_dict={}\n",
    "        index_dict={}\n",
    "        for i in index:\n",
    "            index_dict[i[1]]=i[0]\n",
    "        return index_dict\n",
    "    \n",
    "    def find_by_name(self,name):\n",
    "        index = self.get_index_byname(name)\n",
    "        if index=='':\n",
    "            return 'No such heading available, use class.head to get the heading list'\n",
    "        return self.text_dict[index]\n",
    "    \n",
    "    def find_by_key(self,num):\n",
    "        if num in self.text_dict.keys():\n",
    "            return self.text_dict[num]\n",
    "        return 'Key not present in headings, use class.head to get the keys. PS -This takes a string as input not integer or float'\n",
    "    \n",
    "    def get_index_byname(self,name):\n",
    "        result = ''\n",
    "        for i in self.index:\n",
    "            if i[1] == name:\n",
    "                result = i[0]\n",
    "        return result\n",
    "    \n",
    "    def __init__(self,url,printing=True):\n",
    "        self.tree = self.httprequest(url)\n",
    "        self.index = self.headings(self.tree)\n",
    "        self.index_dict = self.indexdict(self.index)\n",
    "        self.text_dict = self.get_text(self.index)\n",
    "        if printing:\n",
    "            print(self.head)\n",
    "        "
   ]
  },
  {
   "cell_type": "code",
   "execution_count": 4,
   "metadata": {},
   "outputs": [
    {
     "name": "stderr",
     "output_type": "stream",
     "text": [
      "E:\\anaconda\\lib\\site-packages\\urllib3\\connectionpool.py:857: InsecureRequestWarning: Unverified HTTPS request is being made. Adding certificate verification is strongly advised. See: https://urllib3.readthedocs.io/en/latest/advanced-usage.html#ssl-warnings\n",
      "  InsecureRequestWarning)\n"
     ]
    },
    {
     "name": "stdout",
     "output_type": "stream",
     "text": [
      "[['1', 'Terminology'], ['2', 'Visualization'], ['3', 'Applications'], ['3.1', 'Biomedical informatics'], ['3.2', 'GeoInformatics'], ['3.3', 'Computational linguistics'], ['3.4', 'Natural language processing'], ['4', 'Measures'], ['4.1', 'Topological similarity'], ['4.1.1', 'Edge-based'], ['4.1.2', 'Node-based'], ['4.1.3', 'Node-and-Relation-Content-based'], ['4.1.4', 'Pairwise'], ['4.1.5', 'Groupwise'], ['4.2', 'Statistical similarity'], ['4.3', 'Semantics-based similarity'], ['4.4', 'Gold standards'], ['5', 'See also'], ['6', 'References'], ['7', 'Sources'], ['8', 'External links'], ['8.1', 'Survey articles'], ['8.2', 'Software'], ['8.3', 'Web services']]\n"
     ]
    }
   ],
   "source": [
    "t = scrape('https://en.wikipedia.org/wiki/Semantic_similarity')"
   ]
  },
  {
   "cell_type": "code",
   "execution_count": 5,
   "metadata": {},
   "outputs": [
    {
     "data": {
      "text/plain": [
       "['\\n\\n^ Harispe S.; Ranwez S. Janaqi S.; Montmain J. (2015). \"Semantic Similarity from Natural Language and Ontology Analysis\". Synthesis Lectures on Human Language Technologies. 8:1: 1–254. arXiv:1704.05295 [cs.AI]. doi:10.2200/S00639ED1V01Y201504HLT027. Cite uses deprecated parameter |class= (help).mw-parser-output cite.citation{font-style:inherit}.mw-parser-output q{quotes:\"\\\\\"\"\"\\\\\"\"\"\\'\"\"\\'\"}.mw-parser-output code.cs1-code{color:inherit;background:inherit;border:inherit;padding:inherit}.mw-parser-output .cs1-lock-free a{background:url(\"//upload.wikimedia.org/wikipedia/commons/thumb/6/65/Lock-green.svg/9px-Lock-green.svg.png\")no-repeat;background-position:right .1em center}.mw-parser-output .cs1-lock-limited a,.mw-parser-output .cs1-lock-registration a{background:url(\"//upload.wikimedia.org/wikipedia/commons/thumb/d/d6/Lock-gray-alt-2.svg/9px-Lock-gray-alt-2.svg.png\")no-repeat;background-position:right .1em center}.mw-parser-output .cs1-lock-subscription a{background:url(\"//upload.wikimedia.org/wikipedia/commons/thumb/a/aa/Lock-red-alt-2.svg/9px-Lock-red-alt-2.svg.png\")no-repeat;background-position:right .1em center}.mw-parser-output .cs1-subscription,.mw-parser-output .cs1-registration{color:#555}.mw-parser-output .cs1-subscription span,.mw-parser-output .cs1-registration span{border-bottom:1px dotted;cursor:help}.mw-parser-output .cs1-hidden-error{display:none;font-size:100%}.mw-parser-output .cs1-visible-error{font-size:100%}.mw-parser-output .cs1-subscription,.mw-parser-output .cs1-registration,.mw-parser-output .cs1-format{font-size:95%}.mw-parser-output .cs1-kern-left,.mw-parser-output .cs1-kern-wl-left{padding-left:0.2em}.mw-parser-output .cs1-kern-right,.mw-parser-output .cs1-kern-wl-right{padding-right:0.2em}\\n\\n^ Feng Y.; Bagheri E.; Ensan F.; Jovanovic J. (2017). \"The state of the art in semantic relatedness: a framework for comparison\". Knowledge Engineering Review: 1–30. doi:10.1017/S0269888917000029.\\n\\n^ Couto F.; Lamurias A. (2018). \"Semantic Similarity Definition\". Reference Module in Life Sciences (Encyclopedia of Bioinformatics and Computational Biology). doi:10.1016/B978-0-12-809633-8.20401-9. ISBN\\xa09780128096338.\\n\\n^ A. Ballatore; M. Bertolotto; D.C. Wilson (2014). \"An evaluative baseline for geo-semantic relatedness and similarity\". GeoInformatica. 18:4: 747–767.\\n\\n^ Aouicha, Mohamed Ben; Taieb, Mohamed Ali Hadj; Hamadou, Abdelmajid Ben (2016-11-21). \"SISR: System for integrating semantic relatedness and similarity measures\". Soft Computing. 22 (6): 1–25. doi:10.1007/s00500-016-2438-x. ISSN\\xa01432-7643.\\n\\n^ a b Budanitsky, Alexander; Hirst, Graeme (2001). \"Semantic distance in WordNet: An experimental, application-oriented evaluation of five measures\" (PDF). Workshop on WordNet and Other Lexical Resources, Second meeting of the North American Chapter of the Association for Computational Linguistics. Pittsburgh.\\n\\n^ Pesquita, Catia; Faria, Daniel; Falcão, André O.; Lord, Phillip; Couto, Francisco M. (2009).  Bourne, Philip E., ed. \"Semantic Similarity in Biomedical Ontologies\". PLoS Computational Biology. 5 (7): e1000443. Bibcode:2009PLSCB...5E0443P. doi:10.1371/journal.pcbi.1000443. PMC\\xa02712090. PMID\\xa019649320.\\n\\n^ Guzzi, Pietro Hiram; Mina, Marco; Cannataro, Mario; Guerra, Concettina (2012). \"Semantic similarity analysis of protein data: assessment with biological features and issues\". Briefings in Bioinformatics. 13 (5): 569–585. doi:10.1093/bib/bbr066. PMID\\xa022138322.\\n\\n^ a b Benabderrahmane, Sidahmed; Smail Tabbone, Malika; Poch, Olivier; Napoli, Amedeo; Devignes, Marie-Domonique. (2010). \"IntelliGO: a new vector-based semantic similarity measure including annotation origin\". BMC Bioinformatics. 11: 588. doi:10.1186/1471-2105-11-588. PMC\\xa03098105. PMID\\xa021122125.\\n\\n^ Couto, F., Silva, M., & Coutinho, P. (2003). Implementation of a functional semantic similarity measure between gene-products. DI/FCUL TR 03–29, University of Lisbon\\n\\n^ Pesquita, C.; Faria, D.; Falcão, A.; Lord, P.; Couto, F. (2009). \"Semantic similarity in biomedical ontologies\". PLoS Computational Biology. 5 (7): e1000443. Bibcode:2009PLSCB...5E0443P. doi:10.1371/journal.pcbi.1000443. PMC\\xa02712090. PMID\\xa019649320.\\n\\n^ Couto, F., Silva, M., & Coutinho, P. (2005). \"Semantic similarity over the gene ontology: Family correlation and selecting disjunctive ancestors\". Proc. of the ACM Conference in Information and Knowledge Management (CIKM): 343. doi:10.1145/1099554.1099658. ISBN\\xa0978-1-59593-140-5.CS1 maint: Multiple names: authors list (link) \\n\\n^ Couto, F., Silva, M., & Coutinho, P. (2007). \"Measuring semantic similarity between Gene Ontology terms\". Data and Knowledge Engineering. 61: 137–152. doi:10.1016/j.datak.2006.05.003.CS1 maint: Multiple names: authors list (link) \\n\\n^ Ferreira, João D.; Couto, Francisco M. (2010).  Mitchell, John B. O., ed. \"Semantic Similarity for Automatic Classification of Chemical Compounds\". PLoS Computational Biology. 6 (9): e1000937. Bibcode:2010PLSCB...6E0937F. doi:10.1371/journal.pcbi.1000937. PMC\\xa02944781. PMID\\xa020885779.\\n\\n^ Ferreira, João D.; Couto, Francisco M. (2011). \"Generic semantic relatedness measure for biomedical ontologies\" (PDF). ICBO 2011 Proceedings.\\n\\n^ Köhler, S; Schulz, MH; Krawitz, P; Bauer, S; Dolken, S; Ott, CE; Mundlos, C; Horn, D;  et al. (2009). \"Clinical diagnostics in human genetics with semantic similarity searches in ontologies\". American Journal of Human Genetics. 85 (4): 457–64. doi:10.1016/j.ajhg.2009.09.003. PMC\\xa02756558. PMID\\xa019800049.\\n\\n^ \"ProteInOn\".\\n\\n^ \"CMPSim\".\\n\\n^ \"CESSM\".\\n\\n^ Janowicz, K., Raubal, M. and Kuhn, W. (2011). \"The semantics of similarity in geographic information retrieval\". Journal of Spatial Information Science. 2 (2): 29–57. doi:10.5311/josis.2011.2.3.CS1 maint: Multiple names: authors list (link) \\n\\n^ \"SIM-DL similarity server\". CiteSeerX\\xa010.1.1.172.5544.\\n\\n^ \"Geo-Net-PT Similarity Calculator\".\\n\\n^ \"Geo-Net-PT\".\\n\\n^ A. Ballatore; D.C. Wilson; M. Bertolotto. \"Geographic Knowledge Extraction and Semantic Similarity in OpenStreetMap\" (PDF). Knowledge and Information Systems: 61–81.\\n\\n^ Kaur, I. & Hornof, A.J. (2005). \"A Comparison of LSA, WordNet and PMI for Predicting User Click Behavior\". Proceedings of the Conference on Human Factors in Computing, CHI 2005: 51–60. doi:10.1145/1054972.1054980. ISBN\\xa0978-1-58113-998-3.\\n\\n^ Similarity-based Learning Methods for the Semantic Web (C. d\\'Amato, PhD Thesis)\\n\\n^ Gracia, J. & Mena, E. (2008). \"Web-Based Measure of Semantic Relatedness\" (PDF). Proceedings of the 9th international conference on Web Information Systems Engineering (WISE \\'08): 136–150.\\n\\n^ Raveendranathan, P. (2005). Identifying Sets of Related Words from the World Wide Web. Master of Science Thesis, University of Minnesota Duluth.\\n\\n^ Wubben, S. (2008). Using free link structure to calculate semantic relatedness. In ILK Research Group Technical Report Series, nr. 08-01, 2008.\\n\\n^ Juvina, I., van Oostendorp, H., Karbor, P., & Pauw, B. (2005). Towards modeling contextual information in web navigation. In B. G. Bara & L. Barsalou & M. Bucciarelli (Eds.), 27th Annual Meeting of the Cognitive Science Society, CogSci2005 (pp.\\xa01078–1083). Austin, Tx: The Cognitive Science Society, Inc.\\n\\n^ Navigli, R., Lapata, M. (2007). Graph Connectivity Measures for Unsupervised Word Sense Disambiguation, Proc. of the 20th International Joint Conference on Artificial Intelligence (IJCAI 2007), Hyderabad, India, January 6-12th, 2007, pp.\\xa01683–1688.\\n\\n^ Pirolli, P. (2005). \"Rational analyses of information foraging on the Web\". Cognitive Science. 29 (3): 343–373. doi:10.1207/s15516709cog0000_20. PMID\\xa021702778.\\n\\n^ Pirolli, P., & Fu, W.-T. (2003). \"SNIF-ACT: A model of information foraging on the World Wide Web\". Lecture Notes in Computer Science. Lecture Notes in Computer Science. 2702. pp.\\xa045–54. doi:10.1007/3-540-44963-9_8. ISBN\\xa0978-3-540-40381-4.CS1 maint: Multiple names: authors list (link) \\n\\n^ Turney, P. (2001). Mining the Web for Synonyms: PMI versus LSA on TOEFL. In L. De Raedt & P. Flach (Eds.), Proceedings of the Twelfth European Conference on Machine Learning (ECML-2001) (pp.\\xa0491–502). Freiburg, Germany.\\n\\n^ Pekar, Viktor; Staab, Steffen (2002). Taxonomy learning. Proceedings of the 19th international conference on Computational linguistics -. 1. pp.\\xa01–7. doi:10.3115/1072228.1072318.\\n\\n^ Cheng, J; Cline, M; Martin, J; Finkelstein, D; Awad, T; Kulp, D; Siani-Rose, MA (2004). \"A knowledge-based clustering algorithm driven by Gene Ontology\". Journal of biopharmaceutical statistics. 14 (3): 687–700. doi:10.1081/BIP-200025659. PMID\\xa015468759.\\n\\n^ Wu, H; Su, Z; Mao, F; Olman, V; Xu, Y (2005). \"Prediction of functional modules based on comparative genome analysis and Gene Ontology application\". Nucleic Acids Research. 33 (9): 2822–37. doi:10.1093/nar/gki573. PMC\\xa01130488. PMID\\xa015901854.\\n\\n^ Del Pozo, Angela; Pazos, Florencio; Valencia, Alfonso (2008). \"Defining functional distances over Gene Ontology\". BMC Bioinformatics. 9: 50. doi:10.1186/1471-2105-9-50. PMC\\xa02375122. PMID\\xa018221506.\\n\\n^ Philip Resnik (1995).  Chris S. Mellish, ed. \"Using information content to evaluate semantic similarity in a taxonomy\". Proceedings of the 14th international joint conference on Artificial intelligence (IJCAI\\'95). 1: 448–453. CiteSeerX\\xa010.1.1.41.6956.\\n\\n^ Dekang Lin. 1998. An Information-Theoretic Definition of Similarity. In Proceedings of the Fifteenth International Conference on Machine Learning (ICML \\'98), Jude W. Shavlik (Ed.). Morgan Kaufmann Publishers Inc., San Francisco, CA, USA, 296-304\\n\\n^ Ana Gabriela Maguitman, Filippo Menczer, Heather Roinestad, Alessandro Vespignani: Algorithmic detection of semantic similarity. WWW 2005: 107-116\\n\\n^ J. J. Jiang and D. W. Conrath. Semantic Similarity Based on Corpus Statistics and Lexical Taxonomy. In International Conference on Research\\n on Computational Linguistics (ROCLING X), pages 9008+, September 1997\\n\\n^ Couto, F.; Silva, M. (2011). \"Disjunctive Shared Information between Ontology Concepts: application to Gene Ontology\". Journal of Biomedical Semantics. 2: 5. doi:10.1186/2041-1480-2-5.\\n\\n^ Couto, F.; Silva, M.; Coutinho, P. (2007). \"Measuring semantic similarity between Gene Ontology terms\". Data and Knowledge Engineering. 61: 137–152. doi:10.1016/j.datak.2006.05.003.\\n\\n^ M. T. Pilehvar, D. Jurgens and R. Navigli. Align, Disambiguate and Walk: A Unified Approach for Measuring Semantic Similarity.. Proc. of the 51st Annual Meeting of the Association for Computational Linguistics (ACL 2013), Sofia, Bulgaria, August 4–9, 2013, pp. 1341–1351.\\n\\n^ Dong, Hai (2009). \"A Hybrid Concept Similarity Measure Model for Ontology Environment\". Lecture Notes in Computer Science. 5872: 848–857. Bibcode:2009LNCS.5872..848D. doi:10.1007/978-3-642-05290-3_103. ISBN\\xa0978-3-642-05289-7.\\n\\n^ Dong, Hai (2011). \"A context-aware semantic similarity model for ontology environments\". Concurrency and Computation: Practice and Experience. 23 (2): 505–524.\\n\\n^ Catia Pesquita, Daniel Faria, Hugo Bastos, António Ferreira, Andre O Falcao, Francisco Couto 2008: Metrics for GO based protein semantic similarity: a systematic evaluation. BMC Bioinformatics Suppl 5(9), S4\\n\\n^ Landauer, T. K.; Dumais, S. T. (1997). \"A solution to Plato\\'s problem: The latent semantic analysis theory of acquisition, induction, and representation of knowledge\" (PDF). Psychological Review. 104 (2): 211–240. doi:10.1037/0033-295x.104.2.211.\\n\\n^ Landauer, T. K., Foltz, P. W., & Laham, D. (1998). \"Introduction to Latent Semantic Analysis\" (PDF). Discourse Processes. 25 (2–3): 259–284. doi:10.1080/01638539809545028.CS1 maint: Multiple names: authors list (link) \\n\\n^ \"Google Similarity Distance\".\\n\\n^ J. Camacho-Collados, M. T. Pilehvar, and R. Navigli. NASARI: a Novel Approach to a Semantically-Aware Representation of Items. In Proceedings of the North American Chapter of the Association of Computational Linguistics (NAACL 2015), Denver, USA, pp. 567-577, 2015\\n\\n^ J. Camacho-Collados, M. T. Pilehvar, and R. Navigli. A Unified Multilingual Semantic Representation of Concepts.\\nIn Proceedings of the 53rd Annual Meeting of the Association for Computational Linguistics (ACL 2015), Beijing, China, July 27–29, pp. 741-751, 2015\\n\\n^ Fähndrich J., Weber S., Ahrndt S. (2016) Design and Use of a Semantic Similarity Measure for Interoperability Among Agents. In: Klusch M., Unland R., Shehory O., Pokahr A., Ahrndt S. (eds) Multiagent System Technologies. MATES 2016. Lecture Notes in Computer Science, vol 9872. Springer, available at author version\\n\\n^ C. d\\'Amato, S. Staab, and N. Fanizzi. On the influence of description logics ontologies on conceptual similarity. Knowledge Engineering: Practice and Patterns, pages 48-63, 2008 doi:10.1007/978-3-540-87696-0_7\\n\\n^ F. Couto and H. Pinto, The next generation of similarity measures that fully explore the semantics in biomedical ontologies, Journal of Bioinformatics and Computational Biology, vol. in press, 2013. preprint\\n\\n^ Rubenstein, Herbert, and John B. Goodenough. Contextual correlates of synonymy. Communications of the ACM, 8(10):627–633, 1965.\\n\\n']"
      ]
     },
     "execution_count": 5,
     "metadata": {},
     "output_type": "execute_result"
    }
   ],
   "source": [
    "t.find_by_key('6')"
   ]
  },
  {
   "cell_type": "code",
   "execution_count": 71,
   "metadata": {},
   "outputs": [
    {
     "data": {
      "text/plain": [
       "[['1', 'Terminology'],\n",
       " ['2', 'Visualization'],\n",
       " ['3', 'Applications'],\n",
       " ['3.1', 'Biomedical informatics'],\n",
       " ['3.2', 'GeoInformatics'],\n",
       " ['3.3', 'Computational linguistics'],\n",
       " ['3.4', 'Natural language processing'],\n",
       " ['4', 'Measures'],\n",
       " ['4.1', 'Topological similarity'],\n",
       " ['4.1.1', 'Edge-based'],\n",
       " ['4.1.2', 'Node-based'],\n",
       " ['4.1.3', 'Node-and-Relation-Content-based'],\n",
       " ['4.1.4', 'Pairwise'],\n",
       " ['4.1.5', 'Groupwise'],\n",
       " ['4.2', 'Statistical similarity'],\n",
       " ['4.3', 'Semantics-based similarity'],\n",
       " ['4.4', 'Gold standards'],\n",
       " ['5', 'See also'],\n",
       " ['6', 'References'],\n",
       " ['7', 'Sources'],\n",
       " ['8', 'External links'],\n",
       " ['8.1', 'Survey articles'],\n",
       " ['8.2', 'Software'],\n",
       " ['8.3', 'Web services']]"
      ]
     },
     "execution_count": 71,
     "metadata": {},
     "output_type": "execute_result"
    }
   ],
   "source": [
    "t.head"
   ]
  },
  {
   "cell_type": "code",
   "execution_count": null,
   "metadata": {},
   "outputs": [],
   "source": []
  }
 ],
 "metadata": {
  "kernelspec": {
   "display_name": "Python 3",
   "language": "python",
   "name": "python3"
  },
  "language_info": {
   "codemirror_mode": {
    "name": "ipython",
    "version": 3
   },
   "file_extension": ".py",
   "mimetype": "text/x-python",
   "name": "python",
   "nbconvert_exporter": "python",
   "pygments_lexer": "ipython3",
   "version": "3.7.0"
  }
 },
 "nbformat": 4,
 "nbformat_minor": 2
}
